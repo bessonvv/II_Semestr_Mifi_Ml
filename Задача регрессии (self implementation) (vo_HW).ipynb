{
 "cells": [
  {
   "cell_type": "code",
   "execution_count": 141,
   "metadata": {},
   "outputs": [],
   "source": [
    "import numpy as np\n",
    "import pandas as pd\n",
    "from sklearn.model_selection import train_test_split\n",
    "import matplotlib.pyplot as plt"
   ]
  },
  {
   "cell_type": "code",
   "execution_count": 140,
   "metadata": {},
   "outputs": [],
   "source": [
    "class LinearRegression() :\n",
    "\n",
    "    def __init__(self, learning_rate, iterations) :\n",
    "        # Сохраняем параметры во внутренние переменные\n",
    "        self.learning_rate = learning_rate\n",
    "        self.iterations = iterations\n",
    "        self.weights = None \n",
    "        self.bias = None \n",
    "\n",
    "    def fit(self, X, Y) :\n",
    "        # Инициализация коэффициентов регрессии\n",
    "        self.weights = np.zeros(X.shape[1]) \n",
    "        self.bias = 0\n",
    "\n",
    "        for _ in range(self.iterations) :\n",
    "            # Предсказания\n",
    "            self.update_weights(X,Y)\n",
    "           \n",
    "    def update_weights(self,X,Y) :\n",
    "            # здесь код для изменения весов\n",
    "            Y_pred = self.predict(X)\n",
    "            # Ошибки\n",
    "            error = Y_pred - Y\n",
    "\n",
    "            # Градиенты\n",
    "            grad_bias = (1 / X.shape[0]) * np.sum(error)\n",
    "            grad_weights = (1 / X.shape[0]) * X.T.dot(error)\n",
    "            \n",
    "            # Обновление параметров\n",
    "            self.weights -= self.learning_rate * grad_weights\n",
    "            self.bias -= self.learning_rate * grad_bias\n",
    "\n",
    "    def predict( self, X ) :\n",
    "        # Предсказание\n",
    "        return np.dot(X, self.weights) + self.bias"
   ]
  },
  {
   "cell_type": "code",
   "execution_count": 139,
   "metadata": {},
   "outputs": [
    {
     "name": "stdout",
     "output_type": "stream",
     "text": [
      "9876.11\n",
      "22920.49\n"
     ]
    }
   ],
   "source": [
    "df = pd.read_csv('/Users/bessonv/Skillfactory/Анализ данных в Pandas/II SEM/data/asset-v1_SkillFactory+MIFIML-2sem+2025+type@asset+block@salary_data_.csv')\n",
    "\n",
    "X = df.iloc[:,:-1].values\n",
    "Y = df.iloc[:,1].values\n",
    "model = LinearRegression(iterations = 1000, learning_rate = 0.01)\n",
    "model.fit(X, Y)\n",
    "\n",
    "Y_pred = model.predict(X)\n",
    "\n",
    "print(*np.round(model.weights, 2))\n",
    "print(np.round(model.bias, 2))\n"
   ]
  }
 ],
 "metadata": {
  "kernelspec": {
   "display_name": "venv",
   "language": "python",
   "name": "python3"
  },
  "language_info": {
   "codemirror_mode": {
    "name": "ipython",
    "version": 3
   },
   "file_extension": ".py",
   "mimetype": "text/x-python",
   "name": "python",
   "nbconvert_exporter": "python",
   "pygments_lexer": "ipython3",
   "version": "3.13.1"
  }
 },
 "nbformat": 4,
 "nbformat_minor": 2
}
