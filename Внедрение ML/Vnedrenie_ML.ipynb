{
 "cells": [
  {
   "cell_type": "markdown",
   "id": "618579d3",
   "metadata": {},
   "source": [
    "# **1 ИМПОРТ БИБЛИОТЕК**"
   ]
  },
  {
   "cell_type": "code",
   "execution_count": 35,
   "id": "4ac95258",
   "metadata": {},
   "outputs": [],
   "source": [
    "import pandas as pd\n",
    "import numpy as np\n",
    "import matplotlib.pyplot as plt\n",
    "\n",
    "import seaborn as sns\n",
    "import plotly.express as px\n",
    "\n",
    "from statsmodels.stats.proportion import proportions_ztest\n",
    "from scipy.stats import shapiro\n",
    "from scipy.stats import norm\n",
    "from scipy.stats import t\n",
    "from scipy.stats import mannwhitneyu"
   ]
  },
  {
   "cell_type": "markdown",
   "id": "6ca464c4",
   "metadata": {},
   "source": [
    "# **2 ИМПОРТ ДАННЫХ**"
   ]
  },
  {
   "cell_type": "code",
   "execution_count": 36,
   "id": "31f9b102",
   "metadata": {},
   "outputs": [
    {
     "data": {
      "application/vnd.microsoft.datawrangler.viewer.v0+json": {
       "columns": [
        {
         "name": "index",
         "rawType": "int64",
         "type": "integer"
        },
        {
         "name": "user id",
         "rawType": "int64",
         "type": "integer"
        },
        {
         "name": "test group",
         "rawType": "object",
         "type": "string"
        },
        {
         "name": "converted",
         "rawType": "bool",
         "type": "boolean"
        },
        {
         "name": "total ads",
         "rawType": "int64",
         "type": "integer"
        },
        {
         "name": "most ads day",
         "rawType": "object",
         "type": "string"
        },
        {
         "name": "most ads hour",
         "rawType": "int64",
         "type": "integer"
        }
       ],
       "ref": "daf42fd6-25ad-491d-a94c-ac6bc765dd36",
       "rows": [
        [
         "0",
         "1069124",
         "ad",
         "False",
         "130",
         "Monday",
         "20"
        ],
        [
         "1",
         "1119715",
         "ad",
         "False",
         "93",
         "Tuesday",
         "22"
        ],
        [
         "2",
         "1144181",
         "ad",
         "False",
         "21",
         "Tuesday",
         "18"
        ],
        [
         "3",
         "1435133",
         "ad",
         "False",
         "355",
         "Tuesday",
         "10"
        ],
        [
         "4",
         "1015700",
         "ad",
         "False",
         "276",
         "Friday",
         "14"
        ]
       ],
       "shape": {
        "columns": 6,
        "rows": 5
       }
      },
      "text/html": [
       "<div>\n",
       "<style scoped>\n",
       "    .dataframe tbody tr th:only-of-type {\n",
       "        vertical-align: middle;\n",
       "    }\n",
       "\n",
       "    .dataframe tbody tr th {\n",
       "        vertical-align: top;\n",
       "    }\n",
       "\n",
       "    .dataframe thead th {\n",
       "        text-align: right;\n",
       "    }\n",
       "</style>\n",
       "<table border=\"1\" class=\"dataframe\">\n",
       "  <thead>\n",
       "    <tr style=\"text-align: right;\">\n",
       "      <th></th>\n",
       "      <th>user id</th>\n",
       "      <th>test group</th>\n",
       "      <th>converted</th>\n",
       "      <th>total ads</th>\n",
       "      <th>most ads day</th>\n",
       "      <th>most ads hour</th>\n",
       "    </tr>\n",
       "  </thead>\n",
       "  <tbody>\n",
       "    <tr>\n",
       "      <th>0</th>\n",
       "      <td>1069124</td>\n",
       "      <td>ad</td>\n",
       "      <td>False</td>\n",
       "      <td>130</td>\n",
       "      <td>Monday</td>\n",
       "      <td>20</td>\n",
       "    </tr>\n",
       "    <tr>\n",
       "      <th>1</th>\n",
       "      <td>1119715</td>\n",
       "      <td>ad</td>\n",
       "      <td>False</td>\n",
       "      <td>93</td>\n",
       "      <td>Tuesday</td>\n",
       "      <td>22</td>\n",
       "    </tr>\n",
       "    <tr>\n",
       "      <th>2</th>\n",
       "      <td>1144181</td>\n",
       "      <td>ad</td>\n",
       "      <td>False</td>\n",
       "      <td>21</td>\n",
       "      <td>Tuesday</td>\n",
       "      <td>18</td>\n",
       "    </tr>\n",
       "    <tr>\n",
       "      <th>3</th>\n",
       "      <td>1435133</td>\n",
       "      <td>ad</td>\n",
       "      <td>False</td>\n",
       "      <td>355</td>\n",
       "      <td>Tuesday</td>\n",
       "      <td>10</td>\n",
       "    </tr>\n",
       "    <tr>\n",
       "      <th>4</th>\n",
       "      <td>1015700</td>\n",
       "      <td>ad</td>\n",
       "      <td>False</td>\n",
       "      <td>276</td>\n",
       "      <td>Friday</td>\n",
       "      <td>14</td>\n",
       "    </tr>\n",
       "  </tbody>\n",
       "</table>\n",
       "</div>"
      ],
      "text/plain": [
       "   user id test group  converted  total ads most ads day  most ads hour\n",
       "0  1069124         ad      False        130       Monday             20\n",
       "1  1119715         ad      False         93      Tuesday             22\n",
       "2  1144181         ad      False         21      Tuesday             18\n",
       "3  1435133         ad      False        355      Tuesday             10\n",
       "4  1015700         ad      False        276       Friday             14"
      ]
     },
     "execution_count": 36,
     "metadata": {},
     "output_type": "execute_result"
    }
   ],
   "source": [
    "df = pd.read_csv('D:\\mifi\\myvenv\\MLOPS\\marketing_AB.csv', index_col=0)\n",
    "df.head()"
   ]
  },
  {
   "cell_type": "markdown",
   "id": "92404c80",
   "metadata": {},
   "source": [
    "## **2.1 ИССЛЕДОВАНИЕ ДАННЫХ**"
   ]
  },
  {
   "cell_type": "markdown",
   "id": "c7c911d4",
   "metadata": {},
   "source": [
    "### **Форма датасета**"
   ]
  },
  {
   "cell_type": "code",
   "execution_count": 37,
   "id": "95023159",
   "metadata": {},
   "outputs": [
    {
     "name": "stdout",
     "output_type": "stream",
     "text": [
      "Количество строк: 588101, количество столбцов: 6\n"
     ]
    }
   ],
   "source": [
    "print(f'Количество строк: {df.shape[0]}, количество столбцов: {df.shape[1]}')"
   ]
  },
  {
   "cell_type": "markdown",
   "id": "92611dbb",
   "metadata": {},
   "source": [
    "### **Словарь данных:**\n",
    "\n",
    "**user id:** Идентификатор пользователя (уникальный).\n",
    "\n",
    "**test group:** Если \"ad\", то человек видел рекламу, если \"psa\", то он видел только объявление государственной службы.\n",
    "\n",
    "**converted:** Если человек купил продукт, то True, иначе False.\n",
    "\n",
    "**total ads:** Количество рекламы, увиденной человеком.\n",
    "\n",
    "**most ads day:** День, в который человек увидел наибольшее количество рекламы.\n",
    "\n",
    "**most ads hour:** Час дня, в который человек увидел наибольшее количество рекламы."
   ]
  },
  {
   "cell_type": "code",
   "execution_count": 38,
   "id": "a4aa55c3",
   "metadata": {},
   "outputs": [
    {
     "name": "stdout",
     "output_type": "stream",
     "text": [
      "<class 'pandas.core.frame.DataFrame'>\n",
      "Index: 588101 entries, 0 to 588100\n",
      "Data columns (total 6 columns):\n",
      " #   Column         Non-Null Count   Dtype \n",
      "---  ------         --------------   ----- \n",
      " 0   user id        588101 non-null  int64 \n",
      " 1   test group     588101 non-null  object\n",
      " 2   converted      588101 non-null  bool  \n",
      " 3   total ads      588101 non-null  int64 \n",
      " 4   most ads day   588101 non-null  object\n",
      " 5   most ads hour  588101 non-null  int64 \n",
      "dtypes: bool(1), int64(3), object(2)\n",
      "memory usage: 27.5+ MB\n"
     ]
    }
   ],
   "source": [
    "df.info()"
   ]
  },
  {
   "cell_type": "markdown",
   "id": "0cb75cdc",
   "metadata": {},
   "source": [
    "### **Анализ пользователей**\n",
    "\n",
    "Проанализируем пользователей: Есть ли среди них те, кто попали в обе тестовые группы?"
   ]
  },
  {
   "cell_type": "code",
   "execution_count": 39,
   "id": "5f0ec211",
   "metadata": {},
   "outputs": [
    {
     "name": "stdout",
     "output_type": "stream",
     "text": [
      "Кол-во пользователей, попавших в обе группы: 0\n"
     ]
    }
   ],
   "source": [
    "intersection_users = list(set(df[df['test group'] == 'ad']['user id'].values) & set(df[df['test group'] == 'psa']['user id'].values))\n",
    "print('Кол-во пользователей, попавших в обе группы:', len(intersection_users))"
   ]
  },
  {
   "cell_type": "markdown",
   "id": "4fa5f3fc",
   "metadata": {},
   "source": [
    "Проанализируем количество уникальных пользователей"
   ]
  },
  {
   "cell_type": "code",
   "execution_count": 45,
   "id": "2cd0fe29",
   "metadata": {},
   "outputs": [
    {
     "data": {
      "text/plain": [
       "588101"
      ]
     },
     "execution_count": 45,
     "metadata": {},
     "output_type": "execute_result"
    }
   ],
   "source": [
    "df['user id'].nunique()"
   ]
  },
  {
   "cell_type": "markdown",
   "id": "64075743",
   "metadata": {},
   "source": [
    "Количество пользоветелей совпадает с количеством уникальных"
   ]
  },
  {
   "cell_type": "markdown",
   "id": "c6cb3eb4",
   "metadata": {},
   "source": [
    "### **Структурный анализ**\n",
    "Посмотрим на графиках распределение максимального показа рекламы по дням недели и часам по группам."
   ]
  },
  {
   "cell_type": "code",
   "execution_count": 40,
   "id": "c4d9e8b5",
   "metadata": {},
   "outputs": [],
   "source": [
    "# фильтруем данные группы ad\n",
    "ad_data = df[df['test group'] == 'ad']\n",
    "# фильтруем данные группы psa\n",
    "psa_data = df[df['test group'] == 'psa']"
   ]
  },
  {
   "cell_type": "markdown",
   "id": "ec7dd3a0",
   "metadata": {},
   "source": [
    "### **Сравнение по most ads day**"
   ]
  },
  {
   "cell_type": "code",
   "execution_count": null,
   "id": "28e2f5ea",
   "metadata": {},
   "outputs": [
    {
     "data": {
      "image/png": "[encoded data removed]",
      "text/plain": [
       "<Figure size 1600x400 with 2 Axes>"
      ]
     },
     "metadata": {},
     "output_type": "display_data"
    }
   ],
   "source": [
    "# Инициализация рамкии осей\n",
    "fig, axes = plt.subplots(1, 2, figsize=(16, 4))\n",
    "\n",
    "# Строим гистограммы\n",
    "sns.histplot(x='most ads day', data=ad_data, ax=axes[0], color='red')\n",
    "sns.histplot(x='most ads day', data=psa_data, ax=axes[1])\n",
    "\n",
    "# Названия для графиков\n",
    "fig.suptitle('Распределение наибольшего количества рекламы most ads day', fontsize=16)\n",
    "axes[0].set_title('в группе ad');\n",
    "axes[1].set_title('в группе psa');\n",
    "plt.tight_layout(rect=[0, 0, 1, 0.96])"
   ]
  },
  {
   "cell_type": "markdown",
   "id": "219b2167",
   "metadata": {},
   "source": [
    "### **Сравнение по most ads hour**"
   ]
  },
  {
   "cell_type": "code",
   "execution_count": null,
   "id": "e914798b",
   "metadata": {},
   "outputs": [
    {
     "data": {
      "image/png": "[encoded data removed]",
      "text/plain": [
       "<Figure size 1600x400 with 2 Axes>"
      ]
     },
     "metadata": {},
     "output_type": "display_data"
    }
   ],
   "source": [
    "# Инициализация рамкии осей\n",
    "fig, axes = plt.subplots(1, 2, figsize=(16, 4))\n",
    "\n",
    "# Строим гистограммы\n",
    "sns.histplot(x='most ads hour', data=ad_data, ax=axes[0], color ='red')\n",
    "sns.histplot(x='most ads hour', data=psa_data, ax=axes[1])\n",
    "\n",
    "# Названия для графиков\n",
    "fig.suptitle('Распределение наибольшего количества рекламы по most ads hour', fontsize=16)\n",
    "axes[0].set_title('в группе ad');\n",
    "axes[1].set_title('в группе psa');\n",
    "plt.tight_layout(rect=[0, 0, 1, 0.96])"
   ]
  },
  {
   "cell_type": "markdown",
   "id": "50a57dbe",
   "metadata": {},
   "source": [
    "У тестовых групп ad и psa не отличается распределение наибольшего количества рекламы по most ads hour, в связи с этим этот признак не является важным."
   ]
  },
  {
   "cell_type": "markdown",
   "id": "753df171",
   "metadata": {},
   "source": [
    "# **3 ПРЕДОБРАБОТКА ДАННЫХ**"
   ]
  },
  {
   "cell_type": "markdown",
   "id": "6825640b",
   "metadata": {},
   "source": [
    "Приведем данные к нормальному виду:\n",
    "\n",
    "- object -> category\n",
    "\n",
    "- bool -> int"
   ]
  },
  {
   "cell_type": "code",
   "execution_count": 42,
   "id": "a8270038",
   "metadata": {},
   "outputs": [
    {
     "name": "stdout",
     "output_type": "stream",
     "text": [
      "<class 'pandas.core.frame.DataFrame'>\n",
      "Index: 588101 entries, 0 to 588100\n",
      "Data columns (total 6 columns):\n",
      " #   Column         Non-Null Count   Dtype   \n",
      "---  ------         --------------   -----   \n",
      " 0   user id        588101 non-null  int64   \n",
      " 1   test group     588101 non-null  category\n",
      " 2   converted      588101 non-null  int64   \n",
      " 3   total ads      588101 non-null  int64   \n",
      " 4   most ads day   588101 non-null  category\n",
      " 5   most ads hour  588101 non-null  int64   \n",
      "dtypes: category(2), int64(4)\n",
      "memory usage: 23.6 MB\n"
     ]
    }
   ],
   "source": [
    "# object -> category\n",
    "df['test group'] = df['test group'].astype('category')\n",
    "df['most ads day'] = df['most ads day'].astype('category')\n",
    "\n",
    "# bool -> int\n",
    "df['converted'] = df['converted'].astype(int)\n",
    "\n",
    "# Демонастрация типов данных\n",
    "df.info()"
   ]
  },
  {
   "cell_type": "markdown",
   "id": "51d99714",
   "metadata": {},
   "source": [
    "### **Удаление признаков**"
   ]
  },
  {
   "cell_type": "code",
   "execution_count": 44,
   "id": "4925b774",
   "metadata": {},
   "outputs": [],
   "source": [
    "df = df.drop(columns=['most ads day', 'most ads hour'])"
   ]
  },
  {
   "cell_type": "markdown",
   "id": "bf2457be",
   "metadata": {},
   "source": [
    "# **4 РЕШЕНИЕ**"
   ]
  },
  {
   "cell_type": "markdown",
   "id": "d7a5bcb2",
   "metadata": {},
   "source": [
    "### **Посчитаем количество посещений и количество покупок по группам**"
   ]
  },
  {
   "cell_type": "code",
   "execution_count": 46,
   "id": "88bbcf44",
   "metadata": {},
   "outputs": [
    {
     "name": "stderr",
     "output_type": "stream",
     "text": [
      "C:\\Users\\d.bessonov\\AppData\\Local\\Temp\\ipykernel_37724\\3380360057.py:1: FutureWarning:\n",
      "\n",
      "The default of observed=False is deprecated and will be changed to True in a future version of pandas. Pass observed=False to retain current behavior or observed=True to adopt the future default and silence this warning.\n",
      "\n"
     ]
    },
    {
     "data": {
      "application/vnd.microsoft.datawrangler.viewer.v0+json": {
       "columns": [
        {
         "name": "test group",
         "rawType": "category",
         "type": "unknown"
        },
        {
         "name": "count_of_visits",
         "rawType": "int64",
         "type": "integer"
        },
        {
         "name": "count_of_purchases",
         "rawType": "int64",
         "type": "integer"
        },
        {
         "name": "total ads",
         "rawType": "int64",
         "type": "integer"
        }
       ],
       "ref": "8cefd53f-7649-45aa-918d-50ff1b28d313",
       "rows": [
        [
         "ad",
         "564577",
         "14423",
         "14014701"
        ],
        [
         "psa",
         "23524",
         "420",
         "582481"
        ]
       ],
       "shape": {
        "columns": 3,
        "rows": 2
       }
      },
      "text/html": [
       "<div>\n",
       "<style scoped>\n",
       "    .dataframe tbody tr th:only-of-type {\n",
       "        vertical-align: middle;\n",
       "    }\n",
       "\n",
       "    .dataframe tbody tr th {\n",
       "        vertical-align: top;\n",
       "    }\n",
       "\n",
       "    .dataframe thead th {\n",
       "        text-align: right;\n",
       "    }\n",
       "</style>\n",
       "<table border=\"1\" class=\"dataframe\">\n",
       "  <thead>\n",
       "    <tr style=\"text-align: right;\">\n",
       "      <th></th>\n",
       "      <th>count_of_visits</th>\n",
       "      <th>count_of_purchases</th>\n",
       "      <th>total ads</th>\n",
       "    </tr>\n",
       "    <tr>\n",
       "      <th>test group</th>\n",
       "      <th></th>\n",
       "      <th></th>\n",
       "      <th></th>\n",
       "    </tr>\n",
       "  </thead>\n",
       "  <tbody>\n",
       "    <tr>\n",
       "      <th>ad</th>\n",
       "      <td>564577</td>\n",
       "      <td>14423</td>\n",
       "      <td>14014701</td>\n",
       "    </tr>\n",
       "    <tr>\n",
       "      <th>psa</th>\n",
       "      <td>23524</td>\n",
       "      <td>420</td>\n",
       "      <td>582481</td>\n",
       "    </tr>\n",
       "  </tbody>\n",
       "</table>\n",
       "</div>"
      ],
      "text/plain": [
       "            count_of_visits  count_of_purchases  total ads\n",
       "test group                                                \n",
       "ad                   564577               14423   14014701\n",
       "psa                   23524                 420     582481"
      ]
     },
     "execution_count": 46,
     "metadata": {},
     "output_type": "execute_result"
    }
   ],
   "source": [
    "grouped_data = df.groupby('test group').agg({\n",
    "    'user id': 'count',\n",
    "    'converted': 'sum',\n",
    "    'total ads': 'sum'\n",
    "}).rename({'user id': 'count_of_visits', \n",
    "           'converted': 'count_of_purchases'}, axis=1)\n",
    "grouped_data"
   ]
  },
  {
   "cell_type": "markdown",
   "id": "f6b09c33",
   "metadata": {},
   "source": [
    "### **Конверсия и среднее количество показов рекламы**"
   ]
  },
  {
   "cell_type": "code",
   "execution_count": null,
   "id": "356f6f91",
   "metadata": {},
   "outputs": [
    {
     "data": {
      "application/vnd.microsoft.datawrangler.viewer.v0+json": {
       "columns": [
        {
         "name": "test group",
         "rawType": "category",
         "type": "unknown"
        },
        {
         "name": "count_of_visits",
         "rawType": "int64",
         "type": "integer"
        },
        {
         "name": "count_of_purchases",
         "rawType": "int64",
         "type": "integer"
        },
        {
         "name": "total ads",
         "rawType": "int64",
         "type": "integer"
        },
        {
         "name": "conversion",
         "rawType": "float64",
         "type": "float"
        },
        {
         "name": "mean ads",
         "rawType": "float64",
         "type": "float"
        }
       ],
       "ref": "f0f82134-5e50-4e6e-a979-472323edf115",
       "rows": [
        [
         "ad",
         "564577",
         "14423",
         "14014701",
         "2.5546559636683748",
         "24.823365103431417"
        ],
        [
         "psa",
         "23524",
         "420",
         "582481",
         "1.785410644448223",
         "24.761137561639178"
        ]
       ],
       "shape": {
        "columns": 5,
        "rows": 2
       }
      },
      "text/html": [
       "<div>\n",
       "<style scoped>\n",
       "    .dataframe tbody tr th:only-of-type {\n",
       "        vertical-align: middle;\n",
       "    }\n",
       "\n",
       "    .dataframe tbody tr th {\n",
       "        vertical-align: top;\n",
       "    }\n",
       "\n",
       "    .dataframe thead th {\n",
       "        text-align: right;\n",
       "    }\n",
       "</style>\n",
       "<table border=\"1\" class=\"dataframe\">\n",
       "  <thead>\n",
       "    <tr style=\"text-align: right;\">\n",
       "      <th></th>\n",
       "      <th>count_of_visits</th>\n",
       "      <th>count_of_purchases</th>\n",
       "      <th>total ads</th>\n",
       "      <th>conversion</th>\n",
       "      <th>mean ads</th>\n",
       "    </tr>\n",
       "    <tr>\n",
       "      <th>test group</th>\n",
       "      <th></th>\n",
       "      <th></th>\n",
       "      <th></th>\n",
       "      <th></th>\n",
       "      <th></th>\n",
       "    </tr>\n",
       "  </thead>\n",
       "  <tbody>\n",
       "    <tr>\n",
       "      <th>ad</th>\n",
       "      <td>564577</td>\n",
       "      <td>14423</td>\n",
       "      <td>14014701</td>\n",
       "      <td>2.554656</td>\n",
       "      <td>24.823365</td>\n",
       "    </tr>\n",
       "    <tr>\n",
       "      <th>psa</th>\n",
       "      <td>23524</td>\n",
       "      <td>420</td>\n",
       "      <td>582481</td>\n",
       "      <td>1.785411</td>\n",
       "      <td>24.761138</td>\n",
       "    </tr>\n",
       "  </tbody>\n",
       "</table>\n",
       "</div>"
      ],
      "text/plain": [
       "            count_of_visits  count_of_purchases  total ads  conversion  \\\n",
       "test group                                                               \n",
       "ad                   564577               14423   14014701    2.554656   \n",
       "psa                   23524                 420     582481    1.785411   \n",
       "\n",
       "             mean ads  \n",
       "test group             \n",
       "ad          24.823365  \n",
       "psa         24.761138  "
      ]
     },
     "execution_count": 47,
     "metadata": {},
     "output_type": "execute_result"
    }
   ],
   "source": [
    "# Конверсия\n",
    "grouped_data['conversion'] = grouped_data['count_of_purchases'] / grouped_data['count_of_visits'] * 100\n",
    "# Среднее кол-во показов\n",
    "grouped_data['mean ads'] = grouped_data['total ads'] / grouped_data['count_of_visits']\n",
    "\n",
    "display(grouped_data)"
   ]
  },
  {
   "cell_type": "markdown",
   "id": "a9991904",
   "metadata": {},
   "source": [
    "По полученным расчетам видим, что в группе, которой показывали рекламу, конверсия значительно выше, чем в контрольной при примерно одинаковом среднем количестве просмотренных роликов.\n",
    "\n",
    "Проведем статистические тесты для проверки значимости полученных результатов."
   ]
  },
  {
   "cell_type": "markdown",
   "id": "7e92a1aa",
   "metadata": {},
   "source": [
    "### **Статистический тест для конверсии**\n",
    "\n",
    "Сформулируем следующие гипотезы:\n",
    "- Нулевая: конверсии в группах A(AD) и B(PSA) равны\n",
    "- Альтернативная: конверсии в группах A(AD) и B(PSA) не равны\n",
    "\n",
    "Используем Z-тест для пропорций."
   ]
  },
  {
   "cell_type": "code",
   "execution_count": 48,
   "id": "cb1b77fb",
   "metadata": {},
   "outputs": [
    {
     "name": "stdout",
     "output_type": "stream",
     "text": [
      "p-value:  0.0\n",
      "Отвергаем нулевую гипотезу в пользу альтернативной\n"
     ]
    }
   ],
   "source": [
    "alpha = 0.05 # уровень значимости\n",
    "# вычисляем значение p-value для z-теста для пропорций\n",
    "_, p_value = proportions_ztest(\n",
    "    count=grouped_data['count_of_purchases'], #число «успехов»\n",
    "    nobs=grouped_data['count_of_visits'], #общее число наблюдений\n",
    "    alternative='two-sided',\n",
    ")\n",
    "# выводим результат на экран\n",
    "print('p-value: ', round(p_value, 3))\n",
    "# сравниваем полученное p-value с уровнем значимости\n",
    "if (p_value <= alpha):\n",
    "    print(\"Отвергаем нулевую гипотезу в пользу альтернативной\")\n",
    "else:\n",
    "    print(\"У нас нет оснований отвергнуть нулевую гипотезу\")"
   ]
  },
  {
   "cell_type": "markdown",
   "id": "45512627",
   "metadata": {},
   "source": [
    "**Вывод:** Согласно результатом теста, при уровне значимости 0.05, мы можем утверждать, что конверсии отличаются."
   ]
  },
  {
   "cell_type": "markdown",
   "id": "ff83dbaa",
   "metadata": {},
   "source": [
    "### **Статистический тест для среднего количества показанной рекламы**\n",
    "\n",
    "Посмотрим на графиках на распределение количества показанной рекламы."
   ]
  },
  {
   "cell_type": "code",
   "execution_count": 69,
   "id": "a0be5243",
   "metadata": {},
   "outputs": [
    {
     "data": {
      "image/png": "[encoded data removed]",
      "text/plain": [
       "<Figure size 1000x600 with 1 Axes>"
      ]
     },
     "metadata": {},
     "output_type": "display_data"
    },
    {
     "data": {
      "image/png": "[encoded data removed]",
      "text/plain": [
       "<Figure size 1000x600 with 1 Axes>"
      ]
     },
     "metadata": {},
     "output_type": "display_data"
    }
   ],
   "source": [
    "# График для ad_data\n",
    "plt.figure(figsize=(10, 6))\n",
    "sns.histplot(ad_data['total ads'], bins=50, kde=False, color='skyblue')\n",
    "plt.title('Распределение ежедневного среднего количества показанной рекламы в группе AD')\n",
    "plt.xlabel('Количество рекламы')\n",
    "plt.ylabel('Частота')\n",
    "plt.grid(axis='y', alpha=0.75)\n",
    "plt.tight_layout()\n",
    "plt.show()\n",
    "\n",
    "# График для psa_data\n",
    "plt.figure(figsize=(10, 6))\n",
    "sns.histplot(psa_data['total ads'], bins=50, kde=False, color='salmon')\n",
    "plt.title('Распределение ежедневного среднего количества показанной рекламы в группе PSA')\n",
    "plt.xlabel('Количество рекламы')\n",
    "plt.ylabel('Частота')\n",
    "plt.grid(axis='y', alpha=0.75)\n",
    "plt.tight_layout()\n",
    "plt.show()"
   ]
  },
  {
   "cell_type": "markdown",
   "id": "5800492c",
   "metadata": {},
   "source": [
    "На графиках видно, что распределение не выглядит нормальным, а похоже на логнормальное.\n",
    "\n",
    "Проверим наблюдение с помощью теста Шапиро-Уилка. \n",
    "\n",
    "Сформулируем гипотезы:\n",
    "- Нулевая: распределения количества показанных роликов в группах AD и PSA нормальны\n",
    "- Альтернативная: распределения количества показанных роликов в группах AD и PSA отличаются от нормальных"
   ]
  },
  {
   "cell_type": "code",
   "execution_count": 50,
   "id": "a482ddb6",
   "metadata": {},
   "outputs": [
    {
     "name": "stdout",
     "output_type": "stream",
     "text": [
      "p-value группы AD 0.0\n",
      "p-value группы PSA 0.0\n",
      "Отвергаем нулевую гипотезу в пользу альтернативной. Распределение в группе AD отлично от нормального\n",
      "Отвергаем нулевую гипотезу в пользу альтернативной. Распределение в группе PSA отлично от нормального\n"
     ]
    },
    {
     "name": "stderr",
     "output_type": "stream",
     "text": [
      "d:\\mifi\\myvenv\\Lib\\site-packages\\scipy\\stats\\_axis_nan_policy.py:586: UserWarning:\n",
      "\n",
      "scipy.stats.shapiro: For N > 5000, computed p-value may not be accurate. Current N is 564577.\n",
      "\n",
      "d:\\mifi\\myvenv\\Lib\\site-packages\\scipy\\stats\\_axis_nan_policy.py:586: UserWarning:\n",
      "\n",
      "scipy.stats.shapiro: For N > 5000, computed p-value may not be accurate. Current N is 23524.\n",
      "\n"
     ]
    }
   ],
   "source": [
    "alpha = 0.05 # уровень значимости\n",
    "# вычисляем результат теста Шапиро — Уилка для выборок\n",
    "shapiro_result_ad = shapiro(ad_data['total ads'])\n",
    "shapiro_result_psa = shapiro(psa_data['total ads'])\n",
    "print('p-value группы AD', round(shapiro_result_ad.pvalue, 2))\n",
    "print('p-value группы PSA', round(shapiro_result_psa.pvalue, 2))\n",
    "\n",
    "# сравниваем полученное p-value для группы AD с уровнем значимости\n",
    "if shapiro_result_ad.pvalue <= alpha:\n",
    "    print(\"Отвергаем нулевую гипотезу в пользу альтернативной. Распределение в группе AD отлично от нормального\")\n",
    "else:\n",
    "    print(\"Принимаем нулевую гипотезу. Распределение в группе AD является нормальным\")\n",
    "\n",
    "# сравниваем полученное p-value для группы PSA с уровнем значимости\n",
    "if shapiro_result_psa.pvalue <= alpha:\n",
    "    print(\"Отвергаем нулевую гипотезу в пользу альтернативной. Распределение в группе PSA отлично от нормального\")\n",
    "else:\n",
    "    print(\"Принимаем нулевую гипотезу. Распределение в группе PSA является нормальным\")"
   ]
  },
  {
   "cell_type": "markdown",
   "id": "c45e1d7a",
   "metadata": {},
   "source": [
    "Тест подтвердил, что распределение количества показанных роликов отличается от нормального, поэтому для дальнейшей проверки воспользуемся тестом Манна-Уитни.\n",
    "\n",
    "Сформулируем гипотезы:\n",
    "- Нулевая: распределения количества показанных роликов в группах AD и PSA совпадают\n",
    "- Альтернативная: распределения количества показанных роликов в группах AD и PSA различаются"
   ]
  },
  {
   "cell_type": "code",
   "execution_count": 51,
   "id": "095bba2b",
   "metadata": {},
   "outputs": [
    {
     "name": "stdout",
     "output_type": "stream",
     "text": [
      "p-value: 0.0\n",
      "Отвергаем нулевую гипотезу в пользу альтернативной\n"
     ]
    }
   ],
   "source": [
    "alpha = 0.05 # уровень значимости\n",
    "\n",
    "# вычисляем результат теста Манна — Уитни для выборок\n",
    "results = mannwhitneyu(\n",
    "    x=ad_data['total ads'],\n",
    "    y=psa_data['total ads'],\n",
    "    alternative='two-sided',\n",
    ")\n",
    "\n",
    "print('p-value:', round(float(results.pvalue), 4))\n",
    "\n",
    "# сравниваем полученное p-value с уровнем значимости\n",
    "if results.pvalue <= alpha:\n",
    "    print(\"Отвергаем нулевую гипотезу в пользу альтернативной\")\n",
    "else:\n",
    "    print(\"У нас нет оснований отвергнуть нулевую гипотезу\")\n"
   ]
  },
  {
   "cell_type": "markdown",
   "id": "e0d34f53",
   "metadata": {},
   "source": [
    "Тест показал, что при уровне значимости 0,05 распределения в количестве показов роликов различаются."
   ]
  },
  {
   "cell_type": "markdown",
   "id": "e87b177d",
   "metadata": {},
   "source": [
    "### **Доверительный интервал для конверсии**\n",
    "\n",
    "Напишем функцию, вычисляющую доверительный интервал для пропорций."
   ]
  },
  {
   "cell_type": "code",
   "execution_count": null,
   "id": "375c0d4e",
   "metadata": {},
   "outputs": [],
   "source": [
    "def proportion_conf_interval(x_p, n, gamma=0.95):  \n",
    "    # уровень значимости\n",
    "    alpha = 1 - gamma \n",
    "\n",
    "    # z-критическое\n",
    "    z_crit = -norm.ppf(alpha/2) \n",
    "    # погрешность\n",
    "    eps = z_crit * (x_p * (1 - x_p) / n) ** 0.5 \n",
    "\n",
    "    # левая (нижняя) граница\n",
    "    lower_bound = x_p - eps\n",
    "    # правая (верхняя) граница \n",
    "    upper_bound = x_p + eps \n",
    "    # возвращаем кортеж из границ интервала\n",
    "    return lower_bound, upper_bound"
   ]
  },
  {
   "cell_type": "code",
   "execution_count": 53,
   "id": "26b6726e",
   "metadata": {},
   "outputs": [
    {
     "name": "stdout",
     "output_type": "stream",
     "text": [
      "С вероятностью 95% в группе AD значение конверсии лежит в интервале между 2.51 и 2.6\n",
      "С вероятностью 95% в группе PSA значение конверсии лежит в интервале между 1.62 и 1.95\n"
     ]
    }
   ],
   "source": [
    "# строим доверительный интервал для конверсии в группе AD\n",
    "lower_bound_ad, upper_bound_ad  = proportion_conf_interval(\n",
    "    x_p=ad_data['converted'].mean(), # выборочная пропорция\n",
    "    n=ad_data['user id'].count() # размер выборки\n",
    ")\n",
    "\n",
    "# строим доверительный интервал для конверсии в группе PSA\n",
    "lower_bound_psa, upper_bound_psa  = proportion_conf_interval(\n",
    "    x_p=psa_data['converted'].mean(), # выборочная пропорция\n",
    "    n=psa_data['user id'].count() # размер выборки\n",
    ")\n",
    "\n",
    "# выводим результат\n",
    "print(f'С вероятностью 95% в группе AD значение конверсии лежит в интервале между {round(float(lower_bound_ad) * 100, 2)} и {round(float(upper_bound_ad) * 100, 2)}')\n",
    "print(f'С вероятностью 95% в группе PSA значение конверсии лежит в интервале между {round(float(lower_bound_psa) * 100, 2)} и {round(float(upper_bound_psa) * 100, 2)}')\n"
   ]
  },
  {
   "cell_type": "markdown",
   "id": "7a9a66d3",
   "metadata": {},
   "source": [
    "### **Доверительный интервал для разности конверсий**\n",
    "\n",
    "Напишем функцию, вычисляющую доверительный интервал для разности пропорций."
   ]
  },
  {
   "cell_type": "code",
   "execution_count": 54,
   "id": "c3a4c262",
   "metadata": {},
   "outputs": [],
   "source": [
    "def diff_proportion_conf_interval(x_p, n, gamma=0.95):\n",
    "    alpha = 1 - gamma # уровень значимости\n",
    "    diff = x_p[1] - x_p[0] # выборочная разница конверсий групп AD и PSA\n",
    "    z_crit = -norm.ppf(alpha/2) #z-критическое\n",
    "    eps = z_crit * (x_p[0] * (1 - x_p[0])/n[0] + x_p[1] * (1 - x_p[1])/n[1]) ** 0.5 # погрешность\n",
    "    lower_bound = diff - eps # левая (нижняя) граница\n",
    "    upper_bound = diff + eps # правая (верхняя) граница\n",
    "    # возвращаем кортеж из  границ интервала\n",
    "    return lower_bound, upper_bound"
   ]
  },
  {
   "cell_type": "code",
   "execution_count": 55,
   "id": "86a0349f",
   "metadata": {},
   "outputs": [
    {
     "name": "stdout",
     "output_type": "stream",
     "text": [
      "С вероятностью 95% разность конверсий лежит в интервале между -0.94 и -0.6\n"
     ]
    }
   ],
   "source": [
    "# размеры выборок групп AD и PSA\n",
    "n = [ad_data['user id'].count(), psa_data['user id'].count()]\n",
    "# выборочная пропорция групп AD и PSA\n",
    "x_p = [ad_data['converted'].mean(), psa_data['converted'].mean()]\n",
    "\n",
    "# строим доверительный интервал для разности пропорций\n",
    "lower_bound, upper_bound = diff_proportion_conf_interval(x_p=x_p, n=n)\n",
    "\n",
    "# выводим результат\n",
    "print(f'С вероятностью 95% разность конверсий лежит в интервале между {round(float(lower_bound) * 100, 2)} и {round(float(upper_bound) * 100, 2)}')"
   ]
  },
  {
   "cell_type": "markdown",
   "id": "cf97ac11",
   "metadata": {},
   "source": [
    "Видим, что с вероятностью 95% конверсия в группе AD будет выше, чем в группе PSA."
   ]
  },
  {
   "cell_type": "markdown",
   "id": "dbaf0813",
   "metadata": {},
   "source": [
    "### **Доверительный интервал для среднего количества увиденной рекламы**\n",
    "\n",
    "Воспользуемся функцией из библиотеки SciPy и построим доверительные интервалы для среднего количества увиденной рекламы в каждой из групп и во всей выборке."
   ]
  },
  {
   "cell_type": "code",
   "execution_count": 56,
   "id": "e33f16dc",
   "metadata": {},
   "outputs": [
    {
     "name": "stdout",
     "output_type": "stream",
     "text": [
      "Доверительный интервал в группе AD: (24.71, 24.94)\n",
      "Доверительный интервал в группе PSA: (24.21, 25.31)\n",
      "Доверительный интервал по всей выборке: (24.71, 24.93)\n"
     ]
    }
   ],
   "source": [
    "mean_ad = ad_data['total ads'].mean()\n",
    "std_ad = ad_data['total ads'].std()\n",
    "n_ad = len(ad_data['total ads'])\n",
    "\n",
    "# Рассчитываем стандартную ошибку\n",
    "sem_ad = std_ad / np.sqrt(n_ad)\n",
    "\n",
    "# строим доверительный интервал для среднего при неизвестном СКО\n",
    "lower_ad, upper_ad = t.interval(0.95, df=n_ad-1, loc=mean_ad, scale=sem_ad)\n",
    "\n",
    "mean_psa = psa_data['total ads'].mean()\n",
    "std_psa = psa_data['total ads'].std()\n",
    "n_psa = len(psa_data['total ads'])\n",
    "\n",
    "# Рассчитываем стандартную ошибку\n",
    "sem_psa = std_psa / np.sqrt(n_psa)\n",
    "\n",
    "# строим доверительный интервал для среднего при неизвестном СКО\n",
    "lower_psa, upper_psa = t.interval(0.95, df=n_psa-1, loc=mean_psa, scale=sem_psa)\n",
    "\n",
    "mean = df['total ads'].mean()\n",
    "std = df['total ads'].std()\n",
    "n = len(df['total ads'])\n",
    "\n",
    "# Рассчитываем стандартную ошибку\n",
    "sem = std / np.sqrt(n)\n",
    "\n",
    "# строим доверительный интервал для среднего при неизвестном СКО\n",
    "lower, upper = t.interval(0.95, df=n-1, loc=mean, scale=sem)\n",
    "\n",
    "\n",
    "print('Доверительный интервал в группе AD: {}'.format((round(float(lower_ad), 2), round(float(upper_ad), 2))))\n",
    "print('Доверительный интервал в группе PSA: {}'.format((round(float(lower_psa), 2), round(float(upper_psa), 2))))\n",
    "print('Доверительный интервал по всей выборке: {}'.format((round(float(lower), 2), round(float(upper), 2))))\n"
   ]
  },
  {
   "cell_type": "markdown",
   "id": "b83f1505",
   "metadata": {},
   "source": [
    "Видим, что доверительные интервалы довольно и близки и можем сказать, что в генеральной совокупности среднее количество показанных роликов с вероятностью 95% будет лежать в диапазоне между 24.71 и 24.93."
   ]
  },
  {
   "cell_type": "markdown",
   "id": "c57efa74",
   "metadata": {},
   "source": [
    "# **ИТОГИ**\n",
    "\n",
    "В результате проведенного исследования, мы можем утверждать, что с вероятностью 95% проведение рекламной компании повысит конверсию на величину в диапозоне от 0,6 до 0.94.\n"
   ]
  }
 ],
 "metadata": {
  "kernelspec": {
   "display_name": "myvenv",
   "language": "python",
   "name": "python3"
  },
  "language_info": {
   "codemirror_mode": {
    "name": "ipython",
    "version": 3
   },
   "file_extension": ".py",
   "mimetype": "text/x-python",
   "name": "python",
   "nbconvert_exporter": "python",
   "pygments_lexer": "ipython3",
   "version": "3.11.4"
  }
 },
 "nbformat": 4,
 "nbformat_minor": 5
}
