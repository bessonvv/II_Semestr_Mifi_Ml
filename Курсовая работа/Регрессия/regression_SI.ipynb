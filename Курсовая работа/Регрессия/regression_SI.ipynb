{
 "cells": [
  {
   "cell_type": "code",
   "execution_count": 8,
   "id": "0da4c5b4",
   "metadata": {},
   "outputs": [],
   "source": [
    "import pandas as pd\n",
    "import numpy as np\n",
    "import matplotlib.pyplot as plt\n",
    "import seaborn as sns\n",
    "from sklearn.model_selection import train_test_split\n",
    "from sklearn.metrics import mean_absolute_error\n",
    "from sklearn.linear_model import Ridge, Lasso, ElasticNet\n",
    "from sklearn.preprocessing import MinMaxScaler\n",
    "from sklearn.preprocessing import StandardScaler\n",
    "from sklearn.decomposition import PCA\n",
    "\n",
    "# Модели\n",
    "from sklearn.linear_model import LinearRegression\n",
    "from sklearn.tree import DecisionTreeRegressor\n",
    "from sklearn.ensemble import RandomForestRegressor, GradientBoostingRegressor\n",
    "from sklearn.svm import SVR\n",
    "from sklearn.neighbors import KNeighborsRegressor\n",
    "\n",
    "\n",
    "# Подбор значений\n",
    "from sklearn.model_selection import GridSearchCV"
   ]
  },
  {
   "cell_type": "markdown",
   "id": "1638603b",
   "metadata": {},
   "source": [
    "# **1 ИМПОРТ ДАННЫХ**"
   ]
  },
  {
   "cell_type": "code",
   "execution_count": 3,
   "id": "ebf82d39",
   "metadata": {},
   "outputs": [
    {
     "data": {
      "application/vnd.microsoft.datawrangler.viewer.v0+json": {
       "columns": [
        {
         "name": "index",
         "rawType": "int64",
         "type": "integer"
        },
        {
         "name": "IC50, mM",
         "rawType": "float64",
         "type": "float"
        },
        {
         "name": "CC50, mM",
         "rawType": "float64",
         "type": "float"
        },
        {
         "name": "SI",
         "rawType": "float64",
         "type": "float"
        },
        {
         "name": "MaxAbsEStateIndex",
         "rawType": "float64",
         "type": "float"
        },
        {
         "name": "MinAbsEStateIndex",
         "rawType": "float64",
         "type": "float"
        },
        {
         "name": "MinEStateIndex",
         "rawType": "float64",
         "type": "float"
        },
        {
         "name": "qed",
         "rawType": "float64",
         "type": "float"
        },
        {
         "name": "SPS",
         "rawType": "float64",
         "type": "float"
        },
        {
         "name": "MolWt",
         "rawType": "float64",
         "type": "float"
        },
        {
         "name": "MinPartialCharge",
         "rawType": "float64",
         "type": "float"
        },
        {
         "name": "MaxAbsPartialCharge",
         "rawType": "float64",
         "type": "float"
        },
        {
         "name": "MinAbsPartialCharge",
         "rawType": "float64",
         "type": "float"
        },
        {
         "name": "BCUT2D_MWHI",
         "rawType": "float64",
         "type": "float"
        },
        {
         "name": "BCUT2D_MWLOW",
         "rawType": "float64",
         "type": "float"
        },
        {
         "name": "BCUT2D_CHGHI",
         "rawType": "float64",
         "type": "float"
        },
        {
         "name": "BCUT2D_CHGLO",
         "rawType": "float64",
         "type": "float"
        },
        {
         "name": "BCUT2D_LOGPHI",
         "rawType": "float64",
         "type": "float"
        },
        {
         "name": "BCUT2D_LOGPLOW",
         "rawType": "float64",
         "type": "float"
        },
        {
         "name": "BCUT2D_MRHI",
         "rawType": "float64",
         "type": "float"
        },
        {
         "name": "BCUT2D_MRLOW",
         "rawType": "float64",
         "type": "float"
        },
        {
         "name": "AvgIpc",
         "rawType": "float64",
         "type": "float"
        },
        {
         "name": "BalabanJ",
         "rawType": "float64",
         "type": "float"
        },
        {
         "name": "BertzCT",
         "rawType": "float64",
         "type": "float"
        },
        {
         "name": "HallKierAlpha",
         "rawType": "float64",
         "type": "float"
        },
        {
         "name": "Ipc",
         "rawType": "float64",
         "type": "float"
        },
        {
         "name": "LabuteASA",
         "rawType": "float64",
         "type": "float"
        },
        {
         "name": "TPSA",
         "rawType": "float64",
         "type": "float"
        },
        {
         "name": "FractionCSP3",
         "rawType": "float64",
         "type": "float"
        },
        {
         "name": "HeavyAtomCount",
         "rawType": "int64",
         "type": "integer"
        },
        {
         "name": "NHOHCount",
         "rawType": "int64",
         "type": "integer"
        },
        {
         "name": "NOCount",
         "rawType": "int64",
         "type": "integer"
        },
        {
         "name": "NumAliphaticCarbocycles",
         "rawType": "int64",
         "type": "integer"
        },
        {
         "name": "NumAliphaticHeterocycles",
         "rawType": "int64",
         "type": "integer"
        },
        {
         "name": "NumAliphaticRings",
         "rawType": "int64",
         "type": "integer"
        },
        {
         "name": "NumAromaticCarbocycles",
         "rawType": "int64",
         "type": "integer"
        },
        {
         "name": "NumAromaticHeterocycles",
         "rawType": "int64",
         "type": "integer"
        },
        {
         "name": "NumAromaticRings",
         "rawType": "int64",
         "type": "integer"
        },
        {
         "name": "NumHAcceptors",
         "rawType": "int64",
         "type": "integer"
        },
        {
         "name": "NumHDonors",
         "rawType": "int64",
         "type": "integer"
        },
        {
         "name": "NumHeteroatoms",
         "rawType": "int64",
         "type": "integer"
        },
        {
         "name": "NumRotatableBonds",
         "rawType": "int64",
         "type": "integer"
        },
        {
         "name": "NumSaturatedCarbocycles",
         "rawType": "int64",
         "type": "integer"
        },
        {
         "name": "NumSaturatedHeterocycles",
         "rawType": "int64",
         "type": "integer"
        },
        {
         "name": "NumSaturatedRings",
         "rawType": "int64",
         "type": "integer"
        },
        {
         "name": "RingCount",
         "rawType": "int64",
         "type": "integer"
        },
        {
         "name": "MolLogP",
         "rawType": "float64",
         "type": "float"
        },
        {
         "name": "MolMR",
         "rawType": "float64",
         "type": "float"
        },
        {
         "name": "fr_Al_COO",
         "rawType": "int64",
         "type": "integer"
        },
        {
         "name": "fr_Al_OH",
         "rawType": "int64",
         "type": "integer"
        },
        {
         "name": "fr_Al_OH_noTert",
         "rawType": "int64",
         "type": "integer"
        },
        {
         "name": "fr_ArN",
         "rawType": "int64",
         "type": "integer"
        },
        {
         "name": "fr_Ar_COO",
         "rawType": "int64",
         "type": "integer"
        },
        {
         "name": "fr_Ar_N",
         "rawType": "int64",
         "type": "integer"
        },
        {
         "name": "fr_Ar_NH",
         "rawType": "int64",
         "type": "integer"
        },
        {
         "name": "fr_Ar_OH",
         "rawType": "int64",
         "type": "integer"
        },
        {
         "name": "fr_COO",
         "rawType": "int64",
         "type": "integer"
        },
        {
         "name": "fr_COO2",
         "rawType": "int64",
         "type": "integer"
        },
        {
         "name": "fr_C_O",
         "rawType": "int64",
         "type": "integer"
        },
        {
         "name": "fr_C_O_noCOO",
         "rawType": "int64",
         "type": "integer"
        },
        {
         "name": "fr_C_S",
         "rawType": "int64",
         "type": "integer"
        },
        {
         "name": "fr_HOCCN",
         "rawType": "int64",
         "type": "integer"
        },
        {
         "name": "fr_Imine",
         "rawType": "int64",
         "type": "integer"
        },
        {
         "name": "fr_NH0",
         "rawType": "int64",
         "type": "integer"
        },
        {
         "name": "fr_NH1",
         "rawType": "int64",
         "type": "integer"
        },
        {
         "name": "fr_NH2",
         "rawType": "int64",
         "type": "integer"
        },
        {
         "name": "fr_Ndealkylation1",
         "rawType": "int64",
         "type": "integer"
        },
        {
         "name": "fr_Ndealkylation2",
         "rawType": "int64",
         "type": "integer"
        },
        {
         "name": "fr_Nhpyrrole",
         "rawType": "int64",
         "type": "integer"
        },
        {
         "name": "fr_aldehyde",
         "rawType": "int64",
         "type": "integer"
        },
        {
         "name": "fr_alkyl_carbamate",
         "rawType": "int64",
         "type": "integer"
        },
        {
         "name": "fr_alkyl_halide",
         "rawType": "int64",
         "type": "integer"
        },
        {
         "name": "fr_allylic_oxid",
         "rawType": "int64",
         "type": "integer"
        },
        {
         "name": "fr_amide",
         "rawType": "int64",
         "type": "integer"
        },
        {
         "name": "fr_amidine",
         "rawType": "int64",
         "type": "integer"
        },
        {
         "name": "fr_aniline",
         "rawType": "int64",
         "type": "integer"
        },
        {
         "name": "fr_aryl_methyl",
         "rawType": "int64",
         "type": "integer"
        },
        {
         "name": "fr_azo",
         "rawType": "int64",
         "type": "integer"
        },
        {
         "name": "fr_benzene",
         "rawType": "int64",
         "type": "integer"
        },
        {
         "name": "fr_bicyclic",
         "rawType": "int64",
         "type": "integer"
        },
        {
         "name": "fr_epoxide",
         "rawType": "int64",
         "type": "integer"
        },
        {
         "name": "fr_ester",
         "rawType": "int64",
         "type": "integer"
        },
        {
         "name": "fr_ether",
         "rawType": "int64",
         "type": "integer"
        },
        {
         "name": "fr_furan",
         "rawType": "int64",
         "type": "integer"
        },
        {
         "name": "fr_guanido",
         "rawType": "int64",
         "type": "integer"
        },
        {
         "name": "fr_halogen",
         "rawType": "int64",
         "type": "integer"
        },
        {
         "name": "fr_hdrzine",
         "rawType": "int64",
         "type": "integer"
        },
        {
         "name": "fr_hdrzone",
         "rawType": "int64",
         "type": "integer"
        },
        {
         "name": "fr_imidazole",
         "rawType": "int64",
         "type": "integer"
        },
        {
         "name": "fr_imide",
         "rawType": "int64",
         "type": "integer"
        },
        {
         "name": "fr_ketone",
         "rawType": "int64",
         "type": "integer"
        },
        {
         "name": "fr_ketone_Topliss",
         "rawType": "int64",
         "type": "integer"
        },
        {
         "name": "fr_lactone",
         "rawType": "int64",
         "type": "integer"
        },
        {
         "name": "fr_methoxy",
         "rawType": "int64",
         "type": "integer"
        },
        {
         "name": "fr_morpholine",
         "rawType": "int64",
         "type": "integer"
        },
        {
         "name": "fr_nitrile",
         "rawType": "int64",
         "type": "integer"
        },
        {
         "name": "fr_nitro",
         "rawType": "int64",
         "type": "integer"
        },
        {
         "name": "fr_nitro_arom",
         "rawType": "int64",
         "type": "integer"
        },
        {
         "name": "fr_nitro_arom_nonortho",
         "rawType": "int64",
         "type": "integer"
        },
        {
         "name": "fr_oxazole",
         "rawType": "int64",
         "type": "integer"
        },
        {
         "name": "fr_oxime",
         "rawType": "int64",
         "type": "integer"
        },
        {
         "name": "fr_para_hydroxylation",
         "rawType": "int64",
         "type": "integer"
        },
        {
         "name": "fr_phenol",
         "rawType": "int64",
         "type": "integer"
        },
        {
         "name": "fr_piperdine",
         "rawType": "int64",
         "type": "integer"
        },
        {
         "name": "fr_piperzine",
         "rawType": "int64",
         "type": "integer"
        },
        {
         "name": "fr_priamide",
         "rawType": "int64",
         "type": "integer"
        },
        {
         "name": "fr_pyridine",
         "rawType": "int64",
         "type": "integer"
        },
        {
         "name": "fr_quatN",
         "rawType": "int64",
         "type": "integer"
        },
        {
         "name": "fr_sulfide",
         "rawType": "int64",
         "type": "integer"
        },
        {
         "name": "fr_sulfonamd",
         "rawType": "int64",
         "type": "integer"
        },
        {
         "name": "fr_sulfone",
         "rawType": "int64",
         "type": "integer"
        },
        {
         "name": "fr_term_acetylene",
         "rawType": "int64",
         "type": "integer"
        },
        {
         "name": "fr_tetrazole",
         "rawType": "int64",
         "type": "integer"
        },
        {
         "name": "fr_thiazole",
         "rawType": "int64",
         "type": "integer"
        },
        {
         "name": "fr_thiophene",
         "rawType": "int64",
         "type": "integer"
        },
        {
         "name": "fr_unbrch_alkane",
         "rawType": "int64",
         "type": "integer"
        },
        {
         "name": "fr_urea",
         "rawType": "int64",
         "type": "integer"
        },
        {
         "name": "pca_FpDensityMorgan",
         "rawType": "float64",
         "type": "float"
        },
        {
         "name": "pca_PEOE",
         "rawType": "float64",
         "type": "float"
        },
        {
         "name": "pca_SMR",
         "rawType": "float64",
         "type": "float"
        },
        {
         "name": "pca_EState",
         "rawType": "float64",
         "type": "float"
        },
        {
         "name": "pca_Chi",
         "rawType": "float64",
         "type": "float"
        },
        {
         "name": "pca_VSA",
         "rawType": "float64",
         "type": "float"
        },
        {
         "name": "pca_Kappa",
         "rawType": "float64",
         "type": "float"
        }
       ],
       "ref": "cc5c10cd-d35b-4688-83b5-0623c2b2b5d7",
       "rows": [
        [
         "0",
         "6.239373566893883",
         "175.4823815688905",
         "28.125",
         "5.094096221873098",
         "0.3872247872728121",
         "0.3872247872728121",
         "0.4173618732617801",
         "42.92857142857143",
         "384.6520000000002",
         "-0.2935255147973819",
         "0.2935255147973819",
         "0.0388436542985111",
         "14.8222660494387",
         "9.700469635810666",
         "2.600532088113167",
         "-2.343082085132494",
         "2.644697757474545",
         "-2.322229234053284",
         "5.94451857322285",
         "0.193480759150443",
         "3.150502892205044",
         "1.164037575501787",
         "611.9203005807427",
         "-0.66",
         "2187750.164884781",
         "173.6301242453481",
         "24.72",
         "0.9230769230769232",
         "28",
         "0",
         "2",
         "4",
         "0",
         "4",
         "0",
         "0",
         "0",
         "2",
         "0",
         "2",
         "7",
         "4",
         "0",
         "4",
         "4",
         "7.121200000000009",
         "121.5300000000001",
         "0",
         "0",
         "0",
         "0",
         "0",
         "0",
         "0",
         "0",
         "0",
         "0",
         "0",
         "0",
         "0",
         "0",
         "2",
         "2",
         "0",
         "0",
         "0",
         "0",
         "0",
         "0",
         "0",
         "0",
         "0",
         "0",
         "0",
         "0",
         "0",
         "0",
         "0",
         "4",
         "0",
         "0",
         "0",
         "0",
         "0",
         "0",
         "0",
         "0",
         "0",
         "0",
         "0",
         "0",
         "0",
         "0",
         "0",
         "0",
         "0",
         "0",
         "0",
         "0",
         "0",
         "0",
         "0",
         "0",
         "0",
         "0",
         "0",
         "0",
         "0",
         "0",
         "0",
         "0",
         "0",
         "0",
         "0",
         "3",
         "0",
         "-1.439069346068577",
         "46.49534670973722",
         "-76.96405425362717",
         "52.26850848227636",
         "11.369481935285322",
         "-21.239901054391105",
         "3.1961188852441182"
        ],
        [
         "1",
         "0.7718312468161961",
         "5.402818727713373",
         "7.000000000000001",
         "3.961416712562997",
         "0.5338684970983402",
         "0.5338684970983402",
         "0.4624728071616784",
         "45.21428571428572",
         "388.6840000000002",
         "-0.3134072129990773",
         "0.3134072129990773",
         "0.0128865702338628",
         "14.97511000634207",
         "9.689226058600022",
         "2.614066470420122",
         "-2.394689647839289",
         "2.658342289949484",
         "-2.444816775724512",
         "5.134526939622194",
         "0.1203222980173243",
         "3.150502892205044",
         "1.080362063115187",
         "516.7801241234168",
         "-0.08",
         "2187750.164884781",
         "174.939203640844",
         "24.06",
         "1.0",
         "28",
         "2",
         "2",
         "4",
         "0",
         "4",
         "0",
         "0",
         "0",
         "2",
         "2",
         "2",
         "9",
         "4",
         "0",
         "4",
         "4",
         "6.155600000000006",
         "120.5074000000001",
         "0",
         "0",
         "0",
         "0",
         "0",
         "0",
         "0",
         "0",
         "0",
         "0",
         "0",
         "0",
         "0",
         "0",
         "0",
         "0",
         "2",
         "0",
         "0",
         "0",
         "0",
         "0",
         "0",
         "0",
         "0",
         "0",
         "0",
         "0",
         "0",
         "0",
         "0",
         "4",
         "0",
         "0",
         "0",
         "0",
         "0",
         "0",
         "0",
         "0",
         "0",
         "0",
         "0",
         "0",
         "0",
         "0",
         "0",
         "0",
         "0",
         "0",
         "0",
         "0",
         "0",
         "0",
         "0",
         "0",
         "0",
         "0",
         "0",
         "0",
         "0",
         "0",
         "0",
         "0",
         "0",
         "0",
         "0",
         "3",
         "0",
         "-1.499436499430686",
         "60.06963021463399",
         "-83.878970595099",
         "68.73421238754173",
         "12.488380678628822",
         "-19.89644364537717",
         "3.8510822392320456"
        ],
        [
         "2",
         "223.8087777802645",
         "161.1423200017905",
         "0.72",
         "2.627117384182923",
         "0.5432308210510737",
         "0.5432308210510737",
         "0.2609227801240689",
         "42.1875",
         "446.8080000000003",
         "-0.3255733210758452",
         "0.3255733210758452",
         "0.0948015475135507",
         "15.35393759886982",
         "9.68129265007358",
         "2.665273775695772",
         "-2.4772026580666",
         "2.679014399768647",
         "-2.565224041654418",
         "5.11718734403878",
         "-0.92290157043431",
         "3.214947253123124",
         "1.219066029523398",
         "643.6201536047666",
         "-0.08",
         "8610750.760455066",
         "201.2388580448117",
         "0.0",
         "1.0",
         "32",
         "0",
         "2",
         "4",
         "0",
         "4",
         "0",
         "0",
         "0",
         "0",
         "0",
         "2",
         "9",
         "4",
         "0",
         "4",
         "4",
         "7.129200000000009",
         "138.4528",
         "0",
         "0",
         "0",
         "0",
         "0",
         "0",
         "0",
         "0",
         "0",
         "0",
         "0",
         "0",
         "0",
         "0",
         "0",
         "2",
         "0",
         "0",
         "0",
         "0",
         "0",
         "0",
         "0",
         "0",
         "0",
         "0",
         "0",
         "0",
         "0",
         "0",
         "0",
         "4",
         "0",
         "0",
         "0",
         "0",
         "0",
         "0",
         "0",
         "0",
         "0",
         "0",
         "0",
         "0",
         "0",
         "0",
         "0",
         "0",
         "0",
         "0",
         "0",
         "0",
         "0",
         "0",
         "0",
         "0",
         "0",
         "0",
         "0",
         "2",
         "0",
         "0",
         "0",
         "0",
         "0",
         "0",
         "0",
         "3",
         "0",
         "-1.6635002990857246",
         "35.84891845512668",
         "-82.34281108948585",
         "83.64821518517117",
         "21.18098896619731",
         "-20.46563654708793",
         "7.558456172465018"
        ],
        [
         "3",
         "1.705624296116444",
         "107.8556540191281",
         "63.23529411764706",
         "5.097360048942529",
         "0.390602645354716",
         "0.390602645354716",
         "0.3778455055831542",
         "41.86206896551724",
         "398.6790000000002",
         "-0.2935255148336137",
         "0.2935255148336137",
         "0.0388436451959607",
         "14.82121596989277",
         "9.70049715960851",
         "2.600528653569801",
         "-2.342884614287352",
         "2.644708711275066",
         "-2.322030494033969",
         "5.944501630845527",
         "0.1935102089478292",
         "3.17926985320412",
         "1.120512909778165",
         "626.6513661249833",
         "-0.66",
         "3572141.766774113",
         "179.9950663597447",
         "24.72",
         "0.925925925925926",
         "29",
         "0",
         "2",
         "4",
         "0",
         "4",
         "0",
         "0",
         "0",
         "2",
         "0",
         "2",
         "8",
         "4",
         "0",
         "4",
         "4",
         "7.511300000000009",
         "126.1470000000001",
         "0",
         "0",
         "0",
         "0",
         "0",
         "0",
         "0",
         "0",
         "0",
         "0",
         "0",
         "0",
         "0",
         "0",
         "2",
         "2",
         "0",
         "0",
         "0",
         "0",
         "0",
         "0",
         "0",
         "0",
         "0",
         "0",
         "0",
         "0",
         "0",
         "0",
         "0",
         "4",
         "0",
         "0",
         "0",
         "0",
         "0",
         "0",
         "0",
         "0",
         "0",
         "0",
         "0",
         "0",
         "0",
         "0",
         "0",
         "0",
         "0",
         "0",
         "0",
         "0",
         "0",
         "0",
         "0",
         "0",
         "0",
         "0",
         "0",
         "0",
         "0",
         "0",
         "0",
         "0",
         "0",
         "0",
         "0",
         "4",
         "0",
         "-1.4765746578647398",
         "50.55123743962844",
         "-80.86882853157414",
         "56.26348075548353",
         "12.999417239214026",
         "-21.54136487869606",
         "4.352762365681336"
        ],
        [
         "4",
         "107.1315318094944",
         "139.2709913523427",
         "1.3",
         "5.150509901253949",
         "0.2704760518661459",
         "0.2704760518661459",
         "0.4290384545075999",
         "36.51428571428571",
         "466.7130000000003",
         "-0.2572393015210201",
         "0.2572393015210201",
         "0.0628974587838001",
         "14.83111152791072",
         "9.70038553581742",
         "2.602485715919116",
         "-2.342009125064716",
         "2.648473252120894",
         "-2.318892629384824",
         "5.963447710669175",
         "0.193686506552366",
         "3.337073624442143",
         "1.13667806407789",
         "1101.164251546143",
         "-2.22",
         "105375761.6128024",
         "211.9196020854931",
         "24.72",
         "0.5757575757575758",
         "35",
         "0",
         "2",
         "4",
         "0",
         "4",
         "2",
         "0",
         "2",
         "2",
         "0",
         "2",
         "4",
         "4",
         "0",
         "4",
         "6",
         "9.1148",
         "148.3379999999998",
         "0",
         "0",
         "0",
         "0",
         "0",
         "0",
         "0",
         "0",
         "0",
         "0",
         "0",
         "0",
         "0",
         "0",
         "2",
         "2",
         "0",
         "0",
         "0",
         "0",
         "0",
         "0",
         "0",
         "0",
         "0",
         "0",
         "0",
         "0",
         "0",
         "0",
         "2",
         "4",
         "0",
         "0",
         "0",
         "0",
         "0",
         "0",
         "0",
         "0",
         "0",
         "0",
         "0",
         "0",
         "0",
         "0",
         "0",
         "0",
         "0",
         "0",
         "0",
         "0",
         "0",
         "0",
         "0",
         "0",
         "0",
         "0",
         "0",
         "0",
         "0",
         "0",
         "0",
         "0",
         "0",
         "0",
         "0",
         "0",
         "0",
         "-1.5391433187880763",
         "73.55671040371594",
         "-20.800809825903407",
         "77.56957587491775",
         "19.312101511266057",
         "-19.21046374527201",
         "5.877874907166287"
        ]
       ],
       "shape": {
        "columns": 123,
        "rows": 5
       }
      },
      "text/html": [
       "<div>\n",
       "<style scoped>\n",
       "    .dataframe tbody tr th:only-of-type {\n",
       "        vertical-align: middle;\n",
       "    }\n",
       "\n",
       "    .dataframe tbody tr th {\n",
       "        vertical-align: top;\n",
       "    }\n",
       "\n",
       "    .dataframe thead th {\n",
       "        text-align: right;\n",
       "    }\n",
       "</style>\n",
       "<table border=\"1\" class=\"dataframe\">\n",
       "  <thead>\n",
       "    <tr style=\"text-align: right;\">\n",
       "      <th></th>\n",
       "      <th>IC50, mM</th>\n",
       "      <th>CC50, mM</th>\n",
       "      <th>SI</th>\n",
       "      <th>MaxAbsEStateIndex</th>\n",
       "      <th>MinAbsEStateIndex</th>\n",
       "      <th>MinEStateIndex</th>\n",
       "      <th>qed</th>\n",
       "      <th>SPS</th>\n",
       "      <th>MolWt</th>\n",
       "      <th>MinPartialCharge</th>\n",
       "      <th>...</th>\n",
       "      <th>fr_thiophene</th>\n",
       "      <th>fr_unbrch_alkane</th>\n",
       "      <th>fr_urea</th>\n",
       "      <th>pca_FpDensityMorgan</th>\n",
       "      <th>pca_PEOE</th>\n",
       "      <th>pca_SMR</th>\n",
       "      <th>pca_EState</th>\n",
       "      <th>pca_Chi</th>\n",
       "      <th>pca_VSA</th>\n",
       "      <th>pca_Kappa</th>\n",
       "    </tr>\n",
       "  </thead>\n",
       "  <tbody>\n",
       "    <tr>\n",
       "      <th>0</th>\n",
       "      <td>6.239374</td>\n",
       "      <td>175.482382</td>\n",
       "      <td>28.125000</td>\n",
       "      <td>5.094096</td>\n",
       "      <td>0.387225</td>\n",
       "      <td>0.387225</td>\n",
       "      <td>0.417362</td>\n",
       "      <td>42.928571</td>\n",
       "      <td>384.652</td>\n",
       "      <td>-0.293526</td>\n",
       "      <td>...</td>\n",
       "      <td>0</td>\n",
       "      <td>3</td>\n",
       "      <td>0</td>\n",
       "      <td>-1.439069</td>\n",
       "      <td>46.495347</td>\n",
       "      <td>-76.964054</td>\n",
       "      <td>52.268508</td>\n",
       "      <td>11.369482</td>\n",
       "      <td>-21.239901</td>\n",
       "      <td>3.196119</td>\n",
       "    </tr>\n",
       "    <tr>\n",
       "      <th>1</th>\n",
       "      <td>0.771831</td>\n",
       "      <td>5.402819</td>\n",
       "      <td>7.000000</td>\n",
       "      <td>3.961417</td>\n",
       "      <td>0.533868</td>\n",
       "      <td>0.533868</td>\n",
       "      <td>0.462473</td>\n",
       "      <td>45.214286</td>\n",
       "      <td>388.684</td>\n",
       "      <td>-0.313407</td>\n",
       "      <td>...</td>\n",
       "      <td>0</td>\n",
       "      <td>3</td>\n",
       "      <td>0</td>\n",
       "      <td>-1.499436</td>\n",
       "      <td>60.069630</td>\n",
       "      <td>-83.878971</td>\n",
       "      <td>68.734212</td>\n",
       "      <td>12.488381</td>\n",
       "      <td>-19.896444</td>\n",
       "      <td>3.851082</td>\n",
       "    </tr>\n",
       "    <tr>\n",
       "      <th>2</th>\n",
       "      <td>223.808778</td>\n",
       "      <td>161.142320</td>\n",
       "      <td>0.720000</td>\n",
       "      <td>2.627117</td>\n",
       "      <td>0.543231</td>\n",
       "      <td>0.543231</td>\n",
       "      <td>0.260923</td>\n",
       "      <td>42.187500</td>\n",
       "      <td>446.808</td>\n",
       "      <td>-0.325573</td>\n",
       "      <td>...</td>\n",
       "      <td>0</td>\n",
       "      <td>3</td>\n",
       "      <td>0</td>\n",
       "      <td>-1.663500</td>\n",
       "      <td>35.848918</td>\n",
       "      <td>-82.342811</td>\n",
       "      <td>83.648215</td>\n",
       "      <td>21.180989</td>\n",
       "      <td>-20.465637</td>\n",
       "      <td>7.558456</td>\n",
       "    </tr>\n",
       "    <tr>\n",
       "      <th>3</th>\n",
       "      <td>1.705624</td>\n",
       "      <td>107.855654</td>\n",
       "      <td>63.235294</td>\n",
       "      <td>5.097360</td>\n",
       "      <td>0.390603</td>\n",
       "      <td>0.390603</td>\n",
       "      <td>0.377846</td>\n",
       "      <td>41.862069</td>\n",
       "      <td>398.679</td>\n",
       "      <td>-0.293526</td>\n",
       "      <td>...</td>\n",
       "      <td>0</td>\n",
       "      <td>4</td>\n",
       "      <td>0</td>\n",
       "      <td>-1.476575</td>\n",
       "      <td>50.551237</td>\n",
       "      <td>-80.868829</td>\n",
       "      <td>56.263481</td>\n",
       "      <td>12.999417</td>\n",
       "      <td>-21.541365</td>\n",
       "      <td>4.352762</td>\n",
       "    </tr>\n",
       "    <tr>\n",
       "      <th>4</th>\n",
       "      <td>107.131532</td>\n",
       "      <td>139.270991</td>\n",
       "      <td>1.300000</td>\n",
       "      <td>5.150510</td>\n",
       "      <td>0.270476</td>\n",
       "      <td>0.270476</td>\n",
       "      <td>0.429038</td>\n",
       "      <td>36.514286</td>\n",
       "      <td>466.713</td>\n",
       "      <td>-0.257239</td>\n",
       "      <td>...</td>\n",
       "      <td>0</td>\n",
       "      <td>0</td>\n",
       "      <td>0</td>\n",
       "      <td>-1.539143</td>\n",
       "      <td>73.556710</td>\n",
       "      <td>-20.800810</td>\n",
       "      <td>77.569576</td>\n",
       "      <td>19.312102</td>\n",
       "      <td>-19.210464</td>\n",
       "      <td>5.877875</td>\n",
       "    </tr>\n",
       "  </tbody>\n",
       "</table>\n",
       "<p>5 rows × 123 columns</p>\n",
       "</div>"
      ],
      "text/plain": [
       "     IC50, mM    CC50, mM         SI  MaxAbsEStateIndex  MinAbsEStateIndex  \\\n",
       "0    6.239374  175.482382  28.125000           5.094096           0.387225   \n",
       "1    0.771831    5.402819   7.000000           3.961417           0.533868   \n",
       "2  223.808778  161.142320   0.720000           2.627117           0.543231   \n",
       "3    1.705624  107.855654  63.235294           5.097360           0.390603   \n",
       "4  107.131532  139.270991   1.300000           5.150510           0.270476   \n",
       "\n",
       "   MinEStateIndex       qed        SPS    MolWt  MinPartialCharge  ...  \\\n",
       "0        0.387225  0.417362  42.928571  384.652         -0.293526  ...   \n",
       "1        0.533868  0.462473  45.214286  388.684         -0.313407  ...   \n",
       "2        0.543231  0.260923  42.187500  446.808         -0.325573  ...   \n",
       "3        0.390603  0.377846  41.862069  398.679         -0.293526  ...   \n",
       "4        0.270476  0.429038  36.514286  466.713         -0.257239  ...   \n",
       "\n",
       "   fr_thiophene  fr_unbrch_alkane  fr_urea  pca_FpDensityMorgan   pca_PEOE  \\\n",
       "0             0                 3        0            -1.439069  46.495347   \n",
       "1             0                 3        0            -1.499436  60.069630   \n",
       "2             0                 3        0            -1.663500  35.848918   \n",
       "3             0                 4        0            -1.476575  50.551237   \n",
       "4             0                 0        0            -1.539143  73.556710   \n",
       "\n",
       "     pca_SMR  pca_EState    pca_Chi    pca_VSA  pca_Kappa  \n",
       "0 -76.964054   52.268508  11.369482 -21.239901   3.196119  \n",
       "1 -83.878971   68.734212  12.488381 -19.896444   3.851082  \n",
       "2 -82.342811   83.648215  21.180989 -20.465637   7.558456  \n",
       "3 -80.868829   56.263481  12.999417 -21.541365   4.352762  \n",
       "4 -20.800810   77.569576  19.312102 -19.210464   5.877875  \n",
       "\n",
       "[5 rows x 123 columns]"
      ]
     },
     "execution_count": 3,
     "metadata": {},
     "output_type": "execute_result"
    }
   ],
   "source": [
    "df = pd.read_csv('D:\\mifi\\myvenv\\Курсовая работа\\Курсовая работа\\data\\df_cleaned.csv')\n",
    "df.head()"
   ]
  },
  {
   "cell_type": "markdown",
   "id": "91db4acc",
   "metadata": {},
   "source": [
    "# **2 РАЗДЕЛЕНИЕ ДАННЫХ**"
   ]
  },
  {
   "cell_type": "code",
   "execution_count": 4,
   "id": "9b384ebd",
   "metadata": {},
   "outputs": [],
   "source": [
    "# Шаг 1: отделяем X и y\n",
    "X=df.drop('SI', axis=1)\n",
    "y=df['SI']\n",
    "\n",
    "# Шаг 2: делим с перемешиванием (shuffle=True по умолчанию)\n",
    "X_train, X_test, y_train, y_test = train_test_split(\n",
    "    X, y, test_size=0.2, random_state=42, shuffle=True\n",
    ")"
   ]
  },
  {
   "cell_type": "markdown",
   "id": "d09679b3",
   "metadata": {},
   "source": [
    "Подготовлены датасеты для обучения и тестирования"
   ]
  },
  {
   "cell_type": "markdown",
   "id": "22f14b69",
   "metadata": {},
   "source": [
    "# **3 НОРМАЛИЗАЦИЯ**"
   ]
  },
  {
   "cell_type": "code",
   "execution_count": 5,
   "id": "963b33fc",
   "metadata": {},
   "outputs": [],
   "source": [
    "scaler = MinMaxScaler()\n",
    "X_train_scaled = scaler.fit_transform(X_train)\n",
    "X_test_scaled = scaler.transform(X_test)"
   ]
  },
  {
   "cell_type": "markdown",
   "id": "9bc23137",
   "metadata": {},
   "source": [
    "Данные стандартизированы"
   ]
  },
  {
   "cell_type": "markdown",
   "id": "03ead822",
   "metadata": {},
   "source": [
    "# **4 ПОДБОР НАИЛУЧШЕЙ МОДЕЛИ**"
   ]
  },
  {
   "cell_type": "code",
   "execution_count": 10,
   "id": "114149c1",
   "metadata": {},
   "outputs": [
    {
     "name": "stdout",
     "output_type": "stream",
     "text": [
      "Linear Regression MAE: 43.3183\n",
      "Ridge Regression MAE: 38.2794\n",
      "Lasso Regression MAE: 36.1344\n",
      "ElasticNet MAE: 39.8196\n",
      "Decision Tree MAE: 18.9350\n",
      "Random Forest MAE: 13.6265\n",
      "Gradient Boosting MAE: 15.0569\n"
     ]
    }
   ],
   "source": [
    "# Список моделей\n",
    "models = {\n",
    "    \"Linear Regression\": LinearRegression(),\n",
    "    \"Ridge Regression\": Ridge(random_state=42),\n",
    "    \"Lasso Regression\": Lasso(random_state=42),\n",
    "    \"ElasticNet\": ElasticNet(random_state=42),\n",
    "    \"Decision Tree\": DecisionTreeRegressor(random_state=42),\n",
    "    \"Random Forest\": RandomForestRegressor(random_state=42),\n",
    "    \"Gradient Boosting\": GradientBoostingRegressor(random_state=42),\n",
    "}\n",
    "\n",
    "# Тренируем и оцениваем каждую модель\n",
    "mae_scores = {}\n",
    "\n",
    "for name, model in models.items():\n",
    "    model.fit(X_train_scaled, y_train)\n",
    "    y_pred = model.predict(X_test_scaled)\n",
    "    mae = mean_absolute_error(y_test, y_pred)\n",
    "    mae_scores[name] = mae\n",
    "    print(f\"{name} MAE: {mae:.4f}\")"
   ]
  },
  {
   "cell_type": "markdown",
   "id": "396a5968",
   "metadata": {},
   "source": [
    "Наилучшей образом показала себя модель Random Forest, так как она больше всех устойчива к мультиколлинеарности\n"
   ]
  },
  {
   "cell_type": "markdown",
   "id": "60d61ae7",
   "metadata": {},
   "source": [
    "# **5 ПОДБОР ПАРАМЕТРОВ**"
   ]
  },
  {
   "cell_type": "code",
   "execution_count": 9,
   "id": "e7869947",
   "metadata": {},
   "outputs": [
    {
     "name": "stdout",
     "output_type": "stream",
     "text": [
      "Linear Regression MAE: 43.3183\n",
      "Ridge Regression MAE: 36.8357\n",
      "  Best params: {'alpha': 10.0}\n",
      "Lasso Regression MAE: 36.1344\n",
      "  Best params: {'alpha': 1.0}\n",
      "ElasticNet MAE: 37.2732\n",
      "  Best params: {'alpha': 0.1, 'l1_ratio': 0.1}\n",
      "Decision Tree MAE: 20.7129\n",
      "  Best params: {'max_depth': 7, 'min_samples_split': 2}\n",
      "Random Forest MAE: 13.6843\n",
      "  Best params: {'max_depth': None, 'min_samples_split': 5, 'n_estimators': 50}\n",
      "Gradient Boosting MAE: 15.0458\n",
      "  Best params: {'learning_rate': 0.1, 'max_depth': 3, 'n_estimators': 200}\n"
     ]
    }
   ],
   "source": [
    "# Список моделей + их параметров для подбора\n",
    "models_with_params = {\n",
    "    \"Linear Regression\": {\n",
    "        \"model\": LinearRegression(),\n",
    "        \"params\": {}\n",
    "    },\n",
    "    \"Ridge Regression\": {\n",
    "        \"model\": Ridge(random_state=42),\n",
    "        \"params\": {\"alpha\": [0.01, 0.1, 1.0, 10.0]}\n",
    "    },\n",
    "    \"Lasso Regression\": {\n",
    "        \"model\": Lasso(random_state=42),\n",
    "        \"params\": {\"alpha\": [0.001, 0.01, 0.1, 1.0]}\n",
    "    },\n",
    "    \"ElasticNet\": {\n",
    "        \"model\": ElasticNet(random_state=42),\n",
    "        \"params\": {\n",
    "            \"alpha\": [0.01, 0.1, 1.0],\n",
    "            \"l1_ratio\": [0.1, 0.5, 0.7]\n",
    "        }\n",
    "    },\n",
    "    \"Decision Tree\": {\n",
    "        \"model\": DecisionTreeRegressor(random_state=42),\n",
    "        \"params\": {\n",
    "            \"max_depth\": [3, 5, 7, None],\n",
    "            \"min_samples_split\": [2, 5, 10]\n",
    "        }\n",
    "    },\n",
    "    \"Random Forest\": {\n",
    "        \"model\": RandomForestRegressor(random_state=42),\n",
    "        \"params\": {\n",
    "            \"n_estimators\": [50, 100, 200],\n",
    "            \"max_depth\": [None, 5, 10],\n",
    "            \"min_samples_split\": [2, 5]\n",
    "        }\n",
    "    },\n",
    "    \"Gradient Boosting\": {\n",
    "        \"model\": GradientBoostingRegressor(random_state=42),\n",
    "        \"params\": {\n",
    "            \"n_estimators\": [50, 100, 200],\n",
    "            \"learning_rate\": [0.01, 0.1, 0.2],\n",
    "            \"max_depth\": [3, 5]\n",
    "        }\n",
    "    },\n",
    "}\n",
    "\n",
    "mae_scores = {}\n",
    "\n",
    "for name, mp in models_with_params.items():\n",
    "    if len(mp[\"params\"]) == 0:\n",
    "        # Если нет параметров для подбора — просто обучаем\n",
    "        model = mp[\"model\"]\n",
    "        model.fit(X_train_scaled, y_train)\n",
    "    else:\n",
    "        # Иначе — делаем Grid Search\n",
    "        grid = GridSearchCV(mp[\"model\"], mp[\"params\"], scoring='neg_mean_absolute_error', cv=5, n_jobs=-1)\n",
    "        grid.fit(X_train_scaled, y_train)\n",
    "        model = grid.best_estimator_\n",
    "    \n",
    "    # Оценка на тестовой выборке\n",
    "    y_pred = model.predict(X_test_scaled)\n",
    "    mae = mean_absolute_error(y_test, y_pred)\n",
    "    mae_scores[name] = mae\n",
    "    print(f\"{name} MAE: {mae:.4f}\")\n",
    "    if len(mp[\"params\"]) > 0:\n",
    "        print(f\"  Best params: {grid.best_params_}\")"
   ]
  },
  {
   "cell_type": "markdown",
   "id": "345b89d6",
   "metadata": {},
   "source": [
    "Random Forest показал себя лучше всех, но и все остальные алгоритмы заметно лучше справились с задачей, связано это снова с линейностью в данных, так как из условия задачи мы знаем, что SI образуется из CC50 и IC50"
   ]
  }
 ],
 "metadata": {
  "kernelspec": {
   "display_name": "myvenv",
   "language": "python",
   "name": "python3"
  },
  "language_info": {
   "codemirror_mode": {
    "name": "ipython",
    "version": 3
   },
   "file_extension": ".py",
   "mimetype": "text/x-python",
   "name": "python",
   "nbconvert_exporter": "python",
   "pygments_lexer": "ipython3",
   "version": "3.11.4"
  }
 },
 "nbformat": 4,
 "nbformat_minor": 5
}
