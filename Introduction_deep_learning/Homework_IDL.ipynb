{
  "cells": [
    {
      "cell_type": "markdown",
      "metadata": {
        "id": "dCw47V7p2muz"
      },
      "source": [
        "# **1 ИМПОРТ БИБЛИОТЕК**"
      ]
    },
    {
      "cell_type": "code",
      "execution_count": 48,
      "metadata": {
        "execution": {
          "iopub.execute_input": "2025-05-10T20:15:12.382385Z",
          "iopub.status.busy": "2025-05-10T20:15:12.381611Z",
          "iopub.status.idle": "2025-05-10T20:15:12.389543Z",
          "shell.execute_reply": "2025-05-10T20:15:12.388732Z",
          "shell.execute_reply.started": "2025-05-10T20:15:12.382353Z"
        },
        "id": "xtgpb91EbkJJ",
        "trusted": true
      },
      "outputs": [],
      "source": [
        "import pandas as pd\n",
        "import numpy as np\n",
        "from sklearn.metrics import accuracy_score\n",
        "from matplotlib import pyplot as plt\n",
        "\n",
        "import tensorflow as tf\n",
        "import tensorflow.keras as keras\n",
        "import tensorflow.keras.models as M\n",
        "import tensorflow.keras.layers as L\n",
        "import tensorflow.keras.backend as K\n",
        "\n",
        "from sklearn.model_selection import train_test_split"
      ]
    },
    {
      "cell_type": "markdown",
      "metadata": {
        "id": "bpgb9XRbbkJM"
      },
      "source": [
        "# **2 ИМПОРТ ДАННЫХ**\n",
        "\n",
        "Расшифровка классов (label), к которым принадлежат изображения:\n",
        "\n",
        "0 T-shirt/top – футболка\n",
        "\n",
        "1 Trouser – брюки\n",
        "\n",
        "2 Pullover – свитер\n",
        "\n",
        "3 Dress – платье\n",
        "\n",
        "4 Coat – пальто\n",
        "\n",
        "5 Sandal – сандалия\n",
        "\n",
        "6 Shirt – рубашка\n",
        "\n",
        "7 Sneaker – кроссовок\n",
        "\n",
        "8 Bag – сумка\n",
        "\n",
        "9 Ankle boot – сапог"
      ]
    },
    {
      "cell_type": "code",
      "execution_count": 49,
      "metadata": {
        "execution": {
          "iopub.execute_input": "2025-05-10T20:15:12.410062Z",
          "iopub.status.busy": "2025-05-10T20:15:12.409754Z",
          "iopub.status.idle": "2025-05-10T20:15:13.513307Z",
          "shell.execute_reply": "2025-05-10T20:15:13.512406Z",
          "shell.execute_reply.started": "2025-05-10T20:15:12.41004Z"
        },
        "id": "H5Kef_UP2mu2",
        "trusted": true
      },
      "outputs": [],
      "source": [
        "df = pd.read_csv('D:/mifi/myvenv/DL/fmnist_train.csv')"
      ]
    },
    {
      "cell_type": "markdown",
      "metadata": {},
      "source": [
        "## **2.1 ИССЛЕДОВАНИЕ ДАННЫХ**"
      ]
    },
    {
      "cell_type": "code",
      "execution_count": 50,
      "metadata": {},
      "outputs": [
        {
          "name": "stdout",
          "output_type": "stream",
          "text": [
            "<class 'pandas.core.frame.DataFrame'>\n",
            "RangeIndex: 17040 entries, 0 to 17039\n",
            "Columns: 786 entries, label to Id\n",
            "dtypes: float64(424), int64(362)\n",
            "memory usage: 102.2 MB\n"
          ]
        }
      ],
      "source": [
        "df.info()"
      ]
    },
    {
      "cell_type": "code",
      "execution_count": 51,
      "metadata": {
        "execution": {
          "iopub.execute_input": "2025-05-10T20:15:13.515477Z",
          "iopub.status.busy": "2025-05-10T20:15:13.515072Z",
          "iopub.status.idle": "2025-05-10T20:15:13.53386Z",
          "shell.execute_reply": "2025-05-10T20:15:13.532792Z",
          "shell.execute_reply.started": "2025-05-10T20:15:13.51545Z"
        },
        "id": "zJ_1cCuW2mu2",
        "trusted": true
      },
      "outputs": [
        {
          "name": "stdout",
          "output_type": "stream",
          "text": [
            "Количество строк: 17040, количество столбцов: 786\n"
          ]
        },
        {
          "data": {
            "application/vnd.microsoft.datawrangler.viewer.v0+json": {
              "columns": [
                {
                  "name": "index",
                  "rawType": "int64",
                  "type": "integer"
                },
                {
                  "name": "label",
                  "rawType": "int64",
                  "type": "integer"
                },
                {
                  "name": "pixel1",
                  "rawType": "int64",
                  "type": "integer"
                },
                {
                  "name": "pixel2",
                  "rawType": "int64",
                  "type": "integer"
                },
                {
                  "name": "pixel3",
                  "rawType": "int64",
                  "type": "integer"
                },
                {
                  "name": "pixel4",
                  "rawType": "int64",
                  "type": "integer"
                },
                {
                  "name": "pixel5",
                  "rawType": "int64",
                  "type": "integer"
                },
                {
                  "name": "pixel6",
                  "rawType": "int64",
                  "type": "integer"
                },
                {
                  "name": "pixel7",
                  "rawType": "int64",
                  "type": "integer"
                },
                {
                  "name": "pixel8",
                  "rawType": "int64",
                  "type": "integer"
                },
                {
                  "name": "pixel9",
                  "rawType": "int64",
                  "type": "integer"
                },
                {
                  "name": "pixel10",
                  "rawType": "int64",
                  "type": "integer"
                },
                {
                  "name": "pixel11",
                  "rawType": "int64",
                  "type": "integer"
                },
                {
                  "name": "pixel12",
                  "rawType": "int64",
                  "type": "integer"
                },
                {
                  "name": "pixel13",
                  "rawType": "int64",
                  "type": "integer"
                },
                {
                  "name": "pixel14",
                  "rawType": "int64",
                  "type": "integer"
                },
                {
                  "name": "pixel15",
                  "rawType": "int64",
                  "type": "integer"
                },
                {
                  "name": "pixel16",
                  "rawType": "int64",
                  "type": "integer"
                },
                {
                  "name": "pixel17",
                  "rawType": "int64",
                  "type": "integer"
                },
                {
                  "name": "pixel18",
                  "rawType": "int64",
                  "type": "integer"
                },
                {
                  "name": "pixel19",
                  "rawType": "int64",
                  "type": "integer"
                },
                {
                  "name": "pixel20",
                  "rawType": "int64",
                  "type": "integer"
                },
                {
                  "name": "pixel21",
                  "rawType": "int64",
                  "type": "integer"
                },
                {
                  "name": "pixel22",
                  "rawType": "int64",
                  "type": "integer"
                },
                {
                  "name": "pixel23",
                  "rawType": "int64",
                  "type": "integer"
                },
                {
                  "name": "pixel24",
                  "rawType": "int64",
                  "type": "integer"
                },
                {
                  "name": "pixel25",
                  "rawType": "int64",
                  "type": "integer"
                },
                {
                  "name": "pixel26",
                  "rawType": "int64",
                  "type": "integer"
                },
                {
                  "name": "pixel27",
                  "rawType": "int64",
                  "type": "integer"
                },
                {
                  "name": "pixel28",
                  "rawType": "int64",
                  "type": "integer"
                },
                {
                  "name": "pixel29",
                  "rawType": "int64",
                  "type": "integer"
                },
                {
                  "name": "pixel30",
                  "rawType": "int64",
                  "type": "integer"
                },
                {
                  "name": "pixel31",
                  "rawType": "int64",
                  "type": "integer"
                },
                {
                  "name": "pixel32",
                  "rawType": "int64",
                  "type": "integer"
                },
                {
                  "name": "pixel33",
                  "rawType": "int64",
                  "type": "integer"
                },
                {
                  "name": "pixel34",
                  "rawType": "int64",
                  "type": "integer"
                },
                {
                  "name": "pixel35",
                  "rawType": "int64",
                  "type": "integer"
                },
                {
                  "name": "pixel36",
                  "rawType": "int64",
                  "type": "integer"
                },
                {
                  "name": "pixel37",
                  "rawType": "int64",
                  "type": "integer"
                },
                {
                  "name": "pixel38",
                  "rawType": "int64",
                  "type": "integer"
                },
                {
                  "name": "pixel39",
                  "rawType": "int64",
                  "type": "integer"
                },
                {
                  "name": "pixel40",
                  "rawType": "int64",
                  "type": "integer"
                },
                {
                  "name": "pixel41",
                  "rawType": "int64",
                  "type": "integer"
                },
                {
                  "name": "pixel42",
                  "rawType": "int64",
                  "type": "integer"
                },
                {
                  "name": "pixel43",
                  "rawType": "int64",
                  "type": "integer"
                },
                {
                  "name": "pixel44",
                  "rawType": "int64",
                  "type": "integer"
                },
                {
                  "name": "pixel45",
                  "rawType": "int64",
                  "type": "integer"
                },
                {
                  "name": "pixel46",
                  "rawType": "int64",
                  "type": "integer"
                },
                {
                  "name": "pixel47",
                  "rawType": "int64",
                  "type": "integer"
                },
                {
                  "name": "pixel48",
                  "rawType": "int64",
                  "type": "integer"
                },
                {
                  "name": "pixel49",
                  "rawType": "int64",
                  "type": "integer"
                },
                {
                  "name": "pixel50",
                  "rawType": "int64",
                  "type": "integer"
                },
                {
                  "name": "pixel51",
                  "rawType": "int64",
                  "type": "integer"
                },
                {
                  "name": "pixel52",
                  "rawType": "int64",
                  "type": "integer"
                },
                {
                  "name": "pixel53",
                  "rawType": "int64",
                  "type": "integer"
                },
                {
                  "name": "pixel54",
                  "rawType": "int64",
                  "type": "integer"
                },
                {
                  "name": "pixel55",
                  "rawType": "int64",
                  "type": "integer"
                },
                {
                  "name": "pixel56",
                  "rawType": "int64",
                  "type": "integer"
                },
                {
                  "name": "pixel57",
                  "rawType": "int64",
                  "type": "integer"
                },
                {
                  "name": "pixel58",
                  "rawType": "int64",
                  "type": "integer"
                },
                {
                  "name": "pixel59",
                  "rawType": "int64",
                  "type": "integer"
                },
                {
                  "name": "pixel60",
                  "rawType": "int64",
                  "type": "integer"
                },
                {
                  "name": "pixel61",
                  "rawType": "int64",
                  "type": "integer"
                },
                {
                  "name": "pixel62",
                  "rawType": "int64",
                  "type": "integer"
                },
                {
                  "name": "pixel63",
                  "rawType": "int64",
                  "type": "integer"
                },
                {
                  "name": "pixel64",
                  "rawType": "int64",
                  "type": "integer"
                },
                {
                  "name": "pixel65",
                  "rawType": "int64",
                  "type": "integer"
                },
                {
                  "name": "pixel66",
                  "rawType": "int64",
                  "type": "integer"
                },
                {
                  "name": "pixel67",
                  "rawType": "int64",
                  "type": "integer"
                },
                {
                  "name": "pixel68",
                  "rawType": "int64",
                  "type": "integer"
                },
                {
                  "name": "pixel69",
                  "rawType": "int64",
                  "type": "integer"
                },
                {
                  "name": "pixel70",
                  "rawType": "int64",
                  "type": "integer"
                },
                {
                  "name": "pixel71",
                  "rawType": "int64",
                  "type": "integer"
                },
                {
                  "name": "pixel72",
                  "rawType": "int64",
                  "type": "integer"
                },
                {
                  "name": "pixel73",
                  "rawType": "int64",
                  "type": "integer"
                },
                {
                  "name": "pixel74",
                  "rawType": "int64",
                  "type": "integer"
                },
                {
                  "name": "pixel75",
                  "rawType": "int64",
                  "type": "integer"
                },
                {
                  "name": "pixel76",
                  "rawType": "int64",
                  "type": "integer"
                },
                {
                  "name": "pixel77",
                  "rawType": "int64",
                  "type": "integer"
                },
                {
                  "name": "pixel78",
                  "rawType": "int64",
                  "type": "integer"
                },
                {
                  "name": "pixel79",
                  "rawType": "int64",
                  "type": "integer"
                },
                {
                  "name": "pixel80",
                  "rawType": "int64",
                  "type": "integer"
                },
                {
                  "name": "pixel81",
                  "rawType": "int64",
                  "type": "integer"
                },
                {
                  "name": "pixel82",
                  "rawType": "int64",
                  "type": "integer"
                },
                {
                  "name": "pixel83",
                  "rawType": "int64",
                  "type": "integer"
                },
                {
                  "name": "pixel84",
                  "rawType": "int64",
                  "type": "integer"
                },
                {
                  "name": "pixel85",
                  "rawType": "int64",
                  "type": "integer"
                },
                {
                  "name": "pixel86",
                  "rawType": "int64",
                  "type": "integer"
                },
                {
                  "name": "pixel87",
                  "rawType": "int64",
                  "type": "integer"
                },
                {
                  "name": "pixel88",
                  "rawType": "int64",
                  "type": "integer"
                },
                {
                  "name": "pixel89",
                  "rawType": "int64",
                  "type": "integer"
                },
                {
                  "name": "pixel90",
                  "rawType": "int64",
                  "type": "integer"
                },
                {
                  "name": "pixel91",
                  "rawType": "int64",
                  "type": "integer"
                },
                {
                  "name": "pixel92",
                  "rawType": "int64",
                  "type": "integer"
                },
                {
                  "name": "pixel93",
                  "rawType": "int64",
                  "type": "integer"
                },
                {
                  "name": "pixel94",
                  "rawType": "int64",
                  "type": "integer"
                },
                {
                  "name": "pixel95",
                  "rawType": "int64",
                  "type": "integer"
                },
                {
                  "name": "pixel96",
                  "rawType": "int64",
                  "type": "integer"
                },
                {
                  "name": "pixel97",
                  "rawType": "int64",
                  "type": "integer"
                },
                {
                  "name": "pixel98",
                  "rawType": "int64",
                  "type": "integer"
                },
                {
                  "name": "pixel99",
                  "rawType": "int64",
                  "type": "integer"
                },
                {
                  "name": "pixel100",
                  "rawType": "int64",
                  "type": "integer"
                },
                {
                  "name": "pixel101",
                  "rawType": "int64",
                  "type": "integer"
                },
                {
                  "name": "pixel102",
                  "rawType": "int64",
                  "type": "integer"
                },
                {
                  "name": "pixel103",
                  "rawType": "int64",
                  "type": "integer"
                },
                {
                  "name": "pixel104",
                  "rawType": "int64",
                  "type": "integer"
                },
                {
                  "name": "pixel105",
                  "rawType": "int64",
                  "type": "integer"
                },
                {
                  "name": "pixel106",
                  "rawType": "int64",
                  "type": "integer"
                },
                {
                  "name": "pixel107",
                  "rawType": "int64",
                  "type": "integer"
                },
                {
                  "name": "pixel108",
                  "rawType": "int64",
                  "type": "integer"
                },
                {
                  "name": "pixel109",
                  "rawType": "int64",
                  "type": "integer"
                },
                {
                  "name": "pixel110",
                  "rawType": "int64",
                  "type": "integer"
                },
                {
                  "name": "pixel111",
                  "rawType": "int64",
                  "type": "integer"
                },
                {
                  "name": "pixel112",
                  "rawType": "int64",
                  "type": "integer"
                },
                {
                  "name": "pixel113",
                  "rawType": "int64",
                  "type": "integer"
                },
                {
                  "name": "pixel114",
                  "rawType": "int64",
                  "type": "integer"
                },
                {
                  "name": "pixel115",
                  "rawType": "int64",
                  "type": "integer"
                },
                {
                  "name": "pixel116",
                  "rawType": "int64",
                  "type": "integer"
                },
                {
                  "name": "pixel117",
                  "rawType": "int64",
                  "type": "integer"
                },
                {
                  "name": "pixel118",
                  "rawType": "int64",
                  "type": "integer"
                },
                {
                  "name": "pixel119",
                  "rawType": "int64",
                  "type": "integer"
                },
                {
                  "name": "pixel120",
                  "rawType": "int64",
                  "type": "integer"
                },
                {
                  "name": "pixel121",
                  "rawType": "int64",
                  "type": "integer"
                },
                {
                  "name": "pixel122",
                  "rawType": "int64",
                  "type": "integer"
                },
                {
                  "name": "pixel123",
                  "rawType": "int64",
                  "type": "integer"
                },
                {
                  "name": "pixel124",
                  "rawType": "int64",
                  "type": "integer"
                },
                {
                  "name": "pixel125",
                  "rawType": "int64",
                  "type": "integer"
                },
                {
                  "name": "pixel126",
                  "rawType": "int64",
                  "type": "integer"
                },
                {
                  "name": "pixel127",
                  "rawType": "int64",
                  "type": "integer"
                },
                {
                  "name": "pixel128",
                  "rawType": "int64",
                  "type": "integer"
                },
                {
                  "name": "pixel129",
                  "rawType": "int64",
                  "type": "integer"
                },
                {
                  "name": "pixel130",
                  "rawType": "int64",
                  "type": "integer"
                },
                {
                  "name": "pixel131",
                  "rawType": "int64",
                  "type": "integer"
                },
                {
                  "name": "pixel132",
                  "rawType": "int64",
                  "type": "integer"
                },
                {
                  "name": "pixel133",
                  "rawType": "int64",
                  "type": "integer"
                },
                {
                  "name": "pixel134",
                  "rawType": "int64",
                  "type": "integer"
                },
                {
                  "name": "pixel135",
                  "rawType": "int64",
                  "type": "integer"
                },
                {
                  "name": "pixel136",
                  "rawType": "int64",
                  "type": "integer"
                },
                {
                  "name": "pixel137",
                  "rawType": "int64",
                  "type": "integer"
                },
                {
                  "name": "pixel138",
                  "rawType": "int64",
                  "type": "integer"
                },
                {
                  "name": "pixel139",
                  "rawType": "int64",
                  "type": "integer"
                },
                {
                  "name": "pixel140",
                  "rawType": "int64",
                  "type": "integer"
                },
                {
                  "name": "pixel141",
                  "rawType": "int64",
                  "type": "integer"
                },
                {
                  "name": "pixel142",
                  "rawType": "int64",
                  "type": "integer"
                },
                {
                  "name": "pixel143",
                  "rawType": "int64",
                  "type": "integer"
                },
                {
                  "name": "pixel144",
                  "rawType": "int64",
                  "type": "integer"
                },
                {
                  "name": "pixel145",
                  "rawType": "int64",
                  "type": "integer"
                },
                {
                  "name": "pixel146",
                  "rawType": "int64",
                  "type": "integer"
                },
                {
                  "name": "pixel147",
                  "rawType": "int64",
                  "type": "integer"
                },
                {
                  "name": "pixel148",
                  "rawType": "int64",
                  "type": "integer"
                },
                {
                  "name": "pixel149",
                  "rawType": "int64",
                  "type": "integer"
                },
                {
                  "name": "pixel150",
                  "rawType": "int64",
                  "type": "integer"
                },
                {
                  "name": "pixel151",
                  "rawType": "int64",
                  "type": "integer"
                },
                {
                  "name": "pixel152",
                  "rawType": "int64",
                  "type": "integer"
                },
                {
                  "name": "pixel153",
                  "rawType": "int64",
                  "type": "integer"
                },
                {
                  "name": "pixel154",
                  "rawType": "int64",
                  "type": "integer"
                },
                {
                  "name": "pixel155",
                  "rawType": "int64",
                  "type": "integer"
                },
                {
                  "name": "pixel156",
                  "rawType": "int64",
                  "type": "integer"
                },
                {
                  "name": "pixel157",
                  "rawType": "int64",
                  "type": "integer"
                },
                {
                  "name": "pixel158",
                  "rawType": "int64",
                  "type": "integer"
                },
                {
                  "name": "pixel159",
                  "rawType": "int64",
                  "type": "integer"
                },
                {
                  "name": "pixel160",
                  "rawType": "int64",
                  "type": "integer"
                },
                {
                  "name": "pixel161",
                  "rawType": "int64",
                  "type": "integer"
                },
                {
                  "name": "pixel162",
                  "rawType": "int64",
                  "type": "integer"
                },
                {
                  "name": "pixel163",
                  "rawType": "int64",
                  "type": "integer"
                },
                {
                  "name": "pixel164",
                  "rawType": "int64",
                  "type": "integer"
                },
                {
                  "name": "pixel165",
                  "rawType": "int64",
                  "type": "integer"
                },
                {
                  "name": "pixel166",
                  "rawType": "int64",
                  "type": "integer"
                },
                {
                  "name": "pixel167",
                  "rawType": "int64",
                  "type": "integer"
                },
                {
                  "name": "pixel168",
                  "rawType": "int64",
                  "type": "integer"
                },
                {
                  "name": "pixel169",
                  "rawType": "int64",
                  "type": "integer"
                },
                {
                  "name": "pixel170",
                  "rawType": "int64",
                  "type": "integer"
                },
                {
                  "name": "pixel171",
                  "rawType": "int64",
                  "type": "integer"
                },
                {
                  "name": "pixel172",
                  "rawType": "int64",
                  "type": "integer"
                },
                {
                  "name": "pixel173",
                  "rawType": "int64",
                  "type": "integer"
                },
                {
                  "name": "pixel174",
                  "rawType": "int64",
                  "type": "integer"
                },
                {
                  "name": "pixel175",
                  "rawType": "int64",
                  "type": "integer"
                },
                {
                  "name": "pixel176",
                  "rawType": "int64",
                  "type": "integer"
                },
                {
                  "name": "pixel177",
                  "rawType": "int64",
                  "type": "integer"
                },
                {
                  "name": "pixel178",
                  "rawType": "int64",
                  "type": "integer"
                },
                {
                  "name": "pixel179",
                  "rawType": "int64",
                  "type": "integer"
                },
                {
                  "name": "pixel180",
                  "rawType": "int64",
                  "type": "integer"
                },
                {
                  "name": "pixel181",
                  "rawType": "int64",
                  "type": "integer"
                },
                {
                  "name": "pixel182",
                  "rawType": "int64",
                  "type": "integer"
                },
                {
                  "name": "pixel183",
                  "rawType": "int64",
                  "type": "integer"
                },
                {
                  "name": "pixel184",
                  "rawType": "int64",
                  "type": "integer"
                },
                {
                  "name": "pixel185",
                  "rawType": "int64",
                  "type": "integer"
                },
                {
                  "name": "pixel186",
                  "rawType": "int64",
                  "type": "integer"
                },
                {
                  "name": "pixel187",
                  "rawType": "int64",
                  "type": "integer"
                },
                {
                  "name": "pixel188",
                  "rawType": "int64",
                  "type": "integer"
                },
                {
                  "name": "pixel189",
                  "rawType": "int64",
                  "type": "integer"
                },
                {
                  "name": "pixel190",
                  "rawType": "int64",
                  "type": "integer"
                },
                {
                  "name": "pixel191",
                  "rawType": "int64",
                  "type": "integer"
                },
                {
                  "name": "pixel192",
                  "rawType": "int64",
                  "type": "integer"
                },
                {
                  "name": "pixel193",
                  "rawType": "int64",
                  "type": "integer"
                },
                {
                  "name": "pixel194",
                  "rawType": "int64",
                  "type": "integer"
                },
                {
                  "name": "pixel195",
                  "rawType": "int64",
                  "type": "integer"
                },
                {
                  "name": "pixel196",
                  "rawType": "int64",
                  "type": "integer"
                },
                {
                  "name": "pixel197",
                  "rawType": "int64",
                  "type": "integer"
                },
                {
                  "name": "pixel198",
                  "rawType": "int64",
                  "type": "integer"
                },
                {
                  "name": "pixel199",
                  "rawType": "int64",
                  "type": "integer"
                },
                {
                  "name": "pixel200",
                  "rawType": "int64",
                  "type": "integer"
                },
                {
                  "name": "pixel201",
                  "rawType": "int64",
                  "type": "integer"
                },
                {
                  "name": "pixel202",
                  "rawType": "int64",
                  "type": "integer"
                },
                {
                  "name": "pixel203",
                  "rawType": "int64",
                  "type": "integer"
                },
                {
                  "name": "pixel204",
                  "rawType": "int64",
                  "type": "integer"
                },
                {
                  "name": "pixel205",
                  "rawType": "int64",
                  "type": "integer"
                },
                {
                  "name": "pixel206",
                  "rawType": "int64",
                  "type": "integer"
                },
                {
                  "name": "pixel207",
                  "rawType": "int64",
                  "type": "integer"
                },
                {
                  "name": "pixel208",
                  "rawType": "int64",
                  "type": "integer"
                },
                {
                  "name": "pixel209",
                  "rawType": "int64",
                  "type": "integer"
                },
                {
                  "name": "pixel210",
                  "rawType": "int64",
                  "type": "integer"
                },
                {
                  "name": "pixel211",
                  "rawType": "int64",
                  "type": "integer"
                },
                {
                  "name": "pixel212",
                  "rawType": "int64",
                  "type": "integer"
                },
                {
                  "name": "pixel213",
                  "rawType": "int64",
                  "type": "integer"
                },
                {
                  "name": "pixel214",
                  "rawType": "int64",
                  "type": "integer"
                },
                {
                  "name": "pixel215",
                  "rawType": "int64",
                  "type": "integer"
                },
                {
                  "name": "pixel216",
                  "rawType": "int64",
                  "type": "integer"
                },
                {
                  "name": "pixel217",
                  "rawType": "int64",
                  "type": "integer"
                },
                {
                  "name": "pixel218",
                  "rawType": "int64",
                  "type": "integer"
                },
                {
                  "name": "pixel219",
                  "rawType": "int64",
                  "type": "integer"
                },
                {
                  "name": "pixel220",
                  "rawType": "int64",
                  "type": "integer"
                },
                {
                  "name": "pixel221",
                  "rawType": "int64",
                  "type": "integer"
                },
                {
                  "name": "pixel222",
                  "rawType": "int64",
                  "type": "integer"
                },
                {
                  "name": "pixel223",
                  "rawType": "int64",
                  "type": "integer"
                },
                {
                  "name": "pixel224",
                  "rawType": "int64",
                  "type": "integer"
                },
                {
                  "name": "pixel225",
                  "rawType": "int64",
                  "type": "integer"
                },
                {
                  "name": "pixel226",
                  "rawType": "int64",
                  "type": "integer"
                },
                {
                  "name": "pixel227",
                  "rawType": "int64",
                  "type": "integer"
                },
                {
                  "name": "pixel228",
                  "rawType": "int64",
                  "type": "integer"
                },
                {
                  "name": "pixel229",
                  "rawType": "int64",
                  "type": "integer"
                },
                {
                  "name": "pixel230",
                  "rawType": "int64",
                  "type": "integer"
                },
                {
                  "name": "pixel231",
                  "rawType": "int64",
                  "type": "integer"
                },
                {
                  "name": "pixel232",
                  "rawType": "int64",
                  "type": "integer"
                },
                {
                  "name": "pixel233",
                  "rawType": "int64",
                  "type": "integer"
                },
                {
                  "name": "pixel234",
                  "rawType": "int64",
                  "type": "integer"
                },
                {
                  "name": "pixel235",
                  "rawType": "int64",
                  "type": "integer"
                },
                {
                  "name": "pixel236",
                  "rawType": "int64",
                  "type": "integer"
                },
                {
                  "name": "pixel237",
                  "rawType": "int64",
                  "type": "integer"
                },
                {
                  "name": "pixel238",
                  "rawType": "int64",
                  "type": "integer"
                },
                {
                  "name": "pixel239",
                  "rawType": "int64",
                  "type": "integer"
                },
                {
                  "name": "pixel240",
                  "rawType": "int64",
                  "type": "integer"
                },
                {
                  "name": "pixel241",
                  "rawType": "int64",
                  "type": "integer"
                },
                {
                  "name": "pixel242",
                  "rawType": "int64",
                  "type": "integer"
                },
                {
                  "name": "pixel243",
                  "rawType": "int64",
                  "type": "integer"
                },
                {
                  "name": "pixel244",
                  "rawType": "int64",
                  "type": "integer"
                },
                {
                  "name": "pixel245",
                  "rawType": "int64",
                  "type": "integer"
                },
                {
                  "name": "pixel246",
                  "rawType": "int64",
                  "type": "integer"
                },
                {
                  "name": "pixel247",
                  "rawType": "int64",
                  "type": "integer"
                },
                {
                  "name": "pixel248",
                  "rawType": "int64",
                  "type": "integer"
                },
                {
                  "name": "pixel249",
                  "rawType": "int64",
                  "type": "integer"
                },
                {
                  "name": "pixel250",
                  "rawType": "int64",
                  "type": "integer"
                },
                {
                  "name": "pixel251",
                  "rawType": "int64",
                  "type": "integer"
                },
                {
                  "name": "pixel252",
                  "rawType": "int64",
                  "type": "integer"
                },
                {
                  "name": "pixel253",
                  "rawType": "int64",
                  "type": "integer"
                },
                {
                  "name": "pixel254",
                  "rawType": "int64",
                  "type": "integer"
                },
                {
                  "name": "pixel255",
                  "rawType": "int64",
                  "type": "integer"
                },
                {
                  "name": "pixel256",
                  "rawType": "int64",
                  "type": "integer"
                },
                {
                  "name": "pixel257",
                  "rawType": "int64",
                  "type": "integer"
                },
                {
                  "name": "pixel258",
                  "rawType": "int64",
                  "type": "integer"
                },
                {
                  "name": "pixel259",
                  "rawType": "int64",
                  "type": "integer"
                },
                {
                  "name": "pixel260",
                  "rawType": "int64",
                  "type": "integer"
                },
                {
                  "name": "pixel261",
                  "rawType": "int64",
                  "type": "integer"
                },
                {
                  "name": "pixel262",
                  "rawType": "int64",
                  "type": "integer"
                },
                {
                  "name": "pixel263",
                  "rawType": "int64",
                  "type": "integer"
                },
                {
                  "name": "pixel264",
                  "rawType": "int64",
                  "type": "integer"
                },
                {
                  "name": "pixel265",
                  "rawType": "int64",
                  "type": "integer"
                },
                {
                  "name": "pixel266",
                  "rawType": "int64",
                  "type": "integer"
                },
                {
                  "name": "pixel267",
                  "rawType": "int64",
                  "type": "integer"
                },
                {
                  "name": "pixel268",
                  "rawType": "int64",
                  "type": "integer"
                },
                {
                  "name": "pixel269",
                  "rawType": "int64",
                  "type": "integer"
                },
                {
                  "name": "pixel270",
                  "rawType": "int64",
                  "type": "integer"
                },
                {
                  "name": "pixel271",
                  "rawType": "int64",
                  "type": "integer"
                },
                {
                  "name": "pixel272",
                  "rawType": "int64",
                  "type": "integer"
                },
                {
                  "name": "pixel273",
                  "rawType": "int64",
                  "type": "integer"
                },
                {
                  "name": "pixel274",
                  "rawType": "int64",
                  "type": "integer"
                },
                {
                  "name": "pixel275",
                  "rawType": "int64",
                  "type": "integer"
                },
                {
                  "name": "pixel276",
                  "rawType": "int64",
                  "type": "integer"
                },
                {
                  "name": "pixel277",
                  "rawType": "int64",
                  "type": "integer"
                },
                {
                  "name": "pixel278",
                  "rawType": "int64",
                  "type": "integer"
                },
                {
                  "name": "pixel279",
                  "rawType": "int64",
                  "type": "integer"
                },
                {
                  "name": "pixel280",
                  "rawType": "int64",
                  "type": "integer"
                },
                {
                  "name": "pixel281",
                  "rawType": "int64",
                  "type": "integer"
                },
                {
                  "name": "pixel282",
                  "rawType": "int64",
                  "type": "integer"
                },
                {
                  "name": "pixel283",
                  "rawType": "int64",
                  "type": "integer"
                },
                {
                  "name": "pixel284",
                  "rawType": "int64",
                  "type": "integer"
                },
                {
                  "name": "pixel285",
                  "rawType": "int64",
                  "type": "integer"
                },
                {
                  "name": "pixel286",
                  "rawType": "int64",
                  "type": "integer"
                },
                {
                  "name": "pixel287",
                  "rawType": "int64",
                  "type": "integer"
                },
                {
                  "name": "pixel288",
                  "rawType": "int64",
                  "type": "integer"
                },
                {
                  "name": "pixel289",
                  "rawType": "int64",
                  "type": "integer"
                },
                {
                  "name": "pixel290",
                  "rawType": "int64",
                  "type": "integer"
                },
                {
                  "name": "pixel291",
                  "rawType": "int64",
                  "type": "integer"
                },
                {
                  "name": "pixel292",
                  "rawType": "int64",
                  "type": "integer"
                },
                {
                  "name": "pixel293",
                  "rawType": "int64",
                  "type": "integer"
                },
                {
                  "name": "pixel294",
                  "rawType": "int64",
                  "type": "integer"
                },
                {
                  "name": "pixel295",
                  "rawType": "int64",
                  "type": "integer"
                },
                {
                  "name": "pixel296",
                  "rawType": "int64",
                  "type": "integer"
                },
                {
                  "name": "pixel297",
                  "rawType": "int64",
                  "type": "integer"
                },
                {
                  "name": "pixel298",
                  "rawType": "int64",
                  "type": "integer"
                },
                {
                  "name": "pixel299",
                  "rawType": "int64",
                  "type": "integer"
                },
                {
                  "name": "pixel300",
                  "rawType": "int64",
                  "type": "integer"
                },
                {
                  "name": "pixel301",
                  "rawType": "int64",
                  "type": "integer"
                },
                {
                  "name": "pixel302",
                  "rawType": "int64",
                  "type": "integer"
                },
                {
                  "name": "pixel303",
                  "rawType": "int64",
                  "type": "integer"
                },
                {
                  "name": "pixel304",
                  "rawType": "int64",
                  "type": "integer"
                },
                {
                  "name": "pixel305",
                  "rawType": "int64",
                  "type": "integer"
                },
                {
                  "name": "pixel306",
                  "rawType": "int64",
                  "type": "integer"
                },
                {
                  "name": "pixel307",
                  "rawType": "int64",
                  "type": "integer"
                },
                {
                  "name": "pixel308",
                  "rawType": "int64",
                  "type": "integer"
                },
                {
                  "name": "pixel309",
                  "rawType": "int64",
                  "type": "integer"
                },
                {
                  "name": "pixel310",
                  "rawType": "int64",
                  "type": "integer"
                },
                {
                  "name": "pixel311",
                  "rawType": "int64",
                  "type": "integer"
                },
                {
                  "name": "pixel312",
                  "rawType": "int64",
                  "type": "integer"
                },
                {
                  "name": "pixel313",
                  "rawType": "int64",
                  "type": "integer"
                },
                {
                  "name": "pixel314",
                  "rawType": "int64",
                  "type": "integer"
                },
                {
                  "name": "pixel315",
                  "rawType": "int64",
                  "type": "integer"
                },
                {
                  "name": "pixel316",
                  "rawType": "int64",
                  "type": "integer"
                },
                {
                  "name": "pixel317",
                  "rawType": "int64",
                  "type": "integer"
                },
                {
                  "name": "pixel318",
                  "rawType": "int64",
                  "type": "integer"
                },
                {
                  "name": "pixel319",
                  "rawType": "int64",
                  "type": "integer"
                },
                {
                  "name": "pixel320",
                  "rawType": "int64",
                  "type": "integer"
                },
                {
                  "name": "pixel321",
                  "rawType": "int64",
                  "type": "integer"
                },
                {
                  "name": "pixel322",
                  "rawType": "int64",
                  "type": "integer"
                },
                {
                  "name": "pixel323",
                  "rawType": "int64",
                  "type": "integer"
                },
                {
                  "name": "pixel324",
                  "rawType": "int64",
                  "type": "integer"
                },
                {
                  "name": "pixel325",
                  "rawType": "int64",
                  "type": "integer"
                },
                {
                  "name": "pixel326",
                  "rawType": "int64",
                  "type": "integer"
                },
                {
                  "name": "pixel327",
                  "rawType": "int64",
                  "type": "integer"
                },
                {
                  "name": "pixel328",
                  "rawType": "int64",
                  "type": "integer"
                },
                {
                  "name": "pixel329",
                  "rawType": "int64",
                  "type": "integer"
                },
                {
                  "name": "pixel330",
                  "rawType": "int64",
                  "type": "integer"
                },
                {
                  "name": "pixel331",
                  "rawType": "int64",
                  "type": "integer"
                },
                {
                  "name": "pixel332",
                  "rawType": "int64",
                  "type": "integer"
                },
                {
                  "name": "pixel333",
                  "rawType": "int64",
                  "type": "integer"
                },
                {
                  "name": "pixel334",
                  "rawType": "int64",
                  "type": "integer"
                },
                {
                  "name": "pixel335",
                  "rawType": "int64",
                  "type": "integer"
                },
                {
                  "name": "pixel336",
                  "rawType": "int64",
                  "type": "integer"
                },
                {
                  "name": "pixel337",
                  "rawType": "int64",
                  "type": "integer"
                },
                {
                  "name": "pixel338",
                  "rawType": "int64",
                  "type": "integer"
                },
                {
                  "name": "pixel339",
                  "rawType": "int64",
                  "type": "integer"
                },
                {
                  "name": "pixel340",
                  "rawType": "int64",
                  "type": "integer"
                },
                {
                  "name": "pixel341",
                  "rawType": "int64",
                  "type": "integer"
                },
                {
                  "name": "pixel342",
                  "rawType": "int64",
                  "type": "integer"
                },
                {
                  "name": "pixel343",
                  "rawType": "int64",
                  "type": "integer"
                },
                {
                  "name": "pixel344",
                  "rawType": "int64",
                  "type": "integer"
                },
                {
                  "name": "pixel345",
                  "rawType": "int64",
                  "type": "integer"
                },
                {
                  "name": "pixel346",
                  "rawType": "int64",
                  "type": "integer"
                },
                {
                  "name": "pixel347",
                  "rawType": "int64",
                  "type": "integer"
                },
                {
                  "name": "pixel348",
                  "rawType": "int64",
                  "type": "integer"
                },
                {
                  "name": "pixel349",
                  "rawType": "int64",
                  "type": "integer"
                },
                {
                  "name": "pixel350",
                  "rawType": "int64",
                  "type": "integer"
                },
                {
                  "name": "pixel351",
                  "rawType": "int64",
                  "type": "integer"
                },
                {
                  "name": "pixel352",
                  "rawType": "int64",
                  "type": "integer"
                },
                {
                  "name": "pixel353",
                  "rawType": "int64",
                  "type": "integer"
                },
                {
                  "name": "pixel354",
                  "rawType": "int64",
                  "type": "integer"
                },
                {
                  "name": "pixel355",
                  "rawType": "int64",
                  "type": "integer"
                },
                {
                  "name": "pixel356",
                  "rawType": "int64",
                  "type": "integer"
                },
                {
                  "name": "pixel357",
                  "rawType": "int64",
                  "type": "integer"
                },
                {
                  "name": "pixel358",
                  "rawType": "int64",
                  "type": "integer"
                },
                {
                  "name": "pixel359",
                  "rawType": "int64",
                  "type": "integer"
                },
                {
                  "name": "pixel360",
                  "rawType": "int64",
                  "type": "integer"
                },
                {
                  "name": "pixel361",
                  "rawType": "float64",
                  "type": "float"
                },
                {
                  "name": "pixel362",
                  "rawType": "float64",
                  "type": "float"
                },
                {
                  "name": "pixel363",
                  "rawType": "float64",
                  "type": "float"
                },
                {
                  "name": "pixel364",
                  "rawType": "float64",
                  "type": "float"
                },
                {
                  "name": "pixel365",
                  "rawType": "float64",
                  "type": "float"
                },
                {
                  "name": "pixel366",
                  "rawType": "float64",
                  "type": "float"
                },
                {
                  "name": "pixel367",
                  "rawType": "float64",
                  "type": "float"
                },
                {
                  "name": "pixel368",
                  "rawType": "float64",
                  "type": "float"
                },
                {
                  "name": "pixel369",
                  "rawType": "float64",
                  "type": "float"
                },
                {
                  "name": "pixel370",
                  "rawType": "float64",
                  "type": "float"
                },
                {
                  "name": "pixel371",
                  "rawType": "float64",
                  "type": "float"
                },
                {
                  "name": "pixel372",
                  "rawType": "float64",
                  "type": "float"
                },
                {
                  "name": "pixel373",
                  "rawType": "float64",
                  "type": "float"
                },
                {
                  "name": "pixel374",
                  "rawType": "float64",
                  "type": "float"
                },
                {
                  "name": "pixel375",
                  "rawType": "float64",
                  "type": "float"
                },
                {
                  "name": "pixel376",
                  "rawType": "float64",
                  "type": "float"
                },
                {
                  "name": "pixel377",
                  "rawType": "float64",
                  "type": "float"
                },
                {
                  "name": "pixel378",
                  "rawType": "float64",
                  "type": "float"
                },
                {
                  "name": "pixel379",
                  "rawType": "float64",
                  "type": "float"
                },
                {
                  "name": "pixel380",
                  "rawType": "float64",
                  "type": "float"
                },
                {
                  "name": "pixel381",
                  "rawType": "float64",
                  "type": "float"
                },
                {
                  "name": "pixel382",
                  "rawType": "float64",
                  "type": "float"
                },
                {
                  "name": "pixel383",
                  "rawType": "float64",
                  "type": "float"
                },
                {
                  "name": "pixel384",
                  "rawType": "float64",
                  "type": "float"
                },
                {
                  "name": "pixel385",
                  "rawType": "float64",
                  "type": "float"
                },
                {
                  "name": "pixel386",
                  "rawType": "float64",
                  "type": "float"
                },
                {
                  "name": "pixel387",
                  "rawType": "float64",
                  "type": "float"
                },
                {
                  "name": "pixel388",
                  "rawType": "float64",
                  "type": "float"
                },
                {
                  "name": "pixel389",
                  "rawType": "float64",
                  "type": "float"
                },
                {
                  "name": "pixel390",
                  "rawType": "float64",
                  "type": "float"
                },
                {
                  "name": "pixel391",
                  "rawType": "float64",
                  "type": "float"
                },
                {
                  "name": "pixel392",
                  "rawType": "float64",
                  "type": "float"
                },
                {
                  "name": "pixel393",
                  "rawType": "float64",
                  "type": "float"
                },
                {
                  "name": "pixel394",
                  "rawType": "float64",
                  "type": "float"
                },
                {
                  "name": "pixel395",
                  "rawType": "float64",
                  "type": "float"
                },
                {
                  "name": "pixel396",
                  "rawType": "float64",
                  "type": "float"
                },
                {
                  "name": "pixel397",
                  "rawType": "float64",
                  "type": "float"
                },
                {
                  "name": "pixel398",
                  "rawType": "float64",
                  "type": "float"
                },
                {
                  "name": "pixel399",
                  "rawType": "float64",
                  "type": "float"
                },
                {
                  "name": "pixel400",
                  "rawType": "float64",
                  "type": "float"
                },
                {
                  "name": "pixel401",
                  "rawType": "float64",
                  "type": "float"
                },
                {
                  "name": "pixel402",
                  "rawType": "float64",
                  "type": "float"
                },
                {
                  "name": "pixel403",
                  "rawType": "float64",
                  "type": "float"
                },
                {
                  "name": "pixel404",
                  "rawType": "float64",
                  "type": "float"
                },
                {
                  "name": "pixel405",
                  "rawType": "float64",
                  "type": "float"
                },
                {
                  "name": "pixel406",
                  "rawType": "float64",
                  "type": "float"
                },
                {
                  "name": "pixel407",
                  "rawType": "float64",
                  "type": "float"
                },
                {
                  "name": "pixel408",
                  "rawType": "float64",
                  "type": "float"
                },
                {
                  "name": "pixel409",
                  "rawType": "float64",
                  "type": "float"
                },
                {
                  "name": "pixel410",
                  "rawType": "float64",
                  "type": "float"
                },
                {
                  "name": "pixel411",
                  "rawType": "float64",
                  "type": "float"
                },
                {
                  "name": "pixel412",
                  "rawType": "float64",
                  "type": "float"
                },
                {
                  "name": "pixel413",
                  "rawType": "float64",
                  "type": "float"
                },
                {
                  "name": "pixel414",
                  "rawType": "float64",
                  "type": "float"
                },
                {
                  "name": "pixel415",
                  "rawType": "float64",
                  "type": "float"
                },
                {
                  "name": "pixel416",
                  "rawType": "float64",
                  "type": "float"
                },
                {
                  "name": "pixel417",
                  "rawType": "float64",
                  "type": "float"
                },
                {
                  "name": "pixel418",
                  "rawType": "float64",
                  "type": "float"
                },
                {
                  "name": "pixel419",
                  "rawType": "float64",
                  "type": "float"
                },
                {
                  "name": "pixel420",
                  "rawType": "float64",
                  "type": "float"
                },
                {
                  "name": "pixel421",
                  "rawType": "float64",
                  "type": "float"
                },
                {
                  "name": "pixel422",
                  "rawType": "float64",
                  "type": "float"
                },
                {
                  "name": "pixel423",
                  "rawType": "float64",
                  "type": "float"
                },
                {
                  "name": "pixel424",
                  "rawType": "float64",
                  "type": "float"
                },
                {
                  "name": "pixel425",
                  "rawType": "float64",
                  "type": "float"
                },
                {
                  "name": "pixel426",
                  "rawType": "float64",
                  "type": "float"
                },
                {
                  "name": "pixel427",
                  "rawType": "float64",
                  "type": "float"
                },
                {
                  "name": "pixel428",
                  "rawType": "float64",
                  "type": "float"
                },
                {
                  "name": "pixel429",
                  "rawType": "float64",
                  "type": "float"
                },
                {
                  "name": "pixel430",
                  "rawType": "float64",
                  "type": "float"
                },
                {
                  "name": "pixel431",
                  "rawType": "float64",
                  "type": "float"
                },
                {
                  "name": "pixel432",
                  "rawType": "float64",
                  "type": "float"
                },
                {
                  "name": "pixel433",
                  "rawType": "float64",
                  "type": "float"
                },
                {
                  "name": "pixel434",
                  "rawType": "float64",
                  "type": "float"
                },
                {
                  "name": "pixel435",
                  "rawType": "float64",
                  "type": "float"
                },
                {
                  "name": "pixel436",
                  "rawType": "float64",
                  "type": "float"
                },
                {
                  "name": "pixel437",
                  "rawType": "float64",
                  "type": "float"
                },
                {
                  "name": "pixel438",
                  "rawType": "float64",
                  "type": "float"
                },
                {
                  "name": "pixel439",
                  "rawType": "float64",
                  "type": "float"
                },
                {
                  "name": "pixel440",
                  "rawType": "float64",
                  "type": "float"
                },
                {
                  "name": "pixel441",
                  "rawType": "float64",
                  "type": "float"
                },
                {
                  "name": "pixel442",
                  "rawType": "float64",
                  "type": "float"
                },
                {
                  "name": "pixel443",
                  "rawType": "float64",
                  "type": "float"
                },
                {
                  "name": "pixel444",
                  "rawType": "float64",
                  "type": "float"
                },
                {
                  "name": "pixel445",
                  "rawType": "float64",
                  "type": "float"
                },
                {
                  "name": "pixel446",
                  "rawType": "float64",
                  "type": "float"
                },
                {
                  "name": "pixel447",
                  "rawType": "float64",
                  "type": "float"
                },
                {
                  "name": "pixel448",
                  "rawType": "float64",
                  "type": "float"
                },
                {
                  "name": "pixel449",
                  "rawType": "float64",
                  "type": "float"
                },
                {
                  "name": "pixel450",
                  "rawType": "float64",
                  "type": "float"
                },
                {
                  "name": "pixel451",
                  "rawType": "float64",
                  "type": "float"
                },
                {
                  "name": "pixel452",
                  "rawType": "float64",
                  "type": "float"
                },
                {
                  "name": "pixel453",
                  "rawType": "float64",
                  "type": "float"
                },
                {
                  "name": "pixel454",
                  "rawType": "float64",
                  "type": "float"
                },
                {
                  "name": "pixel455",
                  "rawType": "float64",
                  "type": "float"
                },
                {
                  "name": "pixel456",
                  "rawType": "float64",
                  "type": "float"
                },
                {
                  "name": "pixel457",
                  "rawType": "float64",
                  "type": "float"
                },
                {
                  "name": "pixel458",
                  "rawType": "float64",
                  "type": "float"
                },
                {
                  "name": "pixel459",
                  "rawType": "float64",
                  "type": "float"
                },
                {
                  "name": "pixel460",
                  "rawType": "float64",
                  "type": "float"
                },
                {
                  "name": "pixel461",
                  "rawType": "float64",
                  "type": "float"
                },
                {
                  "name": "pixel462",
                  "rawType": "float64",
                  "type": "float"
                },
                {
                  "name": "pixel463",
                  "rawType": "float64",
                  "type": "float"
                },
                {
                  "name": "pixel464",
                  "rawType": "float64",
                  "type": "float"
                },
                {
                  "name": "pixel465",
                  "rawType": "float64",
                  "type": "float"
                },
                {
                  "name": "pixel466",
                  "rawType": "float64",
                  "type": "float"
                },
                {
                  "name": "pixel467",
                  "rawType": "float64",
                  "type": "float"
                },
                {
                  "name": "pixel468",
                  "rawType": "float64",
                  "type": "float"
                },
                {
                  "name": "pixel469",
                  "rawType": "float64",
                  "type": "float"
                },
                {
                  "name": "pixel470",
                  "rawType": "float64",
                  "type": "float"
                },
                {
                  "name": "pixel471",
                  "rawType": "float64",
                  "type": "float"
                },
                {
                  "name": "pixel472",
                  "rawType": "float64",
                  "type": "float"
                },
                {
                  "name": "pixel473",
                  "rawType": "float64",
                  "type": "float"
                },
                {
                  "name": "pixel474",
                  "rawType": "float64",
                  "type": "float"
                },
                {
                  "name": "pixel475",
                  "rawType": "float64",
                  "type": "float"
                },
                {
                  "name": "pixel476",
                  "rawType": "float64",
                  "type": "float"
                },
                {
                  "name": "pixel477",
                  "rawType": "float64",
                  "type": "float"
                },
                {
                  "name": "pixel478",
                  "rawType": "float64",
                  "type": "float"
                },
                {
                  "name": "pixel479",
                  "rawType": "float64",
                  "type": "float"
                },
                {
                  "name": "pixel480",
                  "rawType": "float64",
                  "type": "float"
                },
                {
                  "name": "pixel481",
                  "rawType": "float64",
                  "type": "float"
                },
                {
                  "name": "pixel482",
                  "rawType": "float64",
                  "type": "float"
                },
                {
                  "name": "pixel483",
                  "rawType": "float64",
                  "type": "float"
                },
                {
                  "name": "pixel484",
                  "rawType": "float64",
                  "type": "float"
                },
                {
                  "name": "pixel485",
                  "rawType": "float64",
                  "type": "float"
                },
                {
                  "name": "pixel486",
                  "rawType": "float64",
                  "type": "float"
                },
                {
                  "name": "pixel487",
                  "rawType": "float64",
                  "type": "float"
                },
                {
                  "name": "pixel488",
                  "rawType": "float64",
                  "type": "float"
                },
                {
                  "name": "pixel489",
                  "rawType": "float64",
                  "type": "float"
                },
                {
                  "name": "pixel490",
                  "rawType": "float64",
                  "type": "float"
                },
                {
                  "name": "pixel491",
                  "rawType": "float64",
                  "type": "float"
                },
                {
                  "name": "pixel492",
                  "rawType": "float64",
                  "type": "float"
                },
                {
                  "name": "pixel493",
                  "rawType": "float64",
                  "type": "float"
                },
                {
                  "name": "pixel494",
                  "rawType": "float64",
                  "type": "float"
                },
                {
                  "name": "pixel495",
                  "rawType": "float64",
                  "type": "float"
                },
                {
                  "name": "pixel496",
                  "rawType": "float64",
                  "type": "float"
                },
                {
                  "name": "pixel497",
                  "rawType": "float64",
                  "type": "float"
                },
                {
                  "name": "pixel498",
                  "rawType": "float64",
                  "type": "float"
                },
                {
                  "name": "pixel499",
                  "rawType": "float64",
                  "type": "float"
                },
                {
                  "name": "pixel500",
                  "rawType": "float64",
                  "type": "float"
                },
                {
                  "name": "pixel501",
                  "rawType": "float64",
                  "type": "float"
                },
                {
                  "name": "pixel502",
                  "rawType": "float64",
                  "type": "float"
                },
                {
                  "name": "pixel503",
                  "rawType": "float64",
                  "type": "float"
                },
                {
                  "name": "pixel504",
                  "rawType": "float64",
                  "type": "float"
                },
                {
                  "name": "pixel505",
                  "rawType": "float64",
                  "type": "float"
                },
                {
                  "name": "pixel506",
                  "rawType": "float64",
                  "type": "float"
                },
                {
                  "name": "pixel507",
                  "rawType": "float64",
                  "type": "float"
                },
                {
                  "name": "pixel508",
                  "rawType": "float64",
                  "type": "float"
                },
                {
                  "name": "pixel509",
                  "rawType": "float64",
                  "type": "float"
                },
                {
                  "name": "pixel510",
                  "rawType": "float64",
                  "type": "float"
                },
                {
                  "name": "pixel511",
                  "rawType": "float64",
                  "type": "float"
                },
                {
                  "name": "pixel512",
                  "rawType": "float64",
                  "type": "float"
                },
                {
                  "name": "pixel513",
                  "rawType": "float64",
                  "type": "float"
                },
                {
                  "name": "pixel514",
                  "rawType": "float64",
                  "type": "float"
                },
                {
                  "name": "pixel515",
                  "rawType": "float64",
                  "type": "float"
                },
                {
                  "name": "pixel516",
                  "rawType": "float64",
                  "type": "float"
                },
                {
                  "name": "pixel517",
                  "rawType": "float64",
                  "type": "float"
                },
                {
                  "name": "pixel518",
                  "rawType": "float64",
                  "type": "float"
                },
                {
                  "name": "pixel519",
                  "rawType": "float64",
                  "type": "float"
                },
                {
                  "name": "pixel520",
                  "rawType": "float64",
                  "type": "float"
                },
                {
                  "name": "pixel521",
                  "rawType": "float64",
                  "type": "float"
                },
                {
                  "name": "pixel522",
                  "rawType": "float64",
                  "type": "float"
                },
                {
                  "name": "pixel523",
                  "rawType": "float64",
                  "type": "float"
                },
                {
                  "name": "pixel524",
                  "rawType": "float64",
                  "type": "float"
                },
                {
                  "name": "pixel525",
                  "rawType": "float64",
                  "type": "float"
                },
                {
                  "name": "pixel526",
                  "rawType": "float64",
                  "type": "float"
                },
                {
                  "name": "pixel527",
                  "rawType": "float64",
                  "type": "float"
                },
                {
                  "name": "pixel528",
                  "rawType": "float64",
                  "type": "float"
                },
                {
                  "name": "pixel529",
                  "rawType": "float64",
                  "type": "float"
                },
                {
                  "name": "pixel530",
                  "rawType": "float64",
                  "type": "float"
                },
                {
                  "name": "pixel531",
                  "rawType": "float64",
                  "type": "float"
                },
                {
                  "name": "pixel532",
                  "rawType": "float64",
                  "type": "float"
                },
                {
                  "name": "pixel533",
                  "rawType": "float64",
                  "type": "float"
                },
                {
                  "name": "pixel534",
                  "rawType": "float64",
                  "type": "float"
                },
                {
                  "name": "pixel535",
                  "rawType": "float64",
                  "type": "float"
                },
                {
                  "name": "pixel536",
                  "rawType": "float64",
                  "type": "float"
                },
                {
                  "name": "pixel537",
                  "rawType": "float64",
                  "type": "float"
                },
                {
                  "name": "pixel538",
                  "rawType": "float64",
                  "type": "float"
                },
                {
                  "name": "pixel539",
                  "rawType": "float64",
                  "type": "float"
                },
                {
                  "name": "pixel540",
                  "rawType": "float64",
                  "type": "float"
                },
                {
                  "name": "pixel541",
                  "rawType": "float64",
                  "type": "float"
                },
                {
                  "name": "pixel542",
                  "rawType": "float64",
                  "type": "float"
                },
                {
                  "name": "pixel543",
                  "rawType": "float64",
                  "type": "float"
                },
                {
                  "name": "pixel544",
                  "rawType": "float64",
                  "type": "float"
                },
                {
                  "name": "pixel545",
                  "rawType": "float64",
                  "type": "float"
                },
                {
                  "name": "pixel546",
                  "rawType": "float64",
                  "type": "float"
                },
                {
                  "name": "pixel547",
                  "rawType": "float64",
                  "type": "float"
                },
                {
                  "name": "pixel548",
                  "rawType": "float64",
                  "type": "float"
                },
                {
                  "name": "pixel549",
                  "rawType": "float64",
                  "type": "float"
                },
                {
                  "name": "pixel550",
                  "rawType": "float64",
                  "type": "float"
                },
                {
                  "name": "pixel551",
                  "rawType": "float64",
                  "type": "float"
                },
                {
                  "name": "pixel552",
                  "rawType": "float64",
                  "type": "float"
                },
                {
                  "name": "pixel553",
                  "rawType": "float64",
                  "type": "float"
                },
                {
                  "name": "pixel554",
                  "rawType": "float64",
                  "type": "float"
                },
                {
                  "name": "pixel555",
                  "rawType": "float64",
                  "type": "float"
                },
                {
                  "name": "pixel556",
                  "rawType": "float64",
                  "type": "float"
                },
                {
                  "name": "pixel557",
                  "rawType": "float64",
                  "type": "float"
                },
                {
                  "name": "pixel558",
                  "rawType": "float64",
                  "type": "float"
                },
                {
                  "name": "pixel559",
                  "rawType": "float64",
                  "type": "float"
                },
                {
                  "name": "pixel560",
                  "rawType": "float64",
                  "type": "float"
                },
                {
                  "name": "pixel561",
                  "rawType": "float64",
                  "type": "float"
                },
                {
                  "name": "pixel562",
                  "rawType": "float64",
                  "type": "float"
                },
                {
                  "name": "pixel563",
                  "rawType": "float64",
                  "type": "float"
                },
                {
                  "name": "pixel564",
                  "rawType": "float64",
                  "type": "float"
                },
                {
                  "name": "pixel565",
                  "rawType": "float64",
                  "type": "float"
                },
                {
                  "name": "pixel566",
                  "rawType": "float64",
                  "type": "float"
                },
                {
                  "name": "pixel567",
                  "rawType": "float64",
                  "type": "float"
                },
                {
                  "name": "pixel568",
                  "rawType": "float64",
                  "type": "float"
                },
                {
                  "name": "pixel569",
                  "rawType": "float64",
                  "type": "float"
                },
                {
                  "name": "pixel570",
                  "rawType": "float64",
                  "type": "float"
                },
                {
                  "name": "pixel571",
                  "rawType": "float64",
                  "type": "float"
                },
                {
                  "name": "pixel572",
                  "rawType": "float64",
                  "type": "float"
                },
                {
                  "name": "pixel573",
                  "rawType": "float64",
                  "type": "float"
                },
                {
                  "name": "pixel574",
                  "rawType": "float64",
                  "type": "float"
                },
                {
                  "name": "pixel575",
                  "rawType": "float64",
                  "type": "float"
                },
                {
                  "name": "pixel576",
                  "rawType": "float64",
                  "type": "float"
                },
                {
                  "name": "pixel577",
                  "rawType": "float64",
                  "type": "float"
                },
                {
                  "name": "pixel578",
                  "rawType": "float64",
                  "type": "float"
                },
                {
                  "name": "pixel579",
                  "rawType": "float64",
                  "type": "float"
                },
                {
                  "name": "pixel580",
                  "rawType": "float64",
                  "type": "float"
                },
                {
                  "name": "pixel581",
                  "rawType": "float64",
                  "type": "float"
                },
                {
                  "name": "pixel582",
                  "rawType": "float64",
                  "type": "float"
                },
                {
                  "name": "pixel583",
                  "rawType": "float64",
                  "type": "float"
                },
                {
                  "name": "pixel584",
                  "rawType": "float64",
                  "type": "float"
                },
                {
                  "name": "pixel585",
                  "rawType": "float64",
                  "type": "float"
                },
                {
                  "name": "pixel586",
                  "rawType": "float64",
                  "type": "float"
                },
                {
                  "name": "pixel587",
                  "rawType": "float64",
                  "type": "float"
                },
                {
                  "name": "pixel588",
                  "rawType": "float64",
                  "type": "float"
                },
                {
                  "name": "pixel589",
                  "rawType": "float64",
                  "type": "float"
                },
                {
                  "name": "pixel590",
                  "rawType": "float64",
                  "type": "float"
                },
                {
                  "name": "pixel591",
                  "rawType": "float64",
                  "type": "float"
                },
                {
                  "name": "pixel592",
                  "rawType": "float64",
                  "type": "float"
                },
                {
                  "name": "pixel593",
                  "rawType": "float64",
                  "type": "float"
                },
                {
                  "name": "pixel594",
                  "rawType": "float64",
                  "type": "float"
                },
                {
                  "name": "pixel595",
                  "rawType": "float64",
                  "type": "float"
                },
                {
                  "name": "pixel596",
                  "rawType": "float64",
                  "type": "float"
                },
                {
                  "name": "pixel597",
                  "rawType": "float64",
                  "type": "float"
                },
                {
                  "name": "pixel598",
                  "rawType": "float64",
                  "type": "float"
                },
                {
                  "name": "pixel599",
                  "rawType": "float64",
                  "type": "float"
                },
                {
                  "name": "pixel600",
                  "rawType": "float64",
                  "type": "float"
                },
                {
                  "name": "pixel601",
                  "rawType": "float64",
                  "type": "float"
                },
                {
                  "name": "pixel602",
                  "rawType": "float64",
                  "type": "float"
                },
                {
                  "name": "pixel603",
                  "rawType": "float64",
                  "type": "float"
                },
                {
                  "name": "pixel604",
                  "rawType": "float64",
                  "type": "float"
                },
                {
                  "name": "pixel605",
                  "rawType": "float64",
                  "type": "float"
                },
                {
                  "name": "pixel606",
                  "rawType": "float64",
                  "type": "float"
                },
                {
                  "name": "pixel607",
                  "rawType": "float64",
                  "type": "float"
                },
                {
                  "name": "pixel608",
                  "rawType": "float64",
                  "type": "float"
                },
                {
                  "name": "pixel609",
                  "rawType": "float64",
                  "type": "float"
                },
                {
                  "name": "pixel610",
                  "rawType": "float64",
                  "type": "float"
                },
                {
                  "name": "pixel611",
                  "rawType": "float64",
                  "type": "float"
                },
                {
                  "name": "pixel612",
                  "rawType": "float64",
                  "type": "float"
                },
                {
                  "name": "pixel613",
                  "rawType": "float64",
                  "type": "float"
                },
                {
                  "name": "pixel614",
                  "rawType": "float64",
                  "type": "float"
                },
                {
                  "name": "pixel615",
                  "rawType": "float64",
                  "type": "float"
                },
                {
                  "name": "pixel616",
                  "rawType": "float64",
                  "type": "float"
                },
                {
                  "name": "pixel617",
                  "rawType": "float64",
                  "type": "float"
                },
                {
                  "name": "pixel618",
                  "rawType": "float64",
                  "type": "float"
                },
                {
                  "name": "pixel619",
                  "rawType": "float64",
                  "type": "float"
                },
                {
                  "name": "pixel620",
                  "rawType": "float64",
                  "type": "float"
                },
                {
                  "name": "pixel621",
                  "rawType": "float64",
                  "type": "float"
                },
                {
                  "name": "pixel622",
                  "rawType": "float64",
                  "type": "float"
                },
                {
                  "name": "pixel623",
                  "rawType": "float64",
                  "type": "float"
                },
                {
                  "name": "pixel624",
                  "rawType": "float64",
                  "type": "float"
                },
                {
                  "name": "pixel625",
                  "rawType": "float64",
                  "type": "float"
                },
                {
                  "name": "pixel626",
                  "rawType": "float64",
                  "type": "float"
                },
                {
                  "name": "pixel627",
                  "rawType": "float64",
                  "type": "float"
                },
                {
                  "name": "pixel628",
                  "rawType": "float64",
                  "type": "float"
                },
                {
                  "name": "pixel629",
                  "rawType": "float64",
                  "type": "float"
                },
                {
                  "name": "pixel630",
                  "rawType": "float64",
                  "type": "float"
                },
                {
                  "name": "pixel631",
                  "rawType": "float64",
                  "type": "float"
                },
                {
                  "name": "pixel632",
                  "rawType": "float64",
                  "type": "float"
                },
                {
                  "name": "pixel633",
                  "rawType": "float64",
                  "type": "float"
                },
                {
                  "name": "pixel634",
                  "rawType": "float64",
                  "type": "float"
                },
                {
                  "name": "pixel635",
                  "rawType": "float64",
                  "type": "float"
                },
                {
                  "name": "pixel636",
                  "rawType": "float64",
                  "type": "float"
                },
                {
                  "name": "pixel637",
                  "rawType": "float64",
                  "type": "float"
                },
                {
                  "name": "pixel638",
                  "rawType": "float64",
                  "type": "float"
                },
                {
                  "name": "pixel639",
                  "rawType": "float64",
                  "type": "float"
                },
                {
                  "name": "pixel640",
                  "rawType": "float64",
                  "type": "float"
                },
                {
                  "name": "pixel641",
                  "rawType": "float64",
                  "type": "float"
                },
                {
                  "name": "pixel642",
                  "rawType": "float64",
                  "type": "float"
                },
                {
                  "name": "pixel643",
                  "rawType": "float64",
                  "type": "float"
                },
                {
                  "name": "pixel644",
                  "rawType": "float64",
                  "type": "float"
                },
                {
                  "name": "pixel645",
                  "rawType": "float64",
                  "type": "float"
                },
                {
                  "name": "pixel646",
                  "rawType": "float64",
                  "type": "float"
                },
                {
                  "name": "pixel647",
                  "rawType": "float64",
                  "type": "float"
                },
                {
                  "name": "pixel648",
                  "rawType": "float64",
                  "type": "float"
                },
                {
                  "name": "pixel649",
                  "rawType": "float64",
                  "type": "float"
                },
                {
                  "name": "pixel650",
                  "rawType": "float64",
                  "type": "float"
                },
                {
                  "name": "pixel651",
                  "rawType": "float64",
                  "type": "float"
                },
                {
                  "name": "pixel652",
                  "rawType": "float64",
                  "type": "float"
                },
                {
                  "name": "pixel653",
                  "rawType": "float64",
                  "type": "float"
                },
                {
                  "name": "pixel654",
                  "rawType": "float64",
                  "type": "float"
                },
                {
                  "name": "pixel655",
                  "rawType": "float64",
                  "type": "float"
                },
                {
                  "name": "pixel656",
                  "rawType": "float64",
                  "type": "float"
                },
                {
                  "name": "pixel657",
                  "rawType": "float64",
                  "type": "float"
                },
                {
                  "name": "pixel658",
                  "rawType": "float64",
                  "type": "float"
                },
                {
                  "name": "pixel659",
                  "rawType": "float64",
                  "type": "float"
                },
                {
                  "name": "pixel660",
                  "rawType": "float64",
                  "type": "float"
                },
                {
                  "name": "pixel661",
                  "rawType": "float64",
                  "type": "float"
                },
                {
                  "name": "pixel662",
                  "rawType": "float64",
                  "type": "float"
                },
                {
                  "name": "pixel663",
                  "rawType": "float64",
                  "type": "float"
                },
                {
                  "name": "pixel664",
                  "rawType": "float64",
                  "type": "float"
                },
                {
                  "name": "pixel665",
                  "rawType": "float64",
                  "type": "float"
                },
                {
                  "name": "pixel666",
                  "rawType": "float64",
                  "type": "float"
                },
                {
                  "name": "pixel667",
                  "rawType": "float64",
                  "type": "float"
                },
                {
                  "name": "pixel668",
                  "rawType": "float64",
                  "type": "float"
                },
                {
                  "name": "pixel669",
                  "rawType": "float64",
                  "type": "float"
                },
                {
                  "name": "pixel670",
                  "rawType": "float64",
                  "type": "float"
                },
                {
                  "name": "pixel671",
                  "rawType": "float64",
                  "type": "float"
                },
                {
                  "name": "pixel672",
                  "rawType": "float64",
                  "type": "float"
                },
                {
                  "name": "pixel673",
                  "rawType": "float64",
                  "type": "float"
                },
                {
                  "name": "pixel674",
                  "rawType": "float64",
                  "type": "float"
                },
                {
                  "name": "pixel675",
                  "rawType": "float64",
                  "type": "float"
                },
                {
                  "name": "pixel676",
                  "rawType": "float64",
                  "type": "float"
                },
                {
                  "name": "pixel677",
                  "rawType": "float64",
                  "type": "float"
                },
                {
                  "name": "pixel678",
                  "rawType": "float64",
                  "type": "float"
                },
                {
                  "name": "pixel679",
                  "rawType": "float64",
                  "type": "float"
                },
                {
                  "name": "pixel680",
                  "rawType": "float64",
                  "type": "float"
                },
                {
                  "name": "pixel681",
                  "rawType": "float64",
                  "type": "float"
                },
                {
                  "name": "pixel682",
                  "rawType": "float64",
                  "type": "float"
                },
                {
                  "name": "pixel683",
                  "rawType": "float64",
                  "type": "float"
                },
                {
                  "name": "pixel684",
                  "rawType": "float64",
                  "type": "float"
                },
                {
                  "name": "pixel685",
                  "rawType": "float64",
                  "type": "float"
                },
                {
                  "name": "pixel686",
                  "rawType": "float64",
                  "type": "float"
                },
                {
                  "name": "pixel687",
                  "rawType": "float64",
                  "type": "float"
                },
                {
                  "name": "pixel688",
                  "rawType": "float64",
                  "type": "float"
                },
                {
                  "name": "pixel689",
                  "rawType": "float64",
                  "type": "float"
                },
                {
                  "name": "pixel690",
                  "rawType": "float64",
                  "type": "float"
                },
                {
                  "name": "pixel691",
                  "rawType": "float64",
                  "type": "float"
                },
                {
                  "name": "pixel692",
                  "rawType": "float64",
                  "type": "float"
                },
                {
                  "name": "pixel693",
                  "rawType": "float64",
                  "type": "float"
                },
                {
                  "name": "pixel694",
                  "rawType": "float64",
                  "type": "float"
                },
                {
                  "name": "pixel695",
                  "rawType": "float64",
                  "type": "float"
                },
                {
                  "name": "pixel696",
                  "rawType": "float64",
                  "type": "float"
                },
                {
                  "name": "pixel697",
                  "rawType": "float64",
                  "type": "float"
                },
                {
                  "name": "pixel698",
                  "rawType": "float64",
                  "type": "float"
                },
                {
                  "name": "pixel699",
                  "rawType": "float64",
                  "type": "float"
                },
                {
                  "name": "pixel700",
                  "rawType": "float64",
                  "type": "float"
                },
                {
                  "name": "pixel701",
                  "rawType": "float64",
                  "type": "float"
                },
                {
                  "name": "pixel702",
                  "rawType": "float64",
                  "type": "float"
                },
                {
                  "name": "pixel703",
                  "rawType": "float64",
                  "type": "float"
                },
                {
                  "name": "pixel704",
                  "rawType": "float64",
                  "type": "float"
                },
                {
                  "name": "pixel705",
                  "rawType": "float64",
                  "type": "float"
                },
                {
                  "name": "pixel706",
                  "rawType": "float64",
                  "type": "float"
                },
                {
                  "name": "pixel707",
                  "rawType": "float64",
                  "type": "float"
                },
                {
                  "name": "pixel708",
                  "rawType": "float64",
                  "type": "float"
                },
                {
                  "name": "pixel709",
                  "rawType": "float64",
                  "type": "float"
                },
                {
                  "name": "pixel710",
                  "rawType": "float64",
                  "type": "float"
                },
                {
                  "name": "pixel711",
                  "rawType": "float64",
                  "type": "float"
                },
                {
                  "name": "pixel712",
                  "rawType": "float64",
                  "type": "float"
                },
                {
                  "name": "pixel713",
                  "rawType": "float64",
                  "type": "float"
                },
                {
                  "name": "pixel714",
                  "rawType": "float64",
                  "type": "float"
                },
                {
                  "name": "pixel715",
                  "rawType": "float64",
                  "type": "float"
                },
                {
                  "name": "pixel716",
                  "rawType": "float64",
                  "type": "float"
                },
                {
                  "name": "pixel717",
                  "rawType": "float64",
                  "type": "float"
                },
                {
                  "name": "pixel718",
                  "rawType": "float64",
                  "type": "float"
                },
                {
                  "name": "pixel719",
                  "rawType": "float64",
                  "type": "float"
                },
                {
                  "name": "pixel720",
                  "rawType": "float64",
                  "type": "float"
                },
                {
                  "name": "pixel721",
                  "rawType": "float64",
                  "type": "float"
                },
                {
                  "name": "pixel722",
                  "rawType": "float64",
                  "type": "float"
                },
                {
                  "name": "pixel723",
                  "rawType": "float64",
                  "type": "float"
                },
                {
                  "name": "pixel724",
                  "rawType": "float64",
                  "type": "float"
                },
                {
                  "name": "pixel725",
                  "rawType": "float64",
                  "type": "float"
                },
                {
                  "name": "pixel726",
                  "rawType": "float64",
                  "type": "float"
                },
                {
                  "name": "pixel727",
                  "rawType": "float64",
                  "type": "float"
                },
                {
                  "name": "pixel728",
                  "rawType": "float64",
                  "type": "float"
                },
                {
                  "name": "pixel729",
                  "rawType": "float64",
                  "type": "float"
                },
                {
                  "name": "pixel730",
                  "rawType": "float64",
                  "type": "float"
                },
                {
                  "name": "pixel731",
                  "rawType": "float64",
                  "type": "float"
                },
                {
                  "name": "pixel732",
                  "rawType": "float64",
                  "type": "float"
                },
                {
                  "name": "pixel733",
                  "rawType": "float64",
                  "type": "float"
                },
                {
                  "name": "pixel734",
                  "rawType": "float64",
                  "type": "float"
                },
                {
                  "name": "pixel735",
                  "rawType": "float64",
                  "type": "float"
                },
                {
                  "name": "pixel736",
                  "rawType": "float64",
                  "type": "float"
                },
                {
                  "name": "pixel737",
                  "rawType": "float64",
                  "type": "float"
                },
                {
                  "name": "pixel738",
                  "rawType": "float64",
                  "type": "float"
                },
                {
                  "name": "pixel739",
                  "rawType": "float64",
                  "type": "float"
                },
                {
                  "name": "pixel740",
                  "rawType": "float64",
                  "type": "float"
                },
                {
                  "name": "pixel741",
                  "rawType": "float64",
                  "type": "float"
                },
                {
                  "name": "pixel742",
                  "rawType": "float64",
                  "type": "float"
                },
                {
                  "name": "pixel743",
                  "rawType": "float64",
                  "type": "float"
                },
                {
                  "name": "pixel744",
                  "rawType": "float64",
                  "type": "float"
                },
                {
                  "name": "pixel745",
                  "rawType": "float64",
                  "type": "float"
                },
                {
                  "name": "pixel746",
                  "rawType": "float64",
                  "type": "float"
                },
                {
                  "name": "pixel747",
                  "rawType": "float64",
                  "type": "float"
                },
                {
                  "name": "pixel748",
                  "rawType": "float64",
                  "type": "float"
                },
                {
                  "name": "pixel749",
                  "rawType": "float64",
                  "type": "float"
                },
                {
                  "name": "pixel750",
                  "rawType": "float64",
                  "type": "float"
                },
                {
                  "name": "pixel751",
                  "rawType": "float64",
                  "type": "float"
                },
                {
                  "name": "pixel752",
                  "rawType": "float64",
                  "type": "float"
                },
                {
                  "name": "pixel753",
                  "rawType": "float64",
                  "type": "float"
                },
                {
                  "name": "pixel754",
                  "rawType": "float64",
                  "type": "float"
                },
                {
                  "name": "pixel755",
                  "rawType": "float64",
                  "type": "float"
                },
                {
                  "name": "pixel756",
                  "rawType": "float64",
                  "type": "float"
                },
                {
                  "name": "pixel757",
                  "rawType": "float64",
                  "type": "float"
                },
                {
                  "name": "pixel758",
                  "rawType": "float64",
                  "type": "float"
                },
                {
                  "name": "pixel759",
                  "rawType": "float64",
                  "type": "float"
                },
                {
                  "name": "pixel760",
                  "rawType": "float64",
                  "type": "float"
                },
                {
                  "name": "pixel761",
                  "rawType": "float64",
                  "type": "float"
                },
                {
                  "name": "pixel762",
                  "rawType": "float64",
                  "type": "float"
                },
                {
                  "name": "pixel763",
                  "rawType": "float64",
                  "type": "float"
                },
                {
                  "name": "pixel764",
                  "rawType": "float64",
                  "type": "float"
                },
                {
                  "name": "pixel765",
                  "rawType": "float64",
                  "type": "float"
                },
                {
                  "name": "pixel766",
                  "rawType": "float64",
                  "type": "float"
                },
                {
                  "name": "pixel767",
                  "rawType": "float64",
                  "type": "float"
                },
                {
                  "name": "pixel768",
                  "rawType": "float64",
                  "type": "float"
                },
                {
                  "name": "pixel769",
                  "rawType": "float64",
                  "type": "float"
                },
                {
                  "name": "pixel770",
                  "rawType": "float64",
                  "type": "float"
                },
                {
                  "name": "pixel771",
                  "rawType": "float64",
                  "type": "float"
                },
                {
                  "name": "pixel772",
                  "rawType": "float64",
                  "type": "float"
                },
                {
                  "name": "pixel773",
                  "rawType": "float64",
                  "type": "float"
                },
                {
                  "name": "pixel774",
                  "rawType": "float64",
                  "type": "float"
                },
                {
                  "name": "pixel775",
                  "rawType": "float64",
                  "type": "float"
                },
                {
                  "name": "pixel776",
                  "rawType": "float64",
                  "type": "float"
                },
                {
                  "name": "pixel777",
                  "rawType": "float64",
                  "type": "float"
                },
                {
                  "name": "pixel778",
                  "rawType": "float64",
                  "type": "float"
                },
                {
                  "name": "pixel779",
                  "rawType": "float64",
                  "type": "float"
                },
                {
                  "name": "pixel780",
                  "rawType": "float64",
                  "type": "float"
                },
                {
                  "name": "pixel781",
                  "rawType": "float64",
                  "type": "float"
                },
                {
                  "name": "pixel782",
                  "rawType": "float64",
                  "type": "float"
                },
                {
                  "name": "pixel783",
                  "rawType": "float64",
                  "type": "float"
                },
                {
                  "name": "pixel784",
                  "rawType": "float64",
                  "type": "float"
                },
                {
                  "name": "Id",
                  "rawType": "int64",
                  "type": "integer"
                }
              ],
              "ref": "baa1f4fd-798d-49e2-8cdd-cd67769e325a",
              "rows": [
                [
                  "0",
                  "2",
                  "0",
                  "0",
                  "0",
                  "0",
                  "0",
                  "0",
                  "0",
                  "0",
                  "0",
                  "0",
                  "0",
                  "0",
                  "0",
                  "0",
                  "0",
                  "0",
                  "0",
                  "0",
                  "0",
                  "0",
                  "0",
                  "0",
                  "0",
                  "0",
                  "0",
                  "0",
                  "0",
                  "0",
                  "0",
                  "0",
                  "0",
                  "0",
                  "0",
                  "0",
                  "0",
                  "0",
                  "0",
                  "0",
                  "0",
                  "0",
                  "0",
                  "0",
                  "0",
                  "0",
                  "0",
                  "0",
                  "0",
                  "0",
                  "0",
                  "0",
                  "0",
                  "0",
                  "0",
                  "0",
                  "0",
                  "0",
                  "0",
                  "0",
                  "0",
                  "0",
                  "0",
                  "0",
                  "0",
                  "0",
                  "0",
                  "0",
                  "0",
                  "0",
                  "0",
                  "0",
                  "0",
                  "0",
                  "0",
                  "0",
                  "0",
                  "0",
                  "0",
                  "0",
                  "0",
                  "0",
                  "0",
                  "0",
                  "0",
                  "0",
                  "0",
                  "0",
                  "0",
                  "0",
                  "4",
                  "0",
                  "0",
                  "0",
                  "0",
                  "0",
                  "62",
                  "61",
                  "21",
                  "29",
                  "23",
                  "51",
                  "136",
                  "61",
                  "0",
                  "0",
                  "0",
                  "0",
                  "0",
                  "0",
                  "0",
                  "0",
                  "0",
                  "0",
                  "0",
                  "0",
                  "0",
                  "0",
                  "0",
                  "0",
                  "0",
                  "88",
                  "201",
                  "228",
                  "225",
                  "255",
                  "115",
                  "62",
                  "137",
                  "255",
                  "235",
                  "222",
                  "255",
                  "135",
                  "0",
                  "0",
                  "0",
                  "0",
                  "0",
                  "0",
                  "0",
                  "0",
                  "0",
                  "0",
                  "0",
                  "0",
                  "0",
                  "47",
                  "252",
                  "234",
                  "238",
                  "224",
                  "215",
                  "215",
                  "229",
                  "108",
                  "180",
                  "207",
                  "214",
                  "224",
                  "231",
                  "249",
                  "254",
                  "45",
                  "0",
                  "0",
                  "0",
                  "0",
                  "0",
                  "0",
                  "0",
                  "0",
                  "1",
                  "0",
                  "0",
                  "214",
                  "222",
                  "210",
                  "213",
                  "224",
                  "225",
                  "217",
                  "220",
                  "254",
                  "233",
                  "219",
                  "221",
                  "217",
                  "223",
                  "221",
                  "240",
                  "254",
                  "0",
                  "0",
                  "1",
                  "0",
                  "0",
                  "0",
                  "1",
                  "0",
                  "0",
                  "0",
                  "128",
                  "237",
                  "207",
                  "224",
                  "224",
                  "207",
                  "216",
                  "214",
                  "210",
                  "208",
                  "211",
                  "221",
                  "208",
                  "219",
                  "213",
                  "226",
                  "211",
                  "237",
                  "150",
                  "0",
                  "0",
                  "0",
                  "0",
                  "0",
                  "0",
                  "2",
                  "0",
                  "0",
                  "237",
                  "222",
                  "215",
                  "207",
                  "210",
                  "212",
                  "213",
                  "206",
                  "214",
                  "213",
                  "214",
                  "213",
                  "210",
                  "215",
                  "214",
                  "206",
                  "199",
                  "218",
                  "255",
                  "13",
                  "0",
                  "2",
                  "0",
                  "0",
                  "0",
                  "4",
                  "0",
                  "85",
                  "228",
                  "210",
                  "218",
                  "200",
                  "211",
                  "208",
                  "203",
                  "215",
                  "210",
                  "209",
                  "209",
                  "210",
                  "213",
                  "211",
                  "210",
                  "217",
                  "206",
                  "213",
                  "231",
                  "175",
                  "0",
                  "0",
                  "0",
                  "0",
                  "0",
                  "0",
                  "0",
                  "217",
                  "224",
                  "215",
                  "206",
                  "205",
                  "204",
                  "217",
                  "230",
                  "222",
                  "215",
                  "224",
                  "233",
                  "228",
                  "232",
                  "228",
                  "224",
                  "207",
                  "212",
                  "215",
                  "213",
                  "229",
                  "31",
                  "0",
                  "4",
                  "0",
                  "1",
                  "0",
                  "21",
                  "225",
                  "212",
                  "212",
                  "203",
                  "211",
                  "225",
                  "193",
                  "139",
                  "136",
                  "195",
                  "147",
                  "156",
                  "139",
                  "128",
                  "162",
                  "197",
                  "223",
                  "207",
                  "220",
                  "213",
                  "232",
                  "177",
                  "0",
                  "0",
                  "0",
                  "0",
                  "0",
                  "123",
                  "226",
                  "207",
                  "211",
                  "209",
                  "205",
                  "228",
                  "158",
                  "90",
                  "103",
                  "186",
                  "138",
                  "100",
                  "121",
                  "147",
                  "158",
                  "183",
                  "226",
                  "208",
                  "214",
                  "209",
                  "216",
                  "255.0",
                  "13.0",
                  "0.0",
                  "1.0",
                  "0.0",
                  "0.0",
                  "226.0",
                  "219.0",
                  "202.0",
                  "208.0",
                  "206.0",
                  "205.0",
                  "216.0",
                  "184.0",
                  "156.0",
                  "150.0",
                  "193.0",
                  "170.0",
                  "164.0",
                  "168.0",
                  "188.0",
                  "186.0",
                  "200.0",
                  "219.0",
                  "216.0",
                  "213.0",
                  "213.0",
                  "211.0",
                  "233.0",
                  "148.0",
                  "0.0",
                  "0.0",
                  "0.0",
                  "45.0",
                  "227.0",
                  "204.0",
                  "214.0",
                  "211.0",
                  "218.0",
                  "222.0",
                  "221.0",
                  "230.0",
                  "229.0",
                  "221.0",
                  "213.0",
                  "224.0",
                  "233.0",
                  "226.0",
                  "220.0",
                  "219.0",
                  "221.0",
                  "224.0",
                  "223.0",
                  "217.0",
                  "210.0",
                  "218.0",
                  "213.0",
                  "254.0",
                  "0.0",
                  "0.0",
                  "0.0",
                  "157.0",
                  "226.0",
                  "203.0",
                  "207.0",
                  "211.0",
                  "209.0",
                  "215.0",
                  "205.0",
                  "198.0",
                  "207.0",
                  "208.0",
                  "201.0",
                  "201.0",
                  "197.0",
                  "203.0",
                  "205.0",
                  "210.0",
                  "207.0",
                  "213.0",
                  "214.0",
                  "214.0",
                  "214.0",
                  "213.0",
                  "208.0",
                  "234.0",
                  "107.0",
                  "0.0",
                  "0.0",
                  "235.0",
                  "213.0",
                  "204.0",
                  "211.0",
                  "210.0",
                  "209.0",
                  "213.0",
                  "202.0",
                  "197.0",
                  "204.0",
                  "215.0",
                  "217.0",
                  "213.0",
                  "212.0",
                  "210.0",
                  "206.0",
                  "212.0",
                  "203.0",
                  "211.0",
                  "218.0",
                  "215.0",
                  "214.0",
                  "208.0",
                  "209.0",
                  "222.0",
                  "230.0",
                  "0.0",
                  "52.0",
                  "255.0",
                  "207.0",
                  "200.0",
                  "208.0",
                  "213.0",
                  "210.0",
                  "210.0",
                  "208.0",
                  "207.0",
                  "202.0",
                  "201.0",
                  "209.0",
                  "216.0",
                  "216.0",
                  "216.0",
                  "216.0",
                  "214.0",
                  "212.0",
                  "205.0",
                  "215.0",
                  "201.0",
                  "228.0",
                  "208.0",
                  "214.0",
                  "212.0",
                  "218.0",
                  "25.0",
                  "118.0",
                  "217.0",
                  "201.0",
                  "206.0",
                  "208.0",
                  "213.0",
                  "208.0",
                  "205.0",
                  "206.0",
                  "210.0",
                  "211.0",
                  "202.0",
                  "199.0",
                  "207.0",
                  "208.0",
                  "209.0",
                  "210.0",
                  "207.0",
                  "210.0",
                  "210.0",
                  "245.0",
                  "139.0",
                  "119.0",
                  "255.0",
                  "202.0",
                  "203.0",
                  "236.0",
                  "114.0",
                  "171.0",
                  "238.0",
                  "212.0",
                  "203.0",
                  "220.0",
                  "216.0",
                  "217.0",
                  "209.0",
                  "207.0",
                  "205.0",
                  "210.0",
                  "211.0",
                  "206.0",
                  "204.0",
                  "206.0",
                  "209.0",
                  "211.0",
                  "215.0",
                  "210.0",
                  "206.0",
                  "221.0",
                  "242.0",
                  "0.0",
                  "224.0",
                  "234.0",
                  "230.0",
                  "181.0",
                  "26.0",
                  "39.0",
                  "145.0",
                  "201.0",
                  "255.0",
                  "157.0",
                  "115.0",
                  "250.0",
                  "200.0",
                  "207.0",
                  "206.0",
                  "207.0",
                  "213.0",
                  "216.0",
                  "206.0",
                  "205.0",
                  "206.0",
                  "207.0",
                  "206.0",
                  "215.0",
                  "207.0",
                  "221.0",
                  "238.0",
                  "0.0",
                  "0.0",
                  "188.0",
                  "85.0",
                  "0.0",
                  "0.0",
                  "0.0",
                  "0.0",
                  "0.0",
                  "31.0",
                  "0.0",
                  "129.0",
                  "253.0",
                  "190.0",
                  "207.0",
                  "208.0",
                  "208.0",
                  "208.0",
                  "209.0",
                  "211.0",
                  "211.0",
                  "209.0",
                  "209.0",
                  "209.0",
                  "212.0",
                  "201.0",
                  "226.0",
                  "165.0",
                  "0.0",
                  "0.0",
                  "0.0",
                  "0.0",
                  "0.0",
                  "0.0",
                  "2.0",
                  "0.0",
                  "0.0",
                  "0.0",
                  "0.0",
                  "89.0",
                  "254.0",
                  "199.0",
                  "199.0",
                  "192.0",
                  "196.0",
                  "198.0",
                  "199.0",
                  "201.0",
                  "202.0",
                  "203.0",
                  "204.0",
                  "203.0",
                  "203.0",
                  "200.0",
                  "222.0",
                  "155.0",
                  "0.0",
                  "3.0",
                  "3.0",
                  "3.0",
                  "2.0",
                  "0.0",
                  "0.0",
                  "0.0",
                  "1.0",
                  "5.0",
                  "0.0",
                  "0.0",
                  "255.0",
                  "218.0",
                  "226.0",
                  "232.0",
                  "228.0",
                  "224.0",
                  "222.0",
                  "220.0",
                  "219.0",
                  "219.0",
                  "217.0",
                  "221.0",
                  "220.0",
                  "212.0",
                  "236.0",
                  "95.0",
                  "0.0",
                  "2.0",
                  "0.0",
                  "0.0",
                  "0.0",
                  "0.0",
                  "0.0",
                  "0.0",
                  "0.0",
                  "0.0",
                  "0.0",
                  "0.0",
                  "155.0",
                  "194.0",
                  "168.0",
                  "170.0",
                  "171.0",
                  "173.0",
                  "173.0",
                  "179.0",
                  "177.0",
                  "175.0",
                  "172.0",
                  "171.0",
                  "167.0",
                  "161.0",
                  "180.0",
                  "0.0",
                  "0.0",
                  "1.0",
                  "0.0",
                  "1.0",
                  "0.0",
                  "0.0",
                  "0.0",
                  "0.0",
                  "0.0",
                  "0.0",
                  "0.0",
                  "0.0",
                  "0.0",
                  "0.0",
                  "0.0",
                  "0.0",
                  "0.0",
                  "0.0",
                  "0.0",
                  "0.0",
                  "0.0",
                  "0.0",
                  "0.0",
                  "0.0",
                  "0.0",
                  "0.0",
                  "0.0",
                  "0.0",
                  "0.0",
                  "0.0",
                  "0.0",
                  "0.0",
                  "0.0",
                  "0.0",
                  "0.0",
                  "0.0",
                  "0.0",
                  "0.0",
                  "0.0",
                  "0.0",
                  "0.0",
                  "0.0",
                  "0.0",
                  "0.0",
                  "0.0",
                  "0.0",
                  "0.0",
                  "0.0",
                  "0.0",
                  "0.0",
                  "0.0",
                  "0.0",
                  "0.0",
                  "0.0",
                  "0.0",
                  "0.0",
                  "0.0",
                  "0.0",
                  "0.0",
                  "0.0",
                  "0.0",
                  "0.0",
                  "0.0",
                  "0.0",
                  "0.0",
                  "0.0",
                  "0.0",
                  "0.0",
                  "0.0",
                  "0.0",
                  "0.0",
                  "0.0",
                  "0.0",
                  "0.0",
                  "0.0",
                  "0.0",
                  "0.0",
                  "0.0",
                  "0.0",
                  "0.0",
                  "0.0",
                  "0.0",
                  "0.0",
                  "0.0",
                  "0.0",
                  "0.0",
                  "0.0",
                  "0.0",
                  "0.0",
                  "0.0",
                  "0"
                ],
                [
                  "1",
                  "9",
                  "0",
                  "0",
                  "0",
                  "0",
                  "0",
                  "0",
                  "0",
                  "0",
                  "0",
                  "0",
                  "0",
                  "0",
                  "0",
                  "0",
                  "0",
                  "0",
                  "0",
                  "0",
                  "0",
                  "0",
                  "0",
                  "0",
                  "0",
                  "0",
                  "0",
                  "0",
                  "0",
                  "0",
                  "0",
                  "0",
                  "0",
                  "0",
                  "0",
                  "0",
                  "0",
                  "0",
                  "0",
                  "0",
                  "0",
                  "0",
                  "0",
                  "0",
                  "0",
                  "0",
                  "0",
                  "0",
                  "0",
                  "0",
                  "0",
                  "0",
                  "0",
                  "0",
                  "0",
                  "0",
                  "0",
                  "0",
                  "0",
                  "0",
                  "0",
                  "0",
                  "0",
                  "0",
                  "0",
                  "0",
                  "0",
                  "0",
                  "0",
                  "0",
                  "0",
                  "0",
                  "0",
                  "0",
                  "0",
                  "0",
                  "0",
                  "0",
                  "0",
                  "0",
                  "0",
                  "0",
                  "0",
                  "0",
                  "0",
                  "0",
                  "0",
                  "0",
                  "0",
                  "0",
                  "0",
                  "0",
                  "0",
                  "0",
                  "0",
                  "0",
                  "0",
                  "0",
                  "0",
                  "0",
                  "0",
                  "0",
                  "0",
                  "0",
                  "0",
                  "0",
                  "0",
                  "0",
                  "0",
                  "0",
                  "0",
                  "0",
                  "0",
                  "0",
                  "0",
                  "0",
                  "0",
                  "0",
                  "0",
                  "0",
                  "0",
                  "0",
                  "0",
                  "0",
                  "0",
                  "0",
                  "0",
                  "0",
                  "0",
                  "0",
                  "0",
                  "0",
                  "0",
                  "0",
                  "0",
                  "0",
                  "0",
                  "0",
                  "0",
                  "0",
                  "0",
                  "0",
                  "0",
                  "0",
                  "0",
                  "0",
                  "0",
                  "0",
                  "0",
                  "0",
                  "0",
                  "0",
                  "0",
                  "0",
                  "1",
                  "1",
                  "0",
                  "0",
                  "0",
                  "0",
                  "81",
                  "21",
                  "0",
                  "1",
                  "0",
                  "1",
                  "0",
                  "0",
                  "0",
                  "0",
                  "0",
                  "0",
                  "0",
                  "0",
                  "0",
                  "0",
                  "0",
                  "0",
                  "0",
                  "0",
                  "0",
                  "1",
                  "0",
                  "0",
                  "0",
                  "0",
                  "0",
                  "14",
                  "200",
                  "49",
                  "0",
                  "0",
                  "0",
                  "0",
                  "0",
                  "0",
                  "0",
                  "0",
                  "0",
                  "0",
                  "0",
                  "0",
                  "0",
                  "0",
                  "0",
                  "0",
                  "2",
                  "1",
                  "1",
                  "1",
                  "0",
                  "1",
                  "0",
                  "0",
                  "0",
                  "162",
                  "184",
                  "165",
                  "20",
                  "0",
                  "1",
                  "1",
                  "3",
                  "4",
                  "1",
                  "0",
                  "0",
                  "0",
                  "0",
                  "0",
                  "0",
                  "0",
                  "0",
                  "0",
                  "0",
                  "0",
                  "0",
                  "1",
                  "2",
                  "0",
                  "2",
                  "0",
                  "120",
                  "183",
                  "154",
                  "206",
                  "32",
                  "0",
                  "5",
                  "5",
                  "0",
                  "0",
                  "0",
                  "0",
                  "0",
                  "0",
                  "0",
                  "0",
                  "0",
                  "0",
                  "0",
                  "0",
                  "0",
                  "0",
                  "0",
                  "2",
                  "0",
                  "3",
                  "0",
                  "76",
                  "227",
                  "151",
                  "139",
                  "158",
                  "0",
                  "0",
                  "0",
                  "0",
                  "0",
                  "66",
                  "23",
                  "0",
                  "0",
                  "0",
                  "0",
                  "0",
                  "0",
                  "0",
                  "0",
                  "0",
                  "1",
                  "0",
                  "1",
                  "0",
                  "0",
                  "0",
                  "55",
                  "224",
                  "162",
                  "143",
                  "121",
                  "204",
                  "236",
                  "144",
                  "21",
                  "74",
                  "90",
                  "190",
                  "8",
                  "0",
                  "0",
                  "0",
                  "0",
                  "0",
                  "0",
                  "0",
                  "0",
                  "0",
                  "0",
                  "1",
                  "0",
                  "0",
                  "0",
                  "42",
                  "228",
                  "160",
                  "148",
                  "125",
                  "165",
                  "223",
                  "208",
                  "221",
                  "246",
                  "211",
                  "174",
                  "151",
                  "0",
                  "0",
                  "0",
                  "0",
                  "0",
                  "1",
                  "3",
                  "0",
                  "1",
                  "0",
                  "3",
                  "0",
                  "9",
                  "0",
                  "23",
                  "230",
                  "168",
                  "147",
                  "119",
                  "163",
                  "227",
                  "206",
                  "200",
                  "190",
                  "206",
                  "186",
                  "139.0",
                  "171.0",
                  "41.0",
                  "0.0",
                  "0.0",
                  "0.0",
                  "0.0",
                  "0.0",
                  "0.0",
                  "0.0",
                  "0.0",
                  "0.0",
                  "3.0",
                  "4.0",
                  "0.0",
                  "16.0",
                  "209.0",
                  "185.0",
                  "139.0",
                  "118.0",
                  "181.0",
                  "227.0",
                  "209.0",
                  "204.0",
                  "210.0",
                  "199.0",
                  "225.0",
                  "157.0",
                  "127.0",
                  "190.0",
                  "111.0",
                  "0.0",
                  "1.0",
                  "3.0",
                  "2.0",
                  "1.0",
                  "3.0",
                  "2.0",
                  "3.0",
                  "0.0",
                  "0.0",
                  "0.0",
                  "67.0",
                  "214.0",
                  "187.0",
                  "139.0",
                  "111.0",
                  "191.0",
                  "229.0",
                  "203.0",
                  "208.0",
                  "208.0",
                  "196.0",
                  "223.0",
                  "188.0",
                  "100.0",
                  "128.0",
                  "155.0",
                  "112.0",
                  "0.0",
                  "0.0",
                  "0.0",
                  "0.0",
                  "0.0",
                  "0.0",
                  "0.0",
                  "0.0",
                  "0.0",
                  "48.0",
                  "161.0",
                  "218.0",
                  "171.0",
                  "147.0",
                  "116.0",
                  "185.0",
                  "235.0",
                  "201.0",
                  "209.0",
                  "203.0",
                  "204.0",
                  "220.0",
                  "208.0",
                  "126.0",
                  "133.0",
                  "162.0",
                  "164.0",
                  "187.0",
                  "0.0",
                  "0.0",
                  "12.0",
                  "16.0",
                  "9.0",
                  "4.0",
                  "19.0",
                  "73.0",
                  "170.0",
                  "211.0",
                  "188.0",
                  "145.0",
                  "149.0",
                  "148.0",
                  "136.0",
                  "222.0",
                  "218.0",
                  "207.0",
                  "208.0",
                  "215.0",
                  "224.0",
                  "193.0",
                  "140.0",
                  "146.0",
                  "162.0",
                  "156.0",
                  "118.0",
                  "203.0",
                  "37.0",
                  "47.0",
                  "255.0",
                  "188.0",
                  "187.0",
                  "182.0",
                  "203.0",
                  "206.0",
                  "182.0",
                  "147.0",
                  "140.0",
                  "148.0",
                  "148.0",
                  "148.0",
                  "134.0",
                  "180.0",
                  "218.0",
                  "221.0",
                  "225.0",
                  "204.0",
                  "156.0",
                  "134.0",
                  "139.0",
                  "144.0",
                  "140.0",
                  "123.0",
                  "97.0",
                  "206.0",
                  "30.0",
                  "88.0",
                  "203.0",
                  "164.0",
                  "167.0",
                  "170.0",
                  "161.0",
                  "147.0",
                  "147.0",
                  "156.0",
                  "159.0",
                  "153.0",
                  "152.0",
                  "155.0",
                  "150.0",
                  "134.0",
                  "136.0",
                  "153.0",
                  "145.0",
                  "136.0",
                  "151.0",
                  "164.0",
                  "168.0",
                  "170.0",
                  "166.0",
                  "153.0",
                  "130.0",
                  "200.0",
                  "10.0",
                  "131.0",
                  "195.0",
                  "150.0",
                  "133.0",
                  "132.0",
                  "142.0",
                  "160.0",
                  "166.0",
                  "162.0",
                  "153.0",
                  "152.0",
                  "153.0",
                  "151.0",
                  "154.0",
                  "163.0",
                  "147.0",
                  "152.0",
                  "163.0",
                  "205.0",
                  "208.0",
                  "174.0",
                  "175.0",
                  "178.0",
                  "181.0",
                  "168.0",
                  "150.0",
                  "196.0",
                  "1.0",
                  "155.0",
                  "228.0",
                  "197.0",
                  "172.0",
                  "138.0",
                  "123.0",
                  "121.0",
                  "122.0",
                  "126.0",
                  "129.0",
                  "135.0",
                  "139.0",
                  "144.0",
                  "158.0",
                  "177.0",
                  "192.0",
                  "239.0",
                  "244.0",
                  "178.0",
                  "176.0",
                  "183.0",
                  "179.0",
                  "185.0",
                  "177.0",
                  "147.0",
                  "148.0",
                  "192.0",
                  "0.0",
                  "0.0",
                  "80.0",
                  "196.0",
                  "199.0",
                  "212.0",
                  "209.0",
                  "190.0",
                  "176.0",
                  "170.0",
                  "178.0",
                  "183.0",
                  "192.0",
                  "204.0",
                  "204.0",
                  "202.0",
                  "144.0",
                  "59.0",
                  "3.0",
                  "0.0",
                  "67.0",
                  "217.0",
                  "184.0",
                  "188.0",
                  "178.0",
                  "166.0",
                  "160.0",
                  "188.0",
                  "13.0",
                  "0.0",
                  "0.0",
                  "0.0",
                  "3.0",
                  "51.0",
                  "105.0",
                  "179.0",
                  "217.0",
                  "235.0",
                  "227.0",
                  "208.0",
                  "201.0",
                  "133.0",
                  "58.0",
                  "0.0",
                  "0.0",
                  "0.0",
                  "0.0",
                  "0.0",
                  "16.0",
                  "187.0",
                  "194.0",
                  "184.0",
                  "185.0",
                  "175.0",
                  "181.0",
                  "131.0",
                  "0.0",
                  "0.0",
                  "3.0",
                  "0.0",
                  "0.0",
                  "0.0",
                  "0.0",
                  "0.0",
                  "0.0",
                  "0.0",
                  "0.0",
                  "0.0",
                  "0.0",
                  "0.0",
                  "0.0",
                  "0.0",
                  "5.0",
                  "5.0",
                  "5.0",
                  "0.0",
                  "0.0",
                  "0.0",
                  "0.0",
                  "0.0",
                  "0.0",
                  "0.0",
                  "0.0",
                  "0.0",
                  "0.0",
                  "0.0",
                  "0.0",
                  "0.0",
                  "0.0",
                  "0.0",
                  "0.0",
                  "0.0",
                  "0.0",
                  "0.0",
                  "0.0",
                  "0.0",
                  "0.0",
                  "0.0",
                  "0.0",
                  "0.0",
                  "0.0",
                  "0.0",
                  "0.0",
                  "0.0",
                  "0.0",
                  "0.0",
                  "0.0",
                  "0.0",
                  "0.0",
                  "0.0",
                  "0.0",
                  "0.0",
                  "0.0",
                  "0.0",
                  "0.0",
                  "0.0",
                  "0.0",
                  "0.0",
                  "0.0",
                  "0.0",
                  "0.0",
                  "0.0",
                  "0.0",
                  "0.0",
                  "0.0",
                  "0.0",
                  "0.0",
                  "0.0",
                  "0.0",
                  "0.0",
                  "0.0",
                  "0.0",
                  "0.0",
                  "0.0",
                  "0.0",
                  "0.0",
                  "0.0",
                  "0.0",
                  "0.0",
                  "0.0",
                  "0.0",
                  "0.0",
                  "0.0",
                  "0.0",
                  "0.0",
                  "0.0",
                  "0.0",
                  "0.0",
                  "0.0",
                  "0.0",
                  "0.0",
                  "0.0",
                  "0.0",
                  "0.0",
                  "0.0",
                  "0.0",
                  "0.0",
                  "0.0",
                  "0.0",
                  "0.0",
                  "0.0",
                  "0.0",
                  "0.0",
                  "0.0",
                  "0.0",
                  "0.0",
                  "0.0",
                  "0.0",
                  "0.0",
                  "0.0",
                  "0.0",
                  "0.0",
                  "0.0",
                  "0.0",
                  "0.0",
                  "0.0",
                  "0.0",
                  "0.0",
                  "0.0",
                  "0.0",
                  "0.0",
                  "0.0",
                  "0.0",
                  "0.0",
                  "0.0",
                  "0.0",
                  "0.0",
                  "0.0",
                  "0.0",
                  "0.0",
                  "0.0",
                  "0.0",
                  "0.0",
                  "0.0",
                  "0.0",
                  "0.0",
                  "0.0",
                  "1"
                ],
                [
                  "2",
                  "6",
                  "0",
                  "0",
                  "0",
                  "0",
                  "0",
                  "0",
                  "0",
                  "5",
                  "0",
                  "0",
                  "0",
                  "105",
                  "92",
                  "101",
                  "107",
                  "100",
                  "132",
                  "0",
                  "0",
                  "2",
                  "4",
                  "0",
                  "1",
                  "0",
                  "0",
                  "0",
                  "0",
                  "0",
                  "0",
                  "0",
                  "0",
                  "0",
                  "0",
                  "0",
                  "0",
                  "0",
                  "0",
                  "0",
                  "150",
                  "227",
                  "211",
                  "171",
                  "191",
                  "236",
                  "228",
                  "172",
                  "0",
                  "0",
                  "0",
                  "0",
                  "1",
                  "0",
                  "0",
                  "0",
                  "0",
                  "0",
                  "0",
                  "0",
                  "0",
                  "0",
                  "0",
                  "0",
                  "0",
                  "48",
                  "153",
                  "209",
                  "210",
                  "187",
                  "199",
                  "142",
                  "157",
                  "209",
                  "179",
                  "199",
                  "233",
                  "138",
                  "44",
                  "0",
                  "0",
                  "0",
                  "0",
                  "0",
                  "0",
                  "0",
                  "0",
                  "0",
                  "0",
                  "0",
                  "0",
                  "0",
                  "120",
                  "218",
                  "215",
                  "207",
                  "198",
                  "198",
                  "223",
                  "219",
                  "214",
                  "225",
                  "190",
                  "177",
                  "195",
                  "209",
                  "204",
                  "139",
                  "0",
                  "1",
                  "0",
                  "0",
                  "0",
                  "0",
                  "0",
                  "0",
                  "0",
                  "0",
                  "0",
                  "0",
                  "208",
                  "200",
                  "197",
                  "202",
                  "193",
                  "203",
                  "207",
                  "228",
                  "245",
                  "196",
                  "197",
                  "202",
                  "193",
                  "190",
                  "167",
                  "203",
                  "27",
                  "0",
                  "0",
                  "0",
                  "0",
                  "0",
                  "0",
                  "0",
                  "0",
                  "0",
                  "0",
                  "89",
                  "217",
                  "200",
                  "211",
                  "175",
                  "189",
                  "205",
                  "199",
                  "218",
                  "216",
                  "181",
                  "179",
                  "185",
                  "192",
                  "198",
                  "184",
                  "198",
                  "121",
                  "0",
                  "0",
                  "0",
                  "0",
                  "0",
                  "0",
                  "0",
                  "0",
                  "0",
                  "0",
                  "140",
                  "220",
                  "204",
                  "223",
                  "187",
                  "182",
                  "200",
                  "207",
                  "217",
                  "213",
                  "210",
                  "207",
                  "180",
                  "161",
                  "192",
                  "184",
                  "199",
                  "162",
                  "0",
                  "0",
                  "0",
                  "0",
                  "0",
                  "0",
                  "0",
                  "0",
                  "0",
                  "0",
                  "166",
                  "218",
                  "203",
                  "195",
                  "185",
                  "196",
                  "189",
                  "167",
                  "181",
                  "206",
                  "177",
                  "176",
                  "181",
                  "165",
                  "187",
                  "179",
                  "189",
                  "183",
                  "0",
                  "0",
                  "0",
                  "0",
                  "0",
                  "0",
                  "0",
                  "0",
                  "0",
                  "0",
                  "196",
                  "215",
                  "211",
                  "206",
                  "201",
                  "196",
                  "180",
                  "188",
                  "210",
                  "206",
                  "190",
                  "173",
                  "180",
                  "187",
                  "192",
                  "184",
                  "192",
                  "199",
                  "0",
                  "0",
                  "0",
                  "0",
                  "0",
                  "0",
                  "0",
                  "0",
                  "0",
                  "0",
                  "212",
                  "217",
                  "224",
                  "211",
                  "216",
                  "201",
                  "189",
                  "184",
                  "202",
                  "210",
                  "194",
                  "182",
                  "173",
                  "173",
                  "176",
                  "192",
                  "195",
                  "208",
                  "0",
                  "0",
                  "0",
                  "0",
                  "0",
                  "0",
                  "0",
                  "0",
                  "0",
                  "0",
                  "222",
                  "215",
                  "228",
                  "203",
                  "212",
                  "199",
                  "198",
                  "191",
                  "186",
                  "228",
                  "195",
                  "191",
                  "161",
                  "178",
                  "177",
                  "198",
                  "194",
                  "210",
                  "29",
                  "0",
                  "0",
                  "0",
                  "0",
                  "0",
                  "0",
                  "0",
                  "0",
                  "0",
                  "244",
                  "215",
                  "235",
                  "206",
                  "214",
                  "202",
                  "171",
                  "201",
                  "178",
                  "203",
                  "190",
                  "180",
                  "187",
                  "196",
                  "183",
                  "206",
                  "195",
                  "206",
                  "44",
                  "0",
                  "0",
                  "0",
                  "0",
                  "0",
                  "0",
                  "0",
                  "0",
                  "0",
                  "233",
                  "221",
                  "237",
                  "182",
                  "206",
                  "207",
                  "195",
                  "200",
                  "192",
                  "224",
                  "191",
                  "182",
                  "177",
                  "180",
                  "186",
                  "178",
                  "196",
                  "207",
                  "60",
                  "0.0",
                  "0.0",
                  "0.0",
                  "0.0",
                  "0.0",
                  "0.0",
                  "0.0",
                  "0.0",
                  "16.0",
                  "249.0",
                  "224.0",
                  "229.0",
                  "192.0",
                  "215.0",
                  "207.0",
                  "198.0",
                  "198.0",
                  "192.0",
                  "226.0",
                  "193.0",
                  "192.0",
                  "180.0",
                  "176.0",
                  "185.0",
                  "196.0",
                  "200.0",
                  "217.0",
                  "87.0",
                  "0.0",
                  "0.0",
                  "0.0",
                  "0.0",
                  "0.0",
                  "0.0",
                  "0.0",
                  "0.0",
                  "53.0",
                  "222.0",
                  "223.0",
                  "235.0",
                  "205.0",
                  "220.0",
                  "200.0",
                  "151.0",
                  "206.0",
                  "198.0",
                  "214.0",
                  "199.0",
                  "171.0",
                  "161.0",
                  "197.0",
                  "186.0",
                  "218.0",
                  "198.0",
                  "216.0",
                  "88.0",
                  "0.0",
                  "0.0",
                  "0.0",
                  "0.0",
                  "0.0",
                  "0.0",
                  "0.0",
                  "0.0",
                  "75.0",
                  "223.0",
                  "223.0",
                  "237.0",
                  "199.0",
                  "219.0",
                  "203.0",
                  "193.0",
                  "204.0",
                  "201.0",
                  "220.0",
                  "201.0",
                  "193.0",
                  "176.0",
                  "189.0",
                  "167.0",
                  "218.0",
                  "202.0",
                  "198.0",
                  "109.0",
                  "0.0",
                  "0.0",
                  "0.0",
                  "0.0",
                  "0.0",
                  "0.0",
                  "0.0",
                  "0.0",
                  "79.0",
                  "250.0",
                  "226.0",
                  "243.0",
                  "196.0",
                  "222.0",
                  "201.0",
                  "206.0",
                  "205.0",
                  "207.0",
                  "222.0",
                  "185.0",
                  "194.0",
                  "186.0",
                  "187.0",
                  "144.0",
                  "207.0",
                  "208.0",
                  "226.0",
                  "111.0",
                  "0.0",
                  "0.0",
                  "0.0",
                  "0.0",
                  "0.0",
                  "0.0",
                  "0.0",
                  "0.0",
                  "87.0",
                  "249.0",
                  "222.0",
                  "240.0",
                  "226.0",
                  "193.0",
                  "187.0",
                  "205.0",
                  "206.0",
                  "198.0",
                  "212.0",
                  "190.0",
                  "189.0",
                  "185.0",
                  "185.0",
                  "191.0",
                  "211.0",
                  "212.0",
                  "210.0",
                  "113.0",
                  "0.0",
                  "0.0",
                  "0.0",
                  "0.0",
                  "0.0",
                  "0.0",
                  "0.0",
                  "0.0",
                  "95.0",
                  "249.0",
                  "227.0",
                  "236.0",
                  "219.0",
                  "213.0",
                  "186.0",
                  "203.0",
                  "219.0",
                  "198.0",
                  "206.0",
                  "218.0",
                  "194.0",
                  "177.0",
                  "181.0",
                  "195.0",
                  "148.0",
                  "229.0",
                  "206.0",
                  "122.0",
                  "0.0",
                  "0.0",
                  "0.0",
                  "0.0",
                  "0.0",
                  "0.0",
                  "0.0",
                  "0.0",
                  "106.0",
                  "248.0",
                  "228.0",
                  "224.0",
                  "206.0",
                  "202.0",
                  "200.0",
                  "206.0",
                  "191.0",
                  "190.0",
                  "194.0",
                  "203.0",
                  "196.0",
                  "180.0",
                  "180.0",
                  "185.0",
                  "148.0",
                  "228.0",
                  "214.0",
                  "117.0",
                  "0.0",
                  "0.0",
                  "0.0",
                  "0.0",
                  "0.0",
                  "0.0",
                  "0.0",
                  "0.0",
                  "110.0",
                  "242.0",
                  "225.0",
                  "239.0",
                  "218.0",
                  "204.0",
                  "201.0",
                  "202.0",
                  "211.0",
                  "193.0",
                  "197.0",
                  "217.0",
                  "203.0",
                  "183.0",
                  "184.0",
                  "175.0",
                  "212.0",
                  "219.0",
                  "206.0",
                  "122.0",
                  "0.0",
                  "0.0",
                  "0.0",
                  "0.0",
                  "0.0",
                  "0.0",
                  "0.0",
                  "0.0",
                  "122.0",
                  "249.0",
                  "234.0",
                  "241.0",
                  "216.0",
                  "215.0",
                  "196.0",
                  "200.0",
                  "222.0",
                  "208.0",
                  "195.0",
                  "225.0",
                  "212.0",
                  "181.0",
                  "186.0",
                  "183.0",
                  "227.0",
                  "214.0",
                  "211.0",
                  "121.0",
                  "0.0",
                  "0.0",
                  "0.0",
                  "0.0",
                  "0.0",
                  "0.0",
                  "0.0",
                  "0.0",
                  "148.0",
                  "230.0",
                  "237.0",
                  "228.0",
                  "214.0",
                  "213.0",
                  "201.0",
                  "207.0",
                  "214.0",
                  "201.0",
                  "204.0",
                  "235.0",
                  "191.0",
                  "161.0",
                  "185.0",
                  "180.0",
                  "216.0",
                  "201.0",
                  "212.0",
                  "119.0",
                  "0.0",
                  "0.0",
                  "0.0",
                  "0.0",
                  "0.0",
                  "0.0",
                  "0.0",
                  "0.0",
                  "151.0",
                  "230.0",
                  "235.0",
                  "229.0",
                  "218.0",
                  "209.0",
                  "198.0",
                  "193.0",
                  "226.0",
                  "182.0",
                  "189.0",
                  "240.0",
                  "200.0",
                  "186.0",
                  "188.0",
                  "188.0",
                  "218.0",
                  "216.0",
                  "209.0",
                  "110.0",
                  "0.0",
                  "0.0",
                  "0.0",
                  "0.0",
                  "0.0",
                  "0.0",
                  "0.0",
                  "0.0",
                  "96.0",
                  "237.0",
                  "233.0",
                  "237.0",
                  "207.0",
                  "200.0",
                  "203.0",
                  "191.0",
                  "213.0",
                  "170.0",
                  "186.0",
                  "239.0",
                  "209.0",
                  "186.0",
                  "173.0",
                  "186.0",
                  "156.0",
                  "199.0",
                  "217.0",
                  "84.0",
                  "0.0",
                  "0.0",
                  "0.0",
                  "0.0",
                  "0.0",
                  "0.0",
                  "0.0",
                  "0.0",
                  "89.0",
                  "237.0",
                  "207.0",
                  "121.0",
                  "255.0",
                  "193.0",
                  "183.0",
                  "193.0",
                  "209.0",
                  "224.0",
                  "208.0",
                  "224.0",
                  "203.0",
                  "160.0",
                  "184.0",
                  "223.0",
                  "0.0",
                  "186.0",
                  "216.0",
                  "102.0",
                  "0.0",
                  "0.0",
                  "0.0",
                  "0.0",
                  "0.0",
                  "0.0",
                  "0.0",
                  "0.0",
                  "108.0",
                  "242.0",
                  "253.0",
                  "0.0",
                  "112.0",
                  "255.0",
                  "217.0",
                  "211.0",
                  "227.0",
                  "245.0",
                  "195.0",
                  "194.0",
                  "211.0",
                  "220.0",
                  "214.0",
                  "74.0",
                  "0.0",
                  "255.0",
                  "222.0",
                  "128.0",
                  "0.0",
                  "0.0",
                  "0.0",
                  "0.0",
                  "0.0",
                  "0.0",
                  "0.0",
                  "0.0",
                  "0.0",
                  "44.0",
                  "12.0",
                  "0.0",
                  "0.0",
                  "40.0",
                  "134.0",
                  "162.0",
                  "191.0",
                  "214.0",
                  "163.0",
                  "146.0",
                  "165.0",
                  "79.0",
                  "0.0",
                  "0.0",
                  "0.0",
                  "30.0",
                  "43.0",
                  "0.0",
                  "0.0",
                  "0.0",
                  "0.0",
                  "0.0",
                  "2"
                ],
                [
                  "3",
                  "0",
                  "0",
                  "0",
                  "0",
                  "1",
                  "2",
                  "0",
                  "0",
                  "0",
                  "0",
                  "0",
                  "114",
                  "183",
                  "112",
                  "55",
                  "23",
                  "72",
                  "102",
                  "165",
                  "160",
                  "28",
                  "0",
                  "0",
                  "0",
                  "1",
                  "0",
                  "0",
                  "0",
                  "0",
                  "0",
                  "0",
                  "0",
                  "0",
                  "1",
                  "0",
                  "0",
                  "24",
                  "188",
                  "163",
                  "93",
                  "136",
                  "153",
                  "168",
                  "252",
                  "174",
                  "136",
                  "166",
                  "130",
                  "123",
                  "131",
                  "66",
                  "0",
                  "0",
                  "1",
                  "0",
                  "0",
                  "0",
                  "0",
                  "0",
                  "0",
                  "2",
                  "0",
                  "10",
                  "157",
                  "216",
                  "226",
                  "208",
                  "142",
                  "66",
                  "115",
                  "149",
                  "230",
                  "190",
                  "196",
                  "198",
                  "172",
                  "222",
                  "107",
                  "165",
                  "211",
                  "0",
                  "0",
                  "0",
                  "0",
                  "0",
                  "0",
                  "0",
                  "0",
                  "0",
                  "0",
                  "118",
                  "214",
                  "174",
                  "168",
                  "109",
                  "200",
                  "124",
                  "150",
                  "143",
                  "58",
                  "63",
                  "89",
                  "137",
                  "97",
                  "168",
                  "138",
                  "142",
                  "195",
                  "156",
                  "0",
                  "0",
                  "0",
                  "0",
                  "0",
                  "0",
                  "0",
                  "0",
                  "25",
                  "140",
                  "70",
                  "80",
                  "43",
                  "71",
                  "96",
                  "93",
                  "151",
                  "121",
                  "197",
                  "143",
                  "107",
                  "82",
                  "101",
                  "111",
                  "80",
                  "137",
                  "193",
                  "208",
                  "6",
                  "0",
                  "0",
                  "0",
                  "0",
                  "0",
                  "0",
                  "0",
                  "74",
                  "194",
                  "107",
                  "146",
                  "178",
                  "185",
                  "182",
                  "77",
                  "185",
                  "218",
                  "210",
                  "175",
                  "174",
                  "235",
                  "217",
                  "217",
                  "129",
                  "180",
                  "210",
                  "208",
                  "89",
                  "0",
                  "0",
                  "0",
                  "0",
                  "0",
                  "0",
                  "0",
                  "179",
                  "213",
                  "203",
                  "177",
                  "228",
                  "192",
                  "193",
                  "162",
                  "143",
                  "172",
                  "196",
                  "205",
                  "181",
                  "180",
                  "140",
                  "134",
                  "176",
                  "194",
                  "171",
                  "170",
                  "65",
                  "0",
                  "0",
                  "0",
                  "0",
                  "0",
                  "0",
                  "0",
                  "184",
                  "194",
                  "229",
                  "209",
                  "176",
                  "198",
                  "129",
                  "227",
                  "225",
                  "140",
                  "196",
                  "130",
                  "179",
                  "145",
                  "109",
                  "79",
                  "182",
                  "223",
                  "164",
                  "195",
                  "233",
                  "0",
                  "0",
                  "0",
                  "0",
                  "0",
                  "0",
                  "38",
                  "180",
                  "177",
                  "213",
                  "202",
                  "159",
                  "129",
                  "98",
                  "179",
                  "149",
                  "90",
                  "187",
                  "211",
                  "61",
                  "134",
                  "91",
                  "57",
                  "118",
                  "212",
                  "220",
                  "218",
                  "207",
                  "0",
                  "0",
                  "0",
                  "0",
                  "0",
                  "0",
                  "114",
                  "154",
                  "142",
                  "182",
                  "219",
                  "130",
                  "88",
                  "81",
                  "52",
                  "54",
                  "106",
                  "93",
                  "110",
                  "159",
                  "222",
                  "227",
                  "83",
                  "117",
                  "253",
                  "218",
                  "210",
                  "206",
                  "48",
                  "0",
                  "0",
                  "0",
                  "0",
                  "0",
                  "18",
                  "127",
                  "208",
                  "228",
                  "185",
                  "172",
                  "240",
                  "91",
                  "126",
                  "208",
                  "165",
                  "154",
                  "213",
                  "214",
                  "229",
                  "215",
                  "175",
                  "222",
                  "204",
                  "153",
                  "130",
                  "125",
                  "39",
                  "0",
                  "0",
                  "0",
                  "0",
                  "0",
                  "0",
                  "0",
                  "0",
                  "28",
                  "0",
                  "212",
                  "228",
                  "170",
                  "221",
                  "205",
                  "225",
                  "228",
                  "210",
                  "178",
                  "214",
                  "89",
                  "117",
                  "213",
                  "0",
                  "0",
                  "0",
                  "0",
                  "0",
                  "0",
                  "0",
                  "0",
                  "0",
                  "0",
                  "0",
                  "0",
                  "0",
                  "0",
                  "0",
                  "196",
                  "141",
                  "56",
                  "176",
                  "210",
                  "164",
                  "162",
                  "91",
                  "135",
                  "196",
                  "158",
                  "69",
                  "181",
                  "0",
                  "0",
                  "3",
                  "2.0",
                  "3.0",
                  "0.0",
                  "0.0",
                  "0.0",
                  "0.0",
                  "0.0",
                  "0.0",
                  "0.0",
                  "1.0",
                  "0.0",
                  "0.0",
                  "150.0",
                  "190.0",
                  "88.0",
                  "50.0",
                  "145.0",
                  "194.0",
                  "159.0",
                  "120.0",
                  "136.0",
                  "207.0",
                  "230.0",
                  "144.0",
                  "171.0",
                  "4.0",
                  "0.0",
                  "1.0",
                  "0.0",
                  "0.0",
                  "0.0",
                  "0.0",
                  "0.0",
                  "0.0",
                  "0.0",
                  "0.0",
                  "0.0",
                  "0.0",
                  "0.0",
                  "0.0",
                  "187.0",
                  "220.0",
                  "182.0",
                  "72.0",
                  "139.0",
                  "199.0",
                  "192.0",
                  "232.0",
                  "255.0",
                  "244.0",
                  "198.0",
                  "170.0",
                  "189.0",
                  "2.0",
                  "0.0",
                  "3.0",
                  "0.0",
                  "0.0",
                  "0.0",
                  "0.0",
                  "0.0",
                  "0.0",
                  "0.0",
                  "0.0",
                  "0.0",
                  "0.0",
                  "0.0",
                  "0.0",
                  "186.0",
                  "175.0",
                  "181.0",
                  "93.0",
                  "164.0",
                  "230.0",
                  "134.0",
                  "153.0",
                  "142.0",
                  "137.0",
                  "79.0",
                  "143.0",
                  "183.0",
                  "0.0",
                  "0.0",
                  "2.0",
                  "0.0",
                  "0.0",
                  "0.0",
                  "0.0",
                  "0.0",
                  "0.0",
                  "0.0",
                  "0.0",
                  "0.0",
                  "0.0",
                  "0.0",
                  "0.0",
                  "93.0",
                  "72.0",
                  "144.0",
                  "138.0",
                  "164.0",
                  "113.0",
                  "124.0",
                  "98.0",
                  "80.0",
                  "57.0",
                  "97.0",
                  "138.0",
                  "124.0",
                  "4.0",
                  "0.0",
                  "3.0",
                  "0.0",
                  "0.0",
                  "0.0",
                  "0.0",
                  "0.0",
                  "0.0",
                  "0.0",
                  "0.0",
                  "0.0",
                  "0.0",
                  "0.0",
                  "0.0",
                  "149.0",
                  "171.0",
                  "98.0",
                  "70.0",
                  "180.0",
                  "152.0",
                  "227.0",
                  "173.0",
                  "143.0",
                  "180.0",
                  "183.0",
                  "127.0",
                  "206.0",
                  "38.0",
                  "0.0",
                  "5.0",
                  "0.0",
                  "0.0",
                  "0.0",
                  "0.0",
                  "0.0",
                  "0.0",
                  "0.0",
                  "0.0",
                  "1.0",
                  "0.0",
                  "0.0",
                  "0.0",
                  "195.0",
                  "210.0",
                  "226.0",
                  "113.0",
                  "187.0",
                  "224.0",
                  "210.0",
                  "191.0",
                  "181.0",
                  "224.0",
                  "212.0",
                  "198.0",
                  "172.0",
                  "36.0",
                  "0.0",
                  "6.0",
                  "0.0",
                  "0.0",
                  "0.0",
                  "0.0",
                  "0.0",
                  "0.0",
                  "0.0",
                  "0.0",
                  "1.0",
                  "0.0",
                  "0.0",
                  "0.0",
                  "153.0",
                  "197.0",
                  "171.0",
                  "175.0",
                  "161.0",
                  "171.0",
                  "199.0",
                  "224.0",
                  "187.0",
                  "206.0",
                  "192.0",
                  "176.0",
                  "179.0",
                  "48.0",
                  "0.0",
                  "6.0",
                  "1.0",
                  "0.0",
                  "0.0",
                  "0.0",
                  "0.0",
                  "0.0",
                  "0.0",
                  "0.0",
                  "0.0",
                  "0.0",
                  "0.0",
                  "0.0",
                  "180.0",
                  "195.0",
                  "136.0",
                  "230.0",
                  "240.0",
                  "148.0",
                  "204.0",
                  "140.0",
                  "173.0",
                  "199.0",
                  "193.0",
                  "156.0",
                  "213.0",
                  "37.0",
                  "0.0",
                  "5.0",
                  "0.0",
                  "0.0",
                  "0.0",
                  "0.0",
                  "0.0",
                  "0.0",
                  "0.0",
                  "0.0",
                  "0.0",
                  "1.0",
                  "0.0",
                  "0.0",
                  "150.0",
                  "101.0",
                  "72.0",
                  "167.0",
                  "158.0",
                  "95.0",
                  "177.0",
                  "234.0",
                  "113.0",
                  "142.0",
                  "112.0",
                  "59.0",
                  "152.0",
                  "22.0",
                  "0.0",
                  "3.0",
                  "0.0",
                  "0.0",
                  "0.0",
                  "0.0",
                  "0.0",
                  "0.0",
                  "0.0",
                  "0.0",
                  "0.0",
                  "0.0",
                  "0.0",
                  "0.0",
                  "197.0",
                  "178.0",
                  "82.0",
                  "47.0",
                  "64.0",
                  "106.0",
                  "112.0",
                  "121.0",
                  "110.0",
                  "189.0",
                  "225.0",
                  "121.0",
                  "98.0",
                  "58.0",
                  "0.0",
                  "4.0",
                  "0.0",
                  "0.0",
                  "0.0",
                  "0.0",
                  "0.0",
                  "0.0",
                  "0.0",
                  "0.0",
                  "0.0",
                  "2.0",
                  "0.0",
                  "0.0",
                  "202.0",
                  "219.0",
                  "161.0",
                  "135.0",
                  "205.0",
                  "200.0",
                  "156.0",
                  "195.0",
                  "231.0",
                  "234.0",
                  "218.0",
                  "182.0",
                  "223.0",
                  "99.0",
                  "0.0",
                  "6.0",
                  "0.0",
                  "0.0",
                  "0.0",
                  "0.0",
                  "0.0",
                  "0.0",
                  "0.0",
                  "0.0",
                  "0.0",
                  "4.0",
                  "0.0",
                  "0.0",
                  "188.0",
                  "152.0",
                  "118.0",
                  "222.0",
                  "214.0",
                  "203.0",
                  "233.0",
                  "226.0",
                  "193.0",
                  "200.0",
                  "173.0",
                  "53.0",
                  "166.0",
                  "97.0",
                  "0.0",
                  "6.0",
                  "0.0",
                  "0.0",
                  "0.0",
                  "0.0",
                  "0.0",
                  "0.0",
                  "0.0",
                  "0.0",
                  "0.0",
                  "3.0",
                  "0.0",
                  "2.0",
                  "182.0",
                  "152.0",
                  "51.0",
                  "89.0",
                  "174.0",
                  "183.0",
                  "168.0",
                  "112.0",
                  "109.0",
                  "181.0",
                  "170.0",
                  "136.0",
                  "108.0",
                  "60.0",
                  "0.0",
                  "4.0",
                  "0.0",
                  "0.0",
                  "0.0",
                  "0.0",
                  "0.0",
                  "0.0",
                  "0.0",
                  "0.0",
                  "0.0",
                  "2.0",
                  "0.0",
                  "5.0",
                  "194.0",
                  "193.0",
                  "204.0",
                  "104.0",
                  "116.0",
                  "241.0",
                  "217.0",
                  "196.0",
                  "171.0",
                  "249.0",
                  "207.0",
                  "197.0",
                  "202.0",
                  "45.0",
                  "0.0",
                  "3.0",
                  "0.0",
                  "0.0",
                  "0.0",
                  "0.0",
                  "0.0",
                  "0.0",
                  "0.0",
                  "0.0",
                  "0.0",
                  "0.0",
                  "1.0",
                  "0.0",
                  "0.0",
                  "0.0",
                  "22.0",
                  "21.0",
                  "25.0",
                  "69.0",
                  "52.0",
                  "45.0",
                  "74.0",
                  "39.0",
                  "3.0",
                  "0.0",
                  "0.0",
                  "0.0",
                  "0.0",
                  "1.0",
                  "0.0",
                  "0.0",
                  "0.0",
                  "0.0",
                  "3"
                ],
                [
                  "4",
                  "3",
                  "0",
                  "0",
                  "0",
                  "0",
                  "0",
                  "0",
                  "0",
                  "0",
                  "0",
                  "0",
                  "0",
                  "0",
                  "46",
                  "0",
                  "21",
                  "68",
                  "0",
                  "0",
                  "0",
                  "0",
                  "0",
                  "0",
                  "0",
                  "0",
                  "0",
                  "0",
                  "0",
                  "0",
                  "0",
                  "0",
                  "0",
                  "0",
                  "0",
                  "0",
                  "0",
                  "0",
                  "25",
                  "187",
                  "189",
                  "0",
                  "119",
                  "173",
                  "239",
                  "112",
                  "0",
                  "189",
                  "125",
                  "0",
                  "0",
                  "0",
                  "0",
                  "0",
                  "0",
                  "0",
                  "0",
                  "0",
                  "0",
                  "0",
                  "0",
                  "0",
                  "0",
                  "0",
                  "0",
                  "14",
                  "219",
                  "224",
                  "211",
                  "92",
                  "52",
                  "227",
                  "224",
                  "127",
                  "92",
                  "196",
                  "237",
                  "136",
                  "0",
                  "0",
                  "0",
                  "0",
                  "0",
                  "0",
                  "0",
                  "0",
                  "0",
                  "0",
                  "0",
                  "0",
                  "0",
                  "0",
                  "0",
                  "106",
                  "238",
                  "202",
                  "205",
                  "224",
                  "225",
                  "217",
                  "218",
                  "222",
                  "227",
                  "202",
                  "206",
                  "218",
                  "0",
                  "0",
                  "0",
                  "0",
                  "0",
                  "0",
                  "0",
                  "0",
                  "0",
                  "0",
                  "0",
                  "0",
                  "0",
                  "0",
                  "0",
                  "166",
                  "239",
                  "216",
                  "214",
                  "192",
                  "181",
                  "205",
                  "204",
                  "180",
                  "187",
                  "205",
                  "208",
                  "230",
                  "45",
                  "0",
                  "0",
                  "0",
                  "0",
                  "0",
                  "0",
                  "0",
                  "0",
                  "0",
                  "0",
                  "0",
                  "0",
                  "0",
                  "0",
                  "220",
                  "235",
                  "233",
                  "213",
                  "205",
                  "201",
                  "185",
                  "184",
                  "200",
                  "199",
                  "223",
                  "224",
                  "232",
                  "101",
                  "0",
                  "0",
                  "0",
                  "0",
                  "0",
                  "0",
                  "0",
                  "0",
                  "0",
                  "0",
                  "0",
                  "0",
                  "0",
                  "0",
                  "252",
                  "238",
                  "226",
                  "226",
                  "221",
                  "224",
                  "195",
                  "198",
                  "223",
                  "229",
                  "205",
                  "202",
                  "235",
                  "158",
                  "0",
                  "0",
                  "0",
                  "0",
                  "0",
                  "0",
                  "0",
                  "0",
                  "0",
                  "0",
                  "0",
                  "0",
                  "0",
                  "9",
                  "228",
                  "241",
                  "125",
                  "238",
                  "228",
                  "225",
                  "212",
                  "215",
                  "222",
                  "250",
                  "168",
                  "141",
                  "243",
                  "197",
                  "0",
                  "0",
                  "0",
                  "0",
                  "0",
                  "0",
                  "0",
                  "0",
                  "0",
                  "0",
                  "0",
                  "0",
                  "0",
                  "51",
                  "232",
                  "247",
                  "34",
                  "225",
                  "237",
                  "219",
                  "222",
                  "223",
                  "216",
                  "248",
                  "182",
                  "124",
                  "246",
                  "200",
                  "0",
                  "0",
                  "0",
                  "0",
                  "0",
                  "0",
                  "0",
                  "0",
                  "0",
                  "0",
                  "0",
                  "0",
                  "0",
                  "69",
                  "236",
                  "255",
                  "0",
                  "218",
                  "240",
                  "219",
                  "221",
                  "222",
                  "214",
                  "252",
                  "153",
                  "71",
                  "248",
                  "215",
                  "0",
                  "0",
                  "0",
                  "0",
                  "0",
                  "0",
                  "0",
                  "0",
                  "0",
                  "0",
                  "0",
                  "0",
                  "0",
                  "82",
                  "248",
                  "247",
                  "0",
                  "231",
                  "236",
                  "219",
                  "221",
                  "221",
                  "212",
                  "253",
                  "109",
                  "0",
                  "247",
                  "224",
                  "19",
                  "0",
                  "0",
                  "0",
                  "0",
                  "0",
                  "0",
                  "0",
                  "0",
                  "0",
                  "0",
                  "0",
                  "0",
                  "106",
                  "252",
                  "198",
                  "0",
                  "250",
                  "230",
                  "220",
                  "219",
                  "219",
                  "212",
                  "252",
                  "129",
                  "0",
                  "255",
                  "232",
                  "59",
                  "0",
                  "0",
                  "0",
                  "0",
                  "0",
                  "0",
                  "0",
                  "0",
                  "0",
                  "0",
                  "0",
                  "0",
                  "134",
                  "252",
                  "150",
                  "0",
                  "254",
                  "215",
                  "219",
                  "219",
                  "219",
                  "216",
                  "233",
                  "222",
                  "0",
                  "253",
                  "237",
                  "89",
                  "0",
                  "0",
                  "0.0",
                  "0.0",
                  "0.0",
                  "0.0",
                  "0.0",
                  "0.0",
                  "0.0",
                  "0.0",
                  "0.0",
                  "0.0",
                  "163.0",
                  "253.0",
                  "126.0",
                  "115.0",
                  "253.0",
                  "211.0",
                  "222.0",
                  "220.0",
                  "219.0",
                  "219.0",
                  "213.0",
                  "253.0",
                  "54.0",
                  "206.0",
                  "243.0",
                  "144.0",
                  "0.0",
                  "0.0",
                  "0.0",
                  "0.0",
                  "0.0",
                  "0.0",
                  "0.0",
                  "0.0",
                  "0.0",
                  "0.0",
                  "0.0",
                  "0.0",
                  "205.0",
                  "255.0",
                  "149.0",
                  "209.0",
                  "234.0",
                  "219.0",
                  "221.0",
                  "220.0",
                  "219.0",
                  "219.0",
                  "213.0",
                  "244.0",
                  "164.0",
                  "224.0",
                  "240.0",
                  "195.0",
                  "0.0",
                  "0.0",
                  "0.0",
                  "0.0",
                  "0.0",
                  "0.0",
                  "0.0",
                  "0.0",
                  "0.0",
                  "0.0",
                  "0.0",
                  "0.0",
                  "9.0",
                  "0.0",
                  "20.0",
                  "253.0",
                  "219.0",
                  "221.0",
                  "219.0",
                  "219.0",
                  "219.0",
                  "219.0",
                  "221.0",
                  "224.0",
                  "230.0",
                  "0.0",
                  "0.0",
                  "0.0",
                  "0.0",
                  "0.0",
                  "0.0",
                  "0.0",
                  "0.0",
                  "0.0",
                  "0.0",
                  "0.0",
                  "0.0",
                  "0.0",
                  "0.0",
                  "0.0",
                  "0.0",
                  "0.0",
                  "49.0",
                  "254.0",
                  "217.0",
                  "221.0",
                  "219.0",
                  "219.0",
                  "219.0",
                  "220.0",
                  "221.0",
                  "216.0",
                  "253.0",
                  "7.0",
                  "0.0",
                  "0.0",
                  "0.0",
                  "0.0",
                  "0.0",
                  "0.0",
                  "0.0",
                  "0.0",
                  "0.0",
                  "0.0",
                  "0.0",
                  "0.0",
                  "0.0",
                  "0.0",
                  "6.0",
                  "0.0",
                  "94.0",
                  "229.0",
                  "216.0",
                  "220.0",
                  "218.0",
                  "218.0",
                  "219.0",
                  "220.0",
                  "219.0",
                  "218.0",
                  "226.0",
                  "52.0",
                  "0.0",
                  "5.0",
                  "0.0",
                  "0.0",
                  "0.0",
                  "0.0",
                  "0.0",
                  "0.0",
                  "0.0",
                  "0.0",
                  "0.0",
                  "0.0",
                  "0.0",
                  "0.0",
                  "4.0",
                  "0.0",
                  "119.0",
                  "231.0",
                  "214.0",
                  "220.0",
                  "217.0",
                  "218.0",
                  "219.0",
                  "220.0",
                  "221.0",
                  "217.0",
                  "224.0",
                  "34.0",
                  "0.0",
                  "3.0",
                  "0.0",
                  "0.0",
                  "0.0",
                  "0.0",
                  "0.0",
                  "0.0",
                  "0.0",
                  "0.0",
                  "0.0",
                  "0.0",
                  "0.0",
                  "0.0",
                  "3.0",
                  "0.0",
                  "113.0",
                  "231.0",
                  "213.0",
                  "222.0",
                  "217.0",
                  "218.0",
                  "219.0",
                  "220.0",
                  "219.0",
                  "219.0",
                  "219.0",
                  "10.0",
                  "0.0",
                  "2.0",
                  "0.0",
                  "0.0",
                  "0.0",
                  "0.0",
                  "0.0",
                  "0.0",
                  "0.0",
                  "0.0",
                  "0.0",
                  "0.0",
                  "0.0",
                  "0.0",
                  "3.0",
                  "0.0",
                  "51.0",
                  "227.0",
                  "215.0",
                  "221.0",
                  "217.0",
                  "217.0",
                  "219.0",
                  "220.0",
                  "218.0",
                  "219.0",
                  "213.0",
                  "0.0",
                  "0.0",
                  "1.0",
                  "0.0",
                  "0.0",
                  "0.0",
                  "0.0",
                  "0.0",
                  "0.0",
                  "0.0",
                  "0.0",
                  "0.0",
                  "0.0",
                  "0.0",
                  "0.0",
                  "2.0",
                  "0.0",
                  "0.0",
                  "216.0",
                  "217.0",
                  "219.0",
                  "218.0",
                  "218.0",
                  "219.0",
                  "219.0",
                  "218.0",
                  "220.0",
                  "246.0",
                  "0.0",
                  "0.0",
                  "2.0",
                  "0.0",
                  "0.0",
                  "0.0",
                  "0.0",
                  "0.0",
                  "0.0",
                  "0.0",
                  "0.0",
                  "0.0",
                  "0.0",
                  "0.0",
                  "0.0",
                  "2.0",
                  "0.0",
                  "0.0",
                  "217.0",
                  "216.0",
                  "216.0",
                  "219.0",
                  "218.0",
                  "219.0",
                  "219.0",
                  "217.0",
                  "222.0",
                  "235.0",
                  "0.0",
                  "0.0",
                  "2.0",
                  "0.0",
                  "0.0",
                  "0.0",
                  "0.0",
                  "0.0",
                  "0.0",
                  "0.0",
                  "0.0",
                  "0.0",
                  "0.0",
                  "0.0",
                  "0.0",
                  "2.0",
                  "0.0",
                  "0.0",
                  "212.0",
                  "216.0",
                  "217.0",
                  "219.0",
                  "218.0",
                  "219.0",
                  "219.0",
                  "216.0",
                  "224.0",
                  "204.0",
                  "0.0",
                  "0.0",
                  "2.0",
                  "0.0",
                  "0.0",
                  "0.0",
                  "0.0",
                  "0.0",
                  "0.0",
                  "0.0",
                  "0.0",
                  "0.0",
                  "0.0",
                  "0.0",
                  "0.0",
                  "4.0",
                  "0.0",
                  "3.0",
                  "217.0",
                  "216.0",
                  "217.0",
                  "219.0",
                  "218.0",
                  "220.0",
                  "220.0",
                  "218.0",
                  "222.0",
                  "209.0",
                  "0.0",
                  "0.0",
                  "2.0",
                  "0.0",
                  "0.0",
                  "0.0",
                  "0.0",
                  "0.0",
                  "0.0",
                  "0.0",
                  "0.0",
                  "0.0",
                  "0.0",
                  "0.0",
                  "0.0",
                  "3.0",
                  "0.0",
                  "4.0",
                  "214.0",
                  "211.0",
                  "213.0",
                  "213.0",
                  "215.0",
                  "213.0",
                  "211.0",
                  "214.0",
                  "220.0",
                  "200.0",
                  "0.0",
                  "0.0",
                  "1.0",
                  "0.0",
                  "0.0",
                  "0.0",
                  "0.0",
                  "0.0",
                  "0.0",
                  "0.0",
                  "0.0",
                  "0.0",
                  "0.0",
                  "0.0",
                  "0.0",
                  "3.0",
                  "0.0",
                  "0.0",
                  "214.0",
                  "232.0",
                  "229.0",
                  "249.0",
                  "245.0",
                  "248.0",
                  "252.0",
                  "230.0",
                  "237.0",
                  "229.0",
                  "0.0",
                  "0.0",
                  "1.0",
                  "0.0",
                  "0.0",
                  "0.0",
                  "0.0",
                  "0.0",
                  "0.0",
                  "0.0",
                  "0.0",
                  "0.0",
                  "0.0",
                  "0.0",
                  "0.0",
                  "0.0",
                  "0.0",
                  "0.0",
                  "68.0",
                  "116.0",
                  "112.0",
                  "136.0",
                  "147.0",
                  "144.0",
                  "121.0",
                  "102.0",
                  "63.0",
                  "0.0",
                  "0.0",
                  "0.0",
                  "0.0",
                  "0.0",
                  "0.0",
                  "0.0",
                  "0.0",
                  "0.0",
                  "0.0",
                  "4"
                ]
              ],
              "shape": {
                "columns": 786,
                "rows": 5
              }
            },
            "text/html": [
              "<div>\n",
              "<style scoped>\n",
              "    .dataframe tbody tr th:only-of-type {\n",
              "        vertical-align: middle;\n",
              "    }\n",
              "\n",
              "    .dataframe tbody tr th {\n",
              "        vertical-align: top;\n",
              "    }\n",
              "\n",
              "    .dataframe thead th {\n",
              "        text-align: right;\n",
              "    }\n",
              "</style>\n",
              "<table border=\"1\" class=\"dataframe\">\n",
              "  <thead>\n",
              "    <tr style=\"text-align: right;\">\n",
              "      <th></th>\n",
              "      <th>label</th>\n",
              "      <th>pixel1</th>\n",
              "      <th>pixel2</th>\n",
              "      <th>pixel3</th>\n",
              "      <th>pixel4</th>\n",
              "      <th>pixel5</th>\n",
              "      <th>pixel6</th>\n",
              "      <th>pixel7</th>\n",
              "      <th>pixel8</th>\n",
              "      <th>pixel9</th>\n",
              "      <th>...</th>\n",
              "      <th>pixel776</th>\n",
              "      <th>pixel777</th>\n",
              "      <th>pixel778</th>\n",
              "      <th>pixel779</th>\n",
              "      <th>pixel780</th>\n",
              "      <th>pixel781</th>\n",
              "      <th>pixel782</th>\n",
              "      <th>pixel783</th>\n",
              "      <th>pixel784</th>\n",
              "      <th>Id</th>\n",
              "    </tr>\n",
              "  </thead>\n",
              "  <tbody>\n",
              "    <tr>\n",
              "      <th>0</th>\n",
              "      <td>2</td>\n",
              "      <td>0</td>\n",
              "      <td>0</td>\n",
              "      <td>0</td>\n",
              "      <td>0</td>\n",
              "      <td>0</td>\n",
              "      <td>0</td>\n",
              "      <td>0</td>\n",
              "      <td>0</td>\n",
              "      <td>0</td>\n",
              "      <td>...</td>\n",
              "      <td>0.0</td>\n",
              "      <td>0.0</td>\n",
              "      <td>0.0</td>\n",
              "      <td>0.0</td>\n",
              "      <td>0.0</td>\n",
              "      <td>0.0</td>\n",
              "      <td>0.0</td>\n",
              "      <td>0.0</td>\n",
              "      <td>0.0</td>\n",
              "      <td>0</td>\n",
              "    </tr>\n",
              "    <tr>\n",
              "      <th>1</th>\n",
              "      <td>9</td>\n",
              "      <td>0</td>\n",
              "      <td>0</td>\n",
              "      <td>0</td>\n",
              "      <td>0</td>\n",
              "      <td>0</td>\n",
              "      <td>0</td>\n",
              "      <td>0</td>\n",
              "      <td>0</td>\n",
              "      <td>0</td>\n",
              "      <td>...</td>\n",
              "      <td>0.0</td>\n",
              "      <td>0.0</td>\n",
              "      <td>0.0</td>\n",
              "      <td>0.0</td>\n",
              "      <td>0.0</td>\n",
              "      <td>0.0</td>\n",
              "      <td>0.0</td>\n",
              "      <td>0.0</td>\n",
              "      <td>0.0</td>\n",
              "      <td>1</td>\n",
              "    </tr>\n",
              "    <tr>\n",
              "      <th>2</th>\n",
              "      <td>6</td>\n",
              "      <td>0</td>\n",
              "      <td>0</td>\n",
              "      <td>0</td>\n",
              "      <td>0</td>\n",
              "      <td>0</td>\n",
              "      <td>0</td>\n",
              "      <td>0</td>\n",
              "      <td>5</td>\n",
              "      <td>0</td>\n",
              "      <td>...</td>\n",
              "      <td>0.0</td>\n",
              "      <td>0.0</td>\n",
              "      <td>30.0</td>\n",
              "      <td>43.0</td>\n",
              "      <td>0.0</td>\n",
              "      <td>0.0</td>\n",
              "      <td>0.0</td>\n",
              "      <td>0.0</td>\n",
              "      <td>0.0</td>\n",
              "      <td>2</td>\n",
              "    </tr>\n",
              "    <tr>\n",
              "      <th>3</th>\n",
              "      <td>0</td>\n",
              "      <td>0</td>\n",
              "      <td>0</td>\n",
              "      <td>0</td>\n",
              "      <td>1</td>\n",
              "      <td>2</td>\n",
              "      <td>0</td>\n",
              "      <td>0</td>\n",
              "      <td>0</td>\n",
              "      <td>0</td>\n",
              "      <td>...</td>\n",
              "      <td>0.0</td>\n",
              "      <td>0.0</td>\n",
              "      <td>0.0</td>\n",
              "      <td>0.0</td>\n",
              "      <td>1.0</td>\n",
              "      <td>0.0</td>\n",
              "      <td>0.0</td>\n",
              "      <td>0.0</td>\n",
              "      <td>0.0</td>\n",
              "      <td>3</td>\n",
              "    </tr>\n",
              "    <tr>\n",
              "      <th>4</th>\n",
              "      <td>3</td>\n",
              "      <td>0</td>\n",
              "      <td>0</td>\n",
              "      <td>0</td>\n",
              "      <td>0</td>\n",
              "      <td>0</td>\n",
              "      <td>0</td>\n",
              "      <td>0</td>\n",
              "      <td>0</td>\n",
              "      <td>0</td>\n",
              "      <td>...</td>\n",
              "      <td>0.0</td>\n",
              "      <td>0.0</td>\n",
              "      <td>0.0</td>\n",
              "      <td>0.0</td>\n",
              "      <td>0.0</td>\n",
              "      <td>0.0</td>\n",
              "      <td>0.0</td>\n",
              "      <td>0.0</td>\n",
              "      <td>0.0</td>\n",
              "      <td>4</td>\n",
              "    </tr>\n",
              "  </tbody>\n",
              "</table>\n",
              "<p>5 rows × 786 columns</p>\n",
              "</div>"
            ],
            "text/plain": [
              "   label  pixel1  pixel2  pixel3  pixel4  pixel5  pixel6  pixel7  pixel8  \\\n",
              "0      2       0       0       0       0       0       0       0       0   \n",
              "1      9       0       0       0       0       0       0       0       0   \n",
              "2      6       0       0       0       0       0       0       0       5   \n",
              "3      0       0       0       0       1       2       0       0       0   \n",
              "4      3       0       0       0       0       0       0       0       0   \n",
              "\n",
              "   pixel9  ...  pixel776  pixel777  pixel778  pixel779  pixel780  pixel781  \\\n",
              "0       0  ...       0.0       0.0       0.0       0.0       0.0       0.0   \n",
              "1       0  ...       0.0       0.0       0.0       0.0       0.0       0.0   \n",
              "2       0  ...       0.0       0.0      30.0      43.0       0.0       0.0   \n",
              "3       0  ...       0.0       0.0       0.0       0.0       1.0       0.0   \n",
              "4       0  ...       0.0       0.0       0.0       0.0       0.0       0.0   \n",
              "\n",
              "   pixel782  pixel783  pixel784  Id  \n",
              "0       0.0       0.0       0.0   0  \n",
              "1       0.0       0.0       0.0   1  \n",
              "2       0.0       0.0       0.0   2  \n",
              "3       0.0       0.0       0.0   3  \n",
              "4       0.0       0.0       0.0   4  \n",
              "\n",
              "[5 rows x 786 columns]"
            ]
          },
          "execution_count": 51,
          "metadata": {},
          "output_type": "execute_result"
        }
      ],
      "source": [
        "print(f'Количество строк: {df.shape[0]}, количество столбцов: {df.shape[1]}')\n",
        "df.head()"
      ]
    },
    {
      "cell_type": "code",
      "execution_count": 52,
      "metadata": {
        "execution": {
          "iopub.execute_input": "2025-05-10T20:15:13.535113Z",
          "iopub.status.busy": "2025-05-10T20:15:13.534819Z",
          "iopub.status.idle": "2025-05-10T20:15:13.572751Z",
          "shell.execute_reply": "2025-05-10T20:15:13.571848Z",
          "shell.execute_reply.started": "2025-05-10T20:15:13.53509Z"
        },
        "id": "Jq91OifK2mu2",
        "trusted": true
      },
      "outputs": [
        {
          "name": "stdout",
          "output_type": "stream",
          "text": [
            "Количество строк с пропусками: 1\n"
          ]
        }
      ],
      "source": [
        "# Количество строк с пропусками\n",
        "rows_with_nulls = df.isnull().any(axis=1).sum()\n",
        "print(f'Количество строк с пропусками: {rows_with_nulls}') "
      ]
    },
    {
      "cell_type": "code",
      "execution_count": 53,
      "metadata": {
        "execution": {
          "iopub.execute_input": "2025-05-10T20:15:13.575572Z",
          "iopub.status.busy": "2025-05-10T20:15:13.574894Z",
          "iopub.status.idle": "2025-05-10T20:15:13.637393Z",
          "shell.execute_reply": "2025-05-10T20:15:13.636633Z",
          "shell.execute_reply.started": "2025-05-10T20:15:13.575522Z"
        },
        "id": "4kFn5gnO2mu3",
        "trusted": true
      },
      "outputs": [
        {
          "name": "stdout",
          "output_type": "stream",
          "text": [
            "Количество строк: 17039, количество столбцов: 786\n"
          ]
        }
      ],
      "source": [
        "# Строки с пропусками\n",
        "df = df.dropna()\n",
        "print(f'Количество строк: {df.shape[0]}, количество столбцов: {df.shape[1]}')"
      ]
    },
    {
      "cell_type": "markdown",
      "metadata": {
        "id": "ZVszaltP2mu3"
      },
      "source": [
        "### **Сбалансированность данных по меткам**"
      ]
    },
    {
      "cell_type": "code",
      "execution_count": 54,
      "metadata": {
        "execution": {
          "iopub.execute_input": "2025-05-10T20:15:13.638555Z",
          "iopub.status.busy": "2025-05-10T20:15:13.638221Z",
          "iopub.status.idle": "2025-05-10T20:15:13.645763Z",
          "shell.execute_reply": "2025-05-10T20:15:13.644725Z",
          "shell.execute_reply.started": "2025-05-10T20:15:13.638535Z"
        },
        "id": "Kf04wNDr2mu4",
        "trusted": true
      },
      "outputs": [
        {
          "data": {
            "application/vnd.microsoft.datawrangler.viewer.v0+json": {
              "columns": [
                {
                  "name": "label",
                  "rawType": "int64",
                  "type": "integer"
                },
                {
                  "name": "count",
                  "rawType": "int64",
                  "type": "integer"
                }
              ],
              "ref": "7f8fd86d-8bb0-493e-8913-3a1b12353e0d",
              "rows": [
                [
                  "0",
                  "1770"
                ],
                [
                  "7",
                  "1761"
                ],
                [
                  "3",
                  "1725"
                ],
                [
                  "6",
                  "1704"
                ],
                [
                  "1",
                  "1700"
                ],
                [
                  "9",
                  "1694"
                ],
                [
                  "5",
                  "1694"
                ],
                [
                  "2",
                  "1677"
                ],
                [
                  "8",
                  "1675"
                ],
                [
                  "4",
                  "1639"
                ]
              ],
              "shape": {
                "columns": 1,
                "rows": 10
              }
            },
            "text/plain": [
              "label\n",
              "0    1770\n",
              "7    1761\n",
              "3    1725\n",
              "6    1704\n",
              "1    1700\n",
              "9    1694\n",
              "5    1694\n",
              "2    1677\n",
              "8    1675\n",
              "4    1639\n",
              "Name: count, dtype: int64"
            ]
          },
          "execution_count": 54,
          "metadata": {},
          "output_type": "execute_result"
        }
      ],
      "source": [
        "df['label'].value_counts()"
      ]
    },
    {
      "cell_type": "markdown",
      "metadata": {
        "id": "tZAvPvfE2mu4"
      },
      "source": [
        "Видим, что данные не сильно но разбалансированы, следовательно будем делить датасет на тестовый и валидационный с учетом стратификации"
      ]
    },
    {
      "cell_type": "markdown",
      "metadata": {},
      "source": [
        "# **3 ПОДГОТОВКА К ОБУЧЕНИЮ**"
      ]
    },
    {
      "cell_type": "code",
      "execution_count": 55,
      "metadata": {
        "execution": {
          "iopub.execute_input": "2025-05-10T20:15:13.646835Z",
          "iopub.status.busy": "2025-05-10T20:15:13.646597Z",
          "iopub.status.idle": "2025-05-10T20:15:13.758378Z",
          "shell.execute_reply": "2025-05-10T20:15:13.757768Z",
          "shell.execute_reply.started": "2025-05-10T20:15:13.646817Z"
        },
        "id": "urm1aZJwjQkC",
        "trusted": true
      },
      "outputs": [],
      "source": [
        "# Загружаем данные (признаки X и целевую переменную y)\n",
        "X = df.drop(columns=['label', 'Id'])  # Все колонки, кроме целевой и Id\n",
        "y = df['label']                # Целевая переменная\n",
        "\n",
        "# Разделяем данные (70% train, 30% validation)\n",
        "x_train, x_val, y_train, y_val = train_test_split(X, y, test_size=0.3, random_state=42, stratify=y)"
      ]
    },
    {
      "cell_type": "code",
      "execution_count": 56,
      "metadata": {
        "execution": {
          "iopub.execute_input": "2025-05-10T20:15:13.759542Z",
          "iopub.status.busy": "2025-05-10T20:15:13.759238Z",
          "iopub.status.idle": "2025-05-10T20:15:13.764774Z",
          "shell.execute_reply": "2025-05-10T20:15:13.764003Z",
          "shell.execute_reply.started": "2025-05-10T20:15:13.759506Z"
        },
        "id": "JXxm8f9Dupqb",
        "trusted": true
      },
      "outputs": [
        {
          "name": "stdout",
          "output_type": "stream",
          "text": [
            "Форма обучающего датасета - Количество строк: 11927, количество столбцов: 784\n",
            "Форма валидационного датасета - Количество строк: 5112, количество столбцов: 784\n"
          ]
        }
      ],
      "source": [
        "print(f'Форма обучающего датасета - Количество строк: {x_train.shape[0]}, количество столбцов: {x_train.shape[1]}')\n",
        "print(f'Форма валидационного датасета - Количество строк: {x_val.shape[0]}, количество столбцов: {x_val.shape[1]}')"
      ]
    },
    {
      "cell_type": "code",
      "execution_count": 57,
      "metadata": {
        "execution": {
          "iopub.execute_input": "2025-05-10T20:15:13.766012Z",
          "iopub.status.busy": "2025-05-10T20:15:13.76573Z",
          "iopub.status.idle": "2025-05-10T20:15:13.812623Z",
          "shell.execute_reply": "2025-05-10T20:15:13.811815Z",
          "shell.execute_reply.started": "2025-05-10T20:15:13.765989Z"
        },
        "id": "4D-Ba_it2mu5",
        "trusted": true
      },
      "outputs": [
        {
          "name": "stdout",
          "output_type": "stream",
          "text": [
            "Форма обучающего датасета - (11927, 28, 28)\n",
            "Форма валидационного датасета - 5112\n"
          ]
        }
      ],
      "source": [
        "# Переведем датафрейм, представив признаки в виде матрицы 28*28\n",
        "x_train = x_train.to_numpy().reshape(-1, 28, 28)\n",
        "x_val = x_val.to_numpy().reshape(-1, 28, 28)\n",
        "print(f'Форма обучающего датасета - {x_train.shape}')\n",
        "print(f'Форма валидационного датасета - {x_val.shape[0]}')"
      ]
    },
    {
      "cell_type": "code",
      "execution_count": 58,
      "metadata": {
        "execution": {
          "iopub.execute_input": "2025-05-10T20:15:13.813631Z",
          "iopub.status.busy": "2025-05-10T20:15:13.813377Z",
          "iopub.status.idle": "2025-05-10T20:15:13.820971Z",
          "shell.execute_reply": "2025-05-10T20:15:13.82002Z",
          "shell.execute_reply.started": "2025-05-10T20:15:13.813605Z"
        },
        "id": "Ntmlh71gbkJU",
        "trusted": true
      },
      "outputs": [
        {
          "name": "stdout",
          "output_type": "stream",
          "text": [
            "(11927, 10)\n",
            "[[0. 0. 0. 0. 0. 0. 1. 0. 0. 0.]\n",
            " [0. 0. 0. 0. 0. 0. 1. 0. 0. 0.]\n",
            " [0. 0. 0. 0. 0. 0. 0. 0. 1. 0.]\n",
            " [0. 0. 1. 0. 0. 0. 0. 0. 0. 0.]\n",
            " [1. 0. 0. 0. 0. 0. 0. 0. 0. 0.]] 4908     6\n",
            "5324     6\n",
            "15827    8\n",
            "14280    2\n",
            "1629     0\n",
            "Name: label, dtype: int64\n"
          ]
        }
      ],
      "source": [
        "# one-hot encode для ответов\n",
        "y_train_oh = keras.utils.to_categorical(y_train, 10)\n",
        "y_val_oh = keras.utils.to_categorical(y_val, 10)\n",
        "\n",
        "print(y_train_oh.shape)\n",
        "print(y_train_oh[:5], y_train[:5])"
      ]
    },
    {
      "cell_type": "markdown",
      "metadata": {
        "id": "sFdgl0owpaff"
      },
      "source": [
        "# **4 ОБУЧЕНИЕ МОДЕЛИ**"
      ]
    },
    {
      "cell_type": "code",
      "execution_count": 59,
      "metadata": {
        "execution": {
          "iopub.execute_input": "2025-05-10T20:15:13.823642Z",
          "iopub.status.busy": "2025-05-10T20:15:13.823352Z",
          "iopub.status.idle": "2025-05-10T20:15:14.299365Z",
          "shell.execute_reply": "2025-05-10T20:15:14.298639Z",
          "shell.execute_reply.started": "2025-05-10T20:15:13.823618Z"
        },
        "id": "f75e-QsypY4a",
        "trusted": true
      },
      "outputs": [
        {
          "name": "stderr",
          "output_type": "stream",
          "text": [
            "d:\\mifi\\myvenv\\Lib\\site-packages\\keras\\src\\layers\\convolutional\\base_conv.py:113: UserWarning: Do not pass an `input_shape`/`input_dim` argument to a layer. When using Sequential models, prefer using an `Input(shape)` object as the first layer in the model instead.\n",
            "  super().__init__(activity_regularizer=activity_regularizer, **kwargs)\n"
          ]
        }
      ],
      "source": [
        "K.clear_session()\n",
        "\n",
        "model = M.Sequential()\n",
        "model.add(L.Conv2D(32, kernel_size=5, strides=1, padding='same', input_shape=(28, 28, 1)))\n",
        "model.add(L.MaxPool2D())\n",
        "model.add(L.Conv2D(64, kernel_size=5, strides=1, padding='same'))\n",
        "model.add(L.MaxPool2D())\n",
        "model.add(L.Conv2D(128, kernel_size=5, strides=1, padding='same'))\n",
        "model.add(L.MaxPool2D())\n",
        "model.add(L.Conv2D(256, kernel_size=5, strides=1, padding='same'))\n",
        "model.add(L.MaxPool2D())\n",
        "model.add(L.Conv2D(512, kernel_size=5, strides=1, padding='same'))\n",
        "model.add(L.Flatten())\n",
        "model.add(L.Dense(10, activation='softmax'))"
      ]
    },
    {
      "cell_type": "code",
      "execution_count": 60,
      "metadata": {
        "execution": {
          "iopub.execute_input": "2025-05-10T20:15:14.30034Z",
          "iopub.status.busy": "2025-05-10T20:15:14.300095Z",
          "iopub.status.idle": "2025-05-10T20:15:14.320211Z",
          "shell.execute_reply": "2025-05-10T20:15:14.319453Z",
          "shell.execute_reply.started": "2025-05-10T20:15:14.300323Z"
        },
        "id": "oAyTk_FAbkJZ",
        "trusted": true
      },
      "outputs": [
        {
          "data": {
            "text/html": [
              "<pre style=\"white-space:pre;overflow-x:auto;line-height:normal;font-family:Menlo,'DejaVu Sans Mono',consolas,'Courier New',monospace\"><span style=\"font-weight: bold\">Model: \"sequential\"</span>\n",
              "</pre>\n"
            ],
            "text/plain": [
              "\u001b[1mModel: \"sequential\"\u001b[0m\n"
            ]
          },
          "metadata": {},
          "output_type": "display_data"
        },
        {
          "data": {
            "text/html": [
              "<pre style=\"white-space:pre;overflow-x:auto;line-height:normal;font-family:Menlo,'DejaVu Sans Mono',consolas,'Courier New',monospace\">┏━━━━━━━━━━━━━━━━━━━━━━━━━━━━━━━━━┳━━━━━━━━━━━━━━━━━━━━━━━━┳━━━━━━━━━━━━━━━┓\n",
              "┃<span style=\"font-weight: bold\"> Layer (type)                    </span>┃<span style=\"font-weight: bold\"> Output Shape           </span>┃<span style=\"font-weight: bold\">       Param # </span>┃\n",
              "┡━━━━━━━━━━━━━━━━━━━━━━━━━━━━━━━━━╇━━━━━━━━━━━━━━━━━━━━━━━━╇━━━━━━━━━━━━━━━┩\n",
              "│ conv2d (<span style=\"color: #0087ff; text-decoration-color: #0087ff\">Conv2D</span>)                 │ (<span style=\"color: #00d7ff; text-decoration-color: #00d7ff\">None</span>, <span style=\"color: #00af00; text-decoration-color: #00af00\">28</span>, <span style=\"color: #00af00; text-decoration-color: #00af00\">28</span>, <span style=\"color: #00af00; text-decoration-color: #00af00\">32</span>)     │           <span style=\"color: #00af00; text-decoration-color: #00af00\">832</span> │\n",
              "├─────────────────────────────────┼────────────────────────┼───────────────┤\n",
              "│ max_pooling2d (<span style=\"color: #0087ff; text-decoration-color: #0087ff\">MaxPooling2D</span>)    │ (<span style=\"color: #00d7ff; text-decoration-color: #00d7ff\">None</span>, <span style=\"color: #00af00; text-decoration-color: #00af00\">14</span>, <span style=\"color: #00af00; text-decoration-color: #00af00\">14</span>, <span style=\"color: #00af00; text-decoration-color: #00af00\">32</span>)     │             <span style=\"color: #00af00; text-decoration-color: #00af00\">0</span> │\n",
              "├─────────────────────────────────┼────────────────────────┼───────────────┤\n",
              "│ conv2d_1 (<span style=\"color: #0087ff; text-decoration-color: #0087ff\">Conv2D</span>)               │ (<span style=\"color: #00d7ff; text-decoration-color: #00d7ff\">None</span>, <span style=\"color: #00af00; text-decoration-color: #00af00\">14</span>, <span style=\"color: #00af00; text-decoration-color: #00af00\">14</span>, <span style=\"color: #00af00; text-decoration-color: #00af00\">64</span>)     │        <span style=\"color: #00af00; text-decoration-color: #00af00\">51,264</span> │\n",
              "├─────────────────────────────────┼────────────────────────┼───────────────┤\n",
              "│ max_pooling2d_1 (<span style=\"color: #0087ff; text-decoration-color: #0087ff\">MaxPooling2D</span>)  │ (<span style=\"color: #00d7ff; text-decoration-color: #00d7ff\">None</span>, <span style=\"color: #00af00; text-decoration-color: #00af00\">7</span>, <span style=\"color: #00af00; text-decoration-color: #00af00\">7</span>, <span style=\"color: #00af00; text-decoration-color: #00af00\">64</span>)       │             <span style=\"color: #00af00; text-decoration-color: #00af00\">0</span> │\n",
              "├─────────────────────────────────┼────────────────────────┼───────────────┤\n",
              "│ conv2d_2 (<span style=\"color: #0087ff; text-decoration-color: #0087ff\">Conv2D</span>)               │ (<span style=\"color: #00d7ff; text-decoration-color: #00d7ff\">None</span>, <span style=\"color: #00af00; text-decoration-color: #00af00\">7</span>, <span style=\"color: #00af00; text-decoration-color: #00af00\">7</span>, <span style=\"color: #00af00; text-decoration-color: #00af00\">128</span>)      │       <span style=\"color: #00af00; text-decoration-color: #00af00\">204,928</span> │\n",
              "├─────────────────────────────────┼────────────────────────┼───────────────┤\n",
              "│ max_pooling2d_2 (<span style=\"color: #0087ff; text-decoration-color: #0087ff\">MaxPooling2D</span>)  │ (<span style=\"color: #00d7ff; text-decoration-color: #00d7ff\">None</span>, <span style=\"color: #00af00; text-decoration-color: #00af00\">3</span>, <span style=\"color: #00af00; text-decoration-color: #00af00\">3</span>, <span style=\"color: #00af00; text-decoration-color: #00af00\">128</span>)      │             <span style=\"color: #00af00; text-decoration-color: #00af00\">0</span> │\n",
              "├─────────────────────────────────┼────────────────────────┼───────────────┤\n",
              "│ conv2d_3 (<span style=\"color: #0087ff; text-decoration-color: #0087ff\">Conv2D</span>)               │ (<span style=\"color: #00d7ff; text-decoration-color: #00d7ff\">None</span>, <span style=\"color: #00af00; text-decoration-color: #00af00\">3</span>, <span style=\"color: #00af00; text-decoration-color: #00af00\">3</span>, <span style=\"color: #00af00; text-decoration-color: #00af00\">256</span>)      │       <span style=\"color: #00af00; text-decoration-color: #00af00\">819,456</span> │\n",
              "├─────────────────────────────────┼────────────────────────┼───────────────┤\n",
              "│ max_pooling2d_3 (<span style=\"color: #0087ff; text-decoration-color: #0087ff\">MaxPooling2D</span>)  │ (<span style=\"color: #00d7ff; text-decoration-color: #00d7ff\">None</span>, <span style=\"color: #00af00; text-decoration-color: #00af00\">1</span>, <span style=\"color: #00af00; text-decoration-color: #00af00\">1</span>, <span style=\"color: #00af00; text-decoration-color: #00af00\">256</span>)      │             <span style=\"color: #00af00; text-decoration-color: #00af00\">0</span> │\n",
              "├─────────────────────────────────┼────────────────────────┼───────────────┤\n",
              "│ conv2d_4 (<span style=\"color: #0087ff; text-decoration-color: #0087ff\">Conv2D</span>)               │ (<span style=\"color: #00d7ff; text-decoration-color: #00d7ff\">None</span>, <span style=\"color: #00af00; text-decoration-color: #00af00\">1</span>, <span style=\"color: #00af00; text-decoration-color: #00af00\">1</span>, <span style=\"color: #00af00; text-decoration-color: #00af00\">512</span>)      │     <span style=\"color: #00af00; text-decoration-color: #00af00\">3,277,312</span> │\n",
              "├─────────────────────────────────┼────────────────────────┼───────────────┤\n",
              "│ flatten (<span style=\"color: #0087ff; text-decoration-color: #0087ff\">Flatten</span>)               │ (<span style=\"color: #00d7ff; text-decoration-color: #00d7ff\">None</span>, <span style=\"color: #00af00; text-decoration-color: #00af00\">512</span>)            │             <span style=\"color: #00af00; text-decoration-color: #00af00\">0</span> │\n",
              "├─────────────────────────────────┼────────────────────────┼───────────────┤\n",
              "│ dense (<span style=\"color: #0087ff; text-decoration-color: #0087ff\">Dense</span>)                   │ (<span style=\"color: #00d7ff; text-decoration-color: #00d7ff\">None</span>, <span style=\"color: #00af00; text-decoration-color: #00af00\">10</span>)             │         <span style=\"color: #00af00; text-decoration-color: #00af00\">5,130</span> │\n",
              "└─────────────────────────────────┴────────────────────────┴───────────────┘\n",
              "</pre>\n"
            ],
            "text/plain": [
              "┏━━━━━━━━━━━━━━━━━━━━━━━━━━━━━━━━━┳━━━━━━━━━━━━━━━━━━━━━━━━┳━━━━━━━━━━━━━━━┓\n",
              "┃\u001b[1m \u001b[0m\u001b[1mLayer (type)                   \u001b[0m\u001b[1m \u001b[0m┃\u001b[1m \u001b[0m\u001b[1mOutput Shape          \u001b[0m\u001b[1m \u001b[0m┃\u001b[1m \u001b[0m\u001b[1m      Param #\u001b[0m\u001b[1m \u001b[0m┃\n",
              "┡━━━━━━━━━━━━━━━━━━━━━━━━━━━━━━━━━╇━━━━━━━━━━━━━━━━━━━━━━━━╇━━━━━━━━━━━━━━━┩\n",
              "│ conv2d (\u001b[38;5;33mConv2D\u001b[0m)                 │ (\u001b[38;5;45mNone\u001b[0m, \u001b[38;5;34m28\u001b[0m, \u001b[38;5;34m28\u001b[0m, \u001b[38;5;34m32\u001b[0m)     │           \u001b[38;5;34m832\u001b[0m │\n",
              "├─────────────────────────────────┼────────────────────────┼───────────────┤\n",
              "│ max_pooling2d (\u001b[38;5;33mMaxPooling2D\u001b[0m)    │ (\u001b[38;5;45mNone\u001b[0m, \u001b[38;5;34m14\u001b[0m, \u001b[38;5;34m14\u001b[0m, \u001b[38;5;34m32\u001b[0m)     │             \u001b[38;5;34m0\u001b[0m │\n",
              "├─────────────────────────────────┼────────────────────────┼───────────────┤\n",
              "│ conv2d_1 (\u001b[38;5;33mConv2D\u001b[0m)               │ (\u001b[38;5;45mNone\u001b[0m, \u001b[38;5;34m14\u001b[0m, \u001b[38;5;34m14\u001b[0m, \u001b[38;5;34m64\u001b[0m)     │        \u001b[38;5;34m51,264\u001b[0m │\n",
              "├─────────────────────────────────┼────────────────────────┼───────────────┤\n",
              "│ max_pooling2d_1 (\u001b[38;5;33mMaxPooling2D\u001b[0m)  │ (\u001b[38;5;45mNone\u001b[0m, \u001b[38;5;34m7\u001b[0m, \u001b[38;5;34m7\u001b[0m, \u001b[38;5;34m64\u001b[0m)       │             \u001b[38;5;34m0\u001b[0m │\n",
              "├─────────────────────────────────┼────────────────────────┼───────────────┤\n",
              "│ conv2d_2 (\u001b[38;5;33mConv2D\u001b[0m)               │ (\u001b[38;5;45mNone\u001b[0m, \u001b[38;5;34m7\u001b[0m, \u001b[38;5;34m7\u001b[0m, \u001b[38;5;34m128\u001b[0m)      │       \u001b[38;5;34m204,928\u001b[0m │\n",
              "├─────────────────────────────────┼────────────────────────┼───────────────┤\n",
              "│ max_pooling2d_2 (\u001b[38;5;33mMaxPooling2D\u001b[0m)  │ (\u001b[38;5;45mNone\u001b[0m, \u001b[38;5;34m3\u001b[0m, \u001b[38;5;34m3\u001b[0m, \u001b[38;5;34m128\u001b[0m)      │             \u001b[38;5;34m0\u001b[0m │\n",
              "├─────────────────────────────────┼────────────────────────┼───────────────┤\n",
              "│ conv2d_3 (\u001b[38;5;33mConv2D\u001b[0m)               │ (\u001b[38;5;45mNone\u001b[0m, \u001b[38;5;34m3\u001b[0m, \u001b[38;5;34m3\u001b[0m, \u001b[38;5;34m256\u001b[0m)      │       \u001b[38;5;34m819,456\u001b[0m │\n",
              "├─────────────────────────────────┼────────────────────────┼───────────────┤\n",
              "│ max_pooling2d_3 (\u001b[38;5;33mMaxPooling2D\u001b[0m)  │ (\u001b[38;5;45mNone\u001b[0m, \u001b[38;5;34m1\u001b[0m, \u001b[38;5;34m1\u001b[0m, \u001b[38;5;34m256\u001b[0m)      │             \u001b[38;5;34m0\u001b[0m │\n",
              "├─────────────────────────────────┼────────────────────────┼───────────────┤\n",
              "│ conv2d_4 (\u001b[38;5;33mConv2D\u001b[0m)               │ (\u001b[38;5;45mNone\u001b[0m, \u001b[38;5;34m1\u001b[0m, \u001b[38;5;34m1\u001b[0m, \u001b[38;5;34m512\u001b[0m)      │     \u001b[38;5;34m3,277,312\u001b[0m │\n",
              "├─────────────────────────────────┼────────────────────────┼───────────────┤\n",
              "│ flatten (\u001b[38;5;33mFlatten\u001b[0m)               │ (\u001b[38;5;45mNone\u001b[0m, \u001b[38;5;34m512\u001b[0m)            │             \u001b[38;5;34m0\u001b[0m │\n",
              "├─────────────────────────────────┼────────────────────────┼───────────────┤\n",
              "│ dense (\u001b[38;5;33mDense\u001b[0m)                   │ (\u001b[38;5;45mNone\u001b[0m, \u001b[38;5;34m10\u001b[0m)             │         \u001b[38;5;34m5,130\u001b[0m │\n",
              "└─────────────────────────────────┴────────────────────────┴───────────────┘\n"
            ]
          },
          "metadata": {},
          "output_type": "display_data"
        },
        {
          "data": {
            "text/html": [
              "<pre style=\"white-space:pre;overflow-x:auto;line-height:normal;font-family:Menlo,'DejaVu Sans Mono',consolas,'Courier New',monospace\"><span style=\"font-weight: bold\"> Total params: </span><span style=\"color: #00af00; text-decoration-color: #00af00\">4,358,922</span> (16.63 MB)\n",
              "</pre>\n"
            ],
            "text/plain": [
              "\u001b[1m Total params: \u001b[0m\u001b[38;5;34m4,358,922\u001b[0m (16.63 MB)\n"
            ]
          },
          "metadata": {},
          "output_type": "display_data"
        },
        {
          "data": {
            "text/html": [
              "<pre style=\"white-space:pre;overflow-x:auto;line-height:normal;font-family:Menlo,'DejaVu Sans Mono',consolas,'Courier New',monospace\"><span style=\"font-weight: bold\"> Trainable params: </span><span style=\"color: #00af00; text-decoration-color: #00af00\">4,358,922</span> (16.63 MB)\n",
              "</pre>\n"
            ],
            "text/plain": [
              "\u001b[1m Trainable params: \u001b[0m\u001b[38;5;34m4,358,922\u001b[0m (16.63 MB)\n"
            ]
          },
          "metadata": {},
          "output_type": "display_data"
        },
        {
          "data": {
            "text/html": [
              "<pre style=\"white-space:pre;overflow-x:auto;line-height:normal;font-family:Menlo,'DejaVu Sans Mono',consolas,'Courier New',monospace\"><span style=\"font-weight: bold\"> Non-trainable params: </span><span style=\"color: #00af00; text-decoration-color: #00af00\">0</span> (0.00 B)\n",
              "</pre>\n"
            ],
            "text/plain": [
              "\u001b[1m Non-trainable params: \u001b[0m\u001b[38;5;34m0\u001b[0m (0.00 B)\n"
            ]
          },
          "metadata": {},
          "output_type": "display_data"
        }
      ],
      "source": [
        "model.summary()"
      ]
    },
    {
      "cell_type": "code",
      "execution_count": 61,
      "metadata": {
        "execution": {
          "iopub.execute_input": "2025-05-10T20:15:14.321308Z",
          "iopub.status.busy": "2025-05-10T20:15:14.321069Z",
          "iopub.status.idle": "2025-05-10T20:15:14.33384Z",
          "shell.execute_reply": "2025-05-10T20:15:14.333129Z",
          "shell.execute_reply.started": "2025-05-10T20:15:14.32128Z"
        },
        "id": "05_NRSnWbkJc",
        "trusted": true
      },
      "outputs": [],
      "source": [
        "model.compile(\n",
        "    loss='categorical_crossentropy',  # минимизируем кросс-энтропию\n",
        "    optimizer='adam',\n",
        "    metrics=['accuracy']  # выводим процент правильных ответов\n",
        ")"
      ]
    },
    {
      "cell_type": "code",
      "execution_count": 62,
      "metadata": {
        "execution": {
          "iopub.execute_input": "2025-05-10T20:15:14.33505Z",
          "iopub.status.busy": "2025-05-10T20:15:14.334719Z",
          "iopub.status.idle": "2025-05-10T20:15:14.376337Z",
          "shell.execute_reply": "2025-05-10T20:15:14.375703Z",
          "shell.execute_reply.started": "2025-05-10T20:15:14.335026Z"
        },
        "id": "Tj7JoTt3rghC",
        "trusted": true
      },
      "outputs": [],
      "source": [
        "# центрируем и нормируем, так сети будет проще учиться\n",
        "x_train_float = x_train.astype(np.float32) / 255 - 0.5\n",
        "x_val_float = x_val.astype(np.float32) / 255 - 0.5"
      ]
    },
    {
      "cell_type": "code",
      "execution_count": 63,
      "metadata": {
        "execution": {
          "iopub.execute_input": "2025-05-10T20:15:14.377345Z",
          "iopub.status.busy": "2025-05-10T20:15:14.377108Z",
          "iopub.status.idle": "2025-05-10T20:15:32.495371Z",
          "shell.execute_reply": "2025-05-10T20:15:32.494751Z",
          "shell.execute_reply.started": "2025-05-10T20:15:14.37732Z"
        },
        "id": "0c6R3wKWbkJf",
        "trusted": true
      },
      "outputs": [
        {
          "name": "stdout",
          "output_type": "stream",
          "text": [
            "Epoch 1/5\n",
            "\u001b[1m373/373\u001b[0m \u001b[32m━━━━━━━━━━━━━━━━━━━━\u001b[0m\u001b[37m\u001b[0m \u001b[1m25s\u001b[0m 63ms/step - accuracy: 0.6499 - loss: 0.9209 - val_accuracy: 0.8275 - val_loss: 0.4850\n",
            "Epoch 2/5\n",
            "\u001b[1m373/373\u001b[0m \u001b[32m━━━━━━━━━━━━━━━━━━━━\u001b[0m\u001b[37m\u001b[0m \u001b[1m22s\u001b[0m 60ms/step - accuracy: 0.8571 - loss: 0.4004 - val_accuracy: 0.8464 - val_loss: 0.4164\n",
            "Epoch 3/5\n",
            "\u001b[1m373/373\u001b[0m \u001b[32m━━━━━━━━━━━━━━━━━━━━\u001b[0m\u001b[37m\u001b[0m \u001b[1m19s\u001b[0m 51ms/step - accuracy: 0.8956 - loss: 0.2998 - val_accuracy: 0.8744 - val_loss: 0.3566\n",
            "Epoch 4/5\n",
            "\u001b[1m373/373\u001b[0m \u001b[32m━━━━━━━━━━━━━━━━━━━━\u001b[0m\u001b[37m\u001b[0m \u001b[1m18s\u001b[0m 49ms/step - accuracy: 0.9074 - loss: 0.2539 - val_accuracy: 0.8595 - val_loss: 0.4208\n",
            "Epoch 5/5\n",
            "\u001b[1m373/373\u001b[0m \u001b[32m━━━━━━━━━━━━━━━━━━━━\u001b[0m\u001b[37m\u001b[0m \u001b[1m22s\u001b[0m 58ms/step - accuracy: 0.9200 - loss: 0.2197 - val_accuracy: 0.8728 - val_loss: 0.4160\n"
          ]
        },
        {
          "data": {
            "text/plain": [
              "<keras.src.callbacks.history.History at 0x1ecf19d01d0>"
            ]
          },
          "execution_count": 63,
          "metadata": {},
          "output_type": "execute_result"
        }
      ],
      "source": [
        "model.fit(\n",
        "    x_train_float[:, :, :, np.newaxis],\n",
        "    y_train_oh,\n",
        "    batch_size=32,\n",
        "    epochs=5,\n",
        "    validation_data=(x_val_float[:, :, :, np.newaxis], y_val_oh)\n",
        ")"
      ]
    },
    {
      "cell_type": "markdown",
      "metadata": {
        "id": "jkp5Zv0o2mu6"
      },
      "source": [
        "### **Загрузка тестового датасета**"
      ]
    },
    {
      "cell_type": "code",
      "execution_count": 64,
      "metadata": {
        "execution": {
          "iopub.execute_input": "2025-05-10T20:15:32.49655Z",
          "iopub.status.busy": "2025-05-10T20:15:32.496247Z",
          "iopub.status.idle": "2025-05-10T20:15:32.95477Z",
          "shell.execute_reply": "2025-05-10T20:15:32.953884Z",
          "shell.execute_reply.started": "2025-05-10T20:15:32.496521Z"
        },
        "id": "EXK2Y6aZYQUW",
        "trusted": true
      },
      "outputs": [
        {
          "name": "stdout",
          "output_type": "stream",
          "text": [
            "<class 'pandas.core.frame.DataFrame'>\n",
            "RangeIndex: 10000 entries, 0 to 9999\n",
            "Columns: 785 entries, pixel1 to Id\n",
            "dtypes: int64(785)\n",
            "memory usage: 59.9 MB\n"
          ]
        }
      ],
      "source": [
        "test_df = pd.read_csv('D:/mifi/myvenv/DL/fmnist_test.csv')\n",
        "test_df.info()"
      ]
    },
    {
      "cell_type": "code",
      "execution_count": 65,
      "metadata": {
        "execution": {
          "iopub.execute_input": "2025-05-10T20:15:32.956043Z",
          "iopub.status.busy": "2025-05-10T20:15:32.955734Z",
          "iopub.status.idle": "2025-05-10T20:15:32.975132Z",
          "shell.execute_reply": "2025-05-10T20:15:32.974474Z",
          "shell.execute_reply.started": "2025-05-10T20:15:32.956016Z"
        },
        "id": "nAC8P-BS2mu7",
        "trusted": true
      },
      "outputs": [],
      "source": [
        "# Приводим к нужному виду\n",
        "test_np = test_df.drop(columns=['Id']).to_numpy().reshape(-1, 28, 28)\n",
        "ids = test_df['Id'].to_numpy()"
      ]
    },
    {
      "cell_type": "code",
      "execution_count": 66,
      "metadata": {
        "execution": {
          "iopub.execute_input": "2025-05-10T20:15:32.976312Z",
          "iopub.status.busy": "2025-05-10T20:15:32.975968Z",
          "iopub.status.idle": "2025-05-10T20:15:34.525779Z",
          "shell.execute_reply": "2025-05-10T20:15:34.525162Z",
          "shell.execute_reply.started": "2025-05-10T20:15:32.976283Z"
        },
        "id": "zsZnGPTg2mu7",
        "trusted": true
      },
      "outputs": [
        {
          "name": "stdout",
          "output_type": "stream",
          "text": [
            "\u001b[1m313/313\u001b[0m \u001b[32m━━━━━━━━━━━━━━━━━━━━\u001b[0m\u001b[37m\u001b[0m \u001b[1m7s\u001b[0m 23ms/step\n"
          ]
        }
      ],
      "source": [
        "# Делаем предсказание и выбираем одну метку\n",
        "res_raw = model.predict(test_np)\n",
        "res = tf.argmax(res_raw, axis=1)"
      ]
    },
    {
      "cell_type": "code",
      "execution_count": 67,
      "metadata": {
        "execution": {
          "iopub.execute_input": "2025-05-10T20:15:34.527227Z",
          "iopub.status.busy": "2025-05-10T20:15:34.52665Z",
          "iopub.status.idle": "2025-05-10T20:15:34.535226Z",
          "shell.execute_reply": "2025-05-10T20:15:34.534272Z",
          "shell.execute_reply.started": "2025-05-10T20:15:34.527206Z"
        },
        "id": "bQ5bz2by2mu7",
        "trusted": true
      },
      "outputs": [
        {
          "data": {
            "application/vnd.microsoft.datawrangler.viewer.v0+json": {
              "columns": [
                {
                  "name": "index",
                  "rawType": "int64",
                  "type": "integer"
                },
                {
                  "name": "Id",
                  "rawType": "int64",
                  "type": "integer"
                },
                {
                  "name": "label",
                  "rawType": "int64",
                  "type": "integer"
                }
              ],
              "ref": "5b8cc9e5-e991-4389-95ac-e8cee88fd774",
              "rows": [
                [
                  "0",
                  "0",
                  "0"
                ],
                [
                  "1",
                  "1",
                  "1"
                ],
                [
                  "2",
                  "2",
                  "2"
                ],
                [
                  "3",
                  "3",
                  "6"
                ],
                [
                  "4",
                  "4",
                  "4"
                ]
              ],
              "shape": {
                "columns": 2,
                "rows": 5
              }
            },
            "text/html": [
              "<div>\n",
              "<style scoped>\n",
              "    .dataframe tbody tr th:only-of-type {\n",
              "        vertical-align: middle;\n",
              "    }\n",
              "\n",
              "    .dataframe tbody tr th {\n",
              "        vertical-align: top;\n",
              "    }\n",
              "\n",
              "    .dataframe thead th {\n",
              "        text-align: right;\n",
              "    }\n",
              "</style>\n",
              "<table border=\"1\" class=\"dataframe\">\n",
              "  <thead>\n",
              "    <tr style=\"text-align: right;\">\n",
              "      <th></th>\n",
              "      <th>Id</th>\n",
              "      <th>label</th>\n",
              "    </tr>\n",
              "  </thead>\n",
              "  <tbody>\n",
              "    <tr>\n",
              "      <th>0</th>\n",
              "      <td>0</td>\n",
              "      <td>0</td>\n",
              "    </tr>\n",
              "    <tr>\n",
              "      <th>1</th>\n",
              "      <td>1</td>\n",
              "      <td>1</td>\n",
              "    </tr>\n",
              "    <tr>\n",
              "      <th>2</th>\n",
              "      <td>2</td>\n",
              "      <td>2</td>\n",
              "    </tr>\n",
              "    <tr>\n",
              "      <th>3</th>\n",
              "      <td>3</td>\n",
              "      <td>6</td>\n",
              "    </tr>\n",
              "    <tr>\n",
              "      <th>4</th>\n",
              "      <td>4</td>\n",
              "      <td>4</td>\n",
              "    </tr>\n",
              "  </tbody>\n",
              "</table>\n",
              "</div>"
            ],
            "text/plain": [
              "   Id  label\n",
              "0   0      0\n",
              "1   1      1\n",
              "2   2      2\n",
              "3   3      6\n",
              "4   4      4"
            ]
          },
          "execution_count": 67,
          "metadata": {},
          "output_type": "execute_result"
        }
      ],
      "source": [
        "# Готовим итоговый датафрейм\n",
        "res_df = pd.DataFrame({\n",
        "    'Id': ids,\n",
        "    'label': res.numpy()\n",
        "})\n",
        "res_df.head()"
      ]
    },
    {
      "cell_type": "markdown",
      "metadata": {
        "id": "7KNuVCHJ2mu7"
      },
      "source": [
        "# **ЭКСПОРТИРУЕМ РЕЗУЛЬТАТ**"
      ]
    },
    {
      "cell_type": "code",
      "execution_count": 68,
      "metadata": {
        "execution": {
          "iopub.execute_input": "2025-05-10T20:15:34.536608Z",
          "iopub.status.busy": "2025-05-10T20:15:34.536144Z",
          "iopub.status.idle": "2025-05-10T20:15:34.555011Z",
          "shell.execute_reply": "2025-05-10T20:15:34.554298Z",
          "shell.execute_reply.started": "2025-05-10T20:15:34.53658Z"
        },
        "id": "2hEPzqmo2mu7",
        "trusted": true
      },
      "outputs": [],
      "source": [
        "res_df.to_csv('D:/mifi/myvenv/DL/submission.csv', index=False)"
      ]
    }
  ],
  "metadata": {
    "accelerator": "GPU",
    "colab": {
      "provenance": []
    },
    "kaggle": {
      "accelerator": "nvidiaTeslaT4",
      "dataSources": [
        {
          "databundleVersionId": 11903780,
          "sourceId": 99580,
          "sourceType": "competition"
        }
      ],
      "dockerImageVersionId": 31011,
      "isGpuEnabled": true,
      "isInternetEnabled": true,
      "language": "python",
      "sourceType": "notebook"
    },
    "kernelspec": {
      "display_name": "myvenv",
      "language": "python",
      "name": "python3"
    },
    "language_info": {
      "codemirror_mode": {
        "name": "ipython",
        "version": 3
      },
      "file_extension": ".py",
      "mimetype": "text/x-python",
      "name": "python",
      "nbconvert_exporter": "python",
      "pygments_lexer": "ipython3",
      "version": "3.11.4"
    }
  },
  "nbformat": 4,
  "nbformat_minor": 0
}
